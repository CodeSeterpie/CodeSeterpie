{
  "nbformat": 4,
  "nbformat_minor": 0,
  "metadata": {
    "colab": {
      "name": "notebook02.ipynb",
      "provenance": [],
      "collapsed_sections": []
    },
    "kernelspec": {
      "name": "python3",
      "display_name": "Python 3"
    }
  },
  "cells": [
    {
      "cell_type": "code",
      "metadata": {
        "id": "h8h9u9nrjDmW",
        "colab_type": "code",
        "colab": {
          "base_uri": "https://localhost:8080/",
          "height": 122
        },
        "outputId": "930090ca-2e1a-4e06-a0d3-7582fc3e4daa"
      },
      "source": [
        "from google.colab import drive\n",
        "drive.mount('/content/drive')"
      ],
      "execution_count": 1,
      "outputs": [
        {
          "output_type": "stream",
          "text": [
            "Go to this URL in a browser: https://accounts.google.com/o/oauth2/auth?client_id=947318989803-6bn6qk8qdgf4n4g3pfee6491hc0brc4i.apps.googleusercontent.com&redirect_uri=urn%3aietf%3awg%3aoauth%3a2.0%3aoob&scope=email%20https%3a%2f%2fwww.googleapis.com%2fauth%2fdocs.test%20https%3a%2f%2fwww.googleapis.com%2fauth%2fdrive%20https%3a%2f%2fwww.googleapis.com%2fauth%2fdrive.photos.readonly%20https%3a%2f%2fwww.googleapis.com%2fauth%2fpeopleapi.readonly&response_type=code\n",
            "\n",
            "Enter your authorization code:\n",
            "··········\n",
            "Mounted at /content/drive\n"
          ],
          "name": "stdout"
        }
      ]
    },
    {
      "cell_type": "code",
      "metadata": {
        "id": "rKezVwBNetfx",
        "colab_type": "code",
        "colab": {
          "base_uri": "https://localhost:8080/",
          "height": 173
        },
        "outputId": "01928ddb-7c12-4513-ec2e-6633c601e070"
      },
      "source": [
        "import os\n",
        "import pandas as pd\n",
        "import numpy as np\n",
        "import seaborn as sns\n",
        "import matplotlib.pyplot as plt\n",
        "from keras.models import Sequential\n",
        "from keras.layers import Dense,  LSTM\n",
        "from keras import metrics\n",
        "from sklearn.preprocessing import MinMaxScaler\n",
        "from datetime import date, timedelta\n",
        "# inputフォルダに格納されているファイルの一覧を出力\n",
        "for dirname, _, filenames in os.walk('/content/drive/My Drive/CodeSeterpie/PredictFutureSales/input'):\n",
        "    for filename in filenames:\n",
        "        \n",
        "        print(os.path.join(dirname, filename))\n",
        "\n",
        "# データを読み込み\n",
        "item_categories = pd.read_csv('/content/drive/My Drive/CodeSeterpie/PredictFutureSales/input/item_categories.csv')\n",
        "items = pd.read_csv('/content/drive/My Drive/CodeSeterpie/PredictFutureSales/input/items.csv')\n",
        "sales_train = pd.read_csv('/content/drive/My Drive/CodeSeterpie/PredictFutureSales/input/sales_train.csv')\n",
        "sample_submission = pd.read_csv('/content/drive/My Drive/CodeSeterpie/PredictFutureSales/input/sample_submission.csv')\n",
        "shops = pd.read_csv('/content/drive/My Drive/CodeSeterpie/PredictFutureSales/input/shops.csv')\n",
        "test = pd.read_csv('/content/drive/My Drive/CodeSeterpie/PredictFutureSales/input/test.csv')\n"
      ],
      "execution_count": 2,
      "outputs": [
        {
          "output_type": "stream",
          "text": [
            "/usr/local/lib/python3.6/dist-packages/statsmodels/tools/_testing.py:19: FutureWarning: pandas.util.testing is deprecated. Use the functions in the public API at pandas.testing instead.\n",
            "  import pandas.util.testing as tm\n"
          ],
          "name": "stderr"
        },
        {
          "output_type": "stream",
          "text": [
            "/content/drive/My Drive/CodeSeterpie/PredictFutureSales/input/item_categories.csv\n",
            "/content/drive/My Drive/CodeSeterpie/PredictFutureSales/input/items.csv\n",
            "/content/drive/My Drive/CodeSeterpie/PredictFutureSales/input/sales_train.csv\n",
            "/content/drive/My Drive/CodeSeterpie/PredictFutureSales/input/sample_submission.csv\n",
            "/content/drive/My Drive/CodeSeterpie/PredictFutureSales/input/shops.csv\n",
            "/content/drive/My Drive/CodeSeterpie/PredictFutureSales/input/test.csv\n"
          ],
          "name": "stdout"
        }
      ]
    },
    {
      "cell_type": "code",
      "metadata": {
        "id": "8vrfAPiNo1xD",
        "colab_type": "code",
        "colab": {
          "base_uri": "https://localhost:8080/",
          "height": 34
        },
        "outputId": "5cdf56bc-1a97-4e46-ad00-44b8a7d88182"
      },
      "source": [
        "sales_train_groupby = sales_train.drop(['date', 'item_price'], axis=1)\n",
        "sales_train_groupby = sales_train_groupby.groupby(['date_block_num', 'shop_id', 'item_id']).sum().reset_index()\n",
        "\n",
        "#sales_train_groupby.head(20)\n",
        "sales_train['date_block_num'].min()"
      ],
      "execution_count": 3,
      "outputs": [
        {
          "output_type": "execute_result",
          "data": {
            "text/plain": [
              "0"
            ]
          },
          "metadata": {
            "tags": []
          },
          "execution_count": 3
        }
      ]
    },
    {
      "cell_type": "code",
      "metadata": {
        "id": "JtNlsFNgiMcV",
        "colab_type": "code",
        "colab": {}
      },
      "source": [
        "df = sales_train_groupby.sort_values(['shop_id', 'item_id', 'date_block_num'])\n",
        "df = df.reset_index(drop=True)\n",
        "\n",
        "\n",
        "#df = df[df.item_id == 20949]\n",
        "#df = df[df.shop_id == 28]\n",
        "\n",
        "#df.head(20)"
      ],
      "execution_count": 4,
      "outputs": []
    },
    {
      "cell_type": "code",
      "metadata": {
        "id": "OIslbFkz39I8",
        "colab_type": "code",
        "colab": {
          "base_uri": "https://localhost:8080/",
          "height": 204
        },
        "outputId": "089084f1-b52e-4b02-ba45-d4692713dafa"
      },
      "source": [
        "test = test.sort_values(['shop_id', 'item_id'])\n",
        "test = test.reset_index(drop=True)\n",
        "\n",
        "test.head()"
      ],
      "execution_count": 5,
      "outputs": [
        {
          "output_type": "execute_result",
          "data": {
            "text/html": [
              "<div>\n",
              "<style scoped>\n",
              "    .dataframe tbody tr th:only-of-type {\n",
              "        vertical-align: middle;\n",
              "    }\n",
              "\n",
              "    .dataframe tbody tr th {\n",
              "        vertical-align: top;\n",
              "    }\n",
              "\n",
              "    .dataframe thead th {\n",
              "        text-align: right;\n",
              "    }\n",
              "</style>\n",
              "<table border=\"1\" class=\"dataframe\">\n",
              "  <thead>\n",
              "    <tr style=\"text-align: right;\">\n",
              "      <th></th>\n",
              "      <th>ID</th>\n",
              "      <th>shop_id</th>\n",
              "      <th>item_id</th>\n",
              "    </tr>\n",
              "  </thead>\n",
              "  <tbody>\n",
              "    <tr>\n",
              "      <th>0</th>\n",
              "      <td>22987</td>\n",
              "      <td>2</td>\n",
              "      <td>30</td>\n",
              "    </tr>\n",
              "    <tr>\n",
              "      <th>1</th>\n",
              "      <td>20994</td>\n",
              "      <td>2</td>\n",
              "      <td>31</td>\n",
              "    </tr>\n",
              "    <tr>\n",
              "      <th>2</th>\n",
              "      <td>20995</td>\n",
              "      <td>2</td>\n",
              "      <td>32</td>\n",
              "    </tr>\n",
              "    <tr>\n",
              "      <th>3</th>\n",
              "      <td>22492</td>\n",
              "      <td>2</td>\n",
              "      <td>33</td>\n",
              "    </tr>\n",
              "    <tr>\n",
              "      <th>4</th>\n",
              "      <td>22491</td>\n",
              "      <td>2</td>\n",
              "      <td>38</td>\n",
              "    </tr>\n",
              "  </tbody>\n",
              "</table>\n",
              "</div>"
            ],
            "text/plain": [
              "      ID  shop_id  item_id\n",
              "0  22987        2       30\n",
              "1  20994        2       31\n",
              "2  20995        2       32\n",
              "3  22492        2       33\n",
              "4  22491        2       38"
            ]
          },
          "metadata": {
            "tags": []
          },
          "execution_count": 5
        }
      ]
    },
    {
      "cell_type": "code",
      "metadata": {
        "id": "bias-imLfeRk",
        "colab_type": "code",
        "colab": {
          "base_uri": "https://localhost:8080/",
          "height": 1000
        },
        "outputId": "b9744fc6-a87a-430d-9ffe-0476b26dc297"
      },
      "source": [
        "for index, row in test.iterrows():\n",
        "    if index == 5:\n",
        "        break\n",
        "    print(row[1])\n",
        "    print(row[2])\n",
        "    for i in range(0, 35):\n",
        "        if len(df[(df.date_block_num == i) & (df.shop_id == row[1]) & (df.item_id == row[2])]) == 0:\n",
        "            df = df.append({'date_block_num': i, 'shop_id': row[1], 'item_id': row[2], 'item_cnt_day': 0.0}, ignore_index=True)\n",
        "\n",
        "df = df.sort_values(['shop_id', 'item_id', 'date_block_num'])\n",
        "df = df.reset_index(drop=True)\n",
        "\n",
        "\n",
        "df.head(35)"
      ],
      "execution_count": 6,
      "outputs": [
        {
          "output_type": "stream",
          "text": [
            "2\n",
            "30\n",
            "2\n",
            "31\n",
            "2\n",
            "32\n",
            "2\n",
            "33\n",
            "2\n",
            "38\n"
          ],
          "name": "stdout"
        },
        {
          "output_type": "execute_result",
          "data": {
            "text/html": [
              "<div>\n",
              "<style scoped>\n",
              "    .dataframe tbody tr th:only-of-type {\n",
              "        vertical-align: middle;\n",
              "    }\n",
              "\n",
              "    .dataframe tbody tr th {\n",
              "        vertical-align: top;\n",
              "    }\n",
              "\n",
              "    .dataframe thead th {\n",
              "        text-align: right;\n",
              "    }\n",
              "</style>\n",
              "<table border=\"1\" class=\"dataframe\">\n",
              "  <thead>\n",
              "    <tr style=\"text-align: right;\">\n",
              "      <th></th>\n",
              "      <th>date_block_num</th>\n",
              "      <th>shop_id</th>\n",
              "      <th>item_id</th>\n",
              "      <th>item_cnt_day</th>\n",
              "    </tr>\n",
              "  </thead>\n",
              "  <tbody>\n",
              "    <tr>\n",
              "      <th>0</th>\n",
              "      <td>1.0</td>\n",
              "      <td>0.0</td>\n",
              "      <td>30.0</td>\n",
              "      <td>31.0</td>\n",
              "    </tr>\n",
              "    <tr>\n",
              "      <th>1</th>\n",
              "      <td>1.0</td>\n",
              "      <td>0.0</td>\n",
              "      <td>31.0</td>\n",
              "      <td>11.0</td>\n",
              "    </tr>\n",
              "    <tr>\n",
              "      <th>2</th>\n",
              "      <td>0.0</td>\n",
              "      <td>0.0</td>\n",
              "      <td>32.0</td>\n",
              "      <td>6.0</td>\n",
              "    </tr>\n",
              "    <tr>\n",
              "      <th>3</th>\n",
              "      <td>1.0</td>\n",
              "      <td>0.0</td>\n",
              "      <td>32.0</td>\n",
              "      <td>10.0</td>\n",
              "    </tr>\n",
              "    <tr>\n",
              "      <th>4</th>\n",
              "      <td>0.0</td>\n",
              "      <td>0.0</td>\n",
              "      <td>33.0</td>\n",
              "      <td>3.0</td>\n",
              "    </tr>\n",
              "    <tr>\n",
              "      <th>5</th>\n",
              "      <td>1.0</td>\n",
              "      <td>0.0</td>\n",
              "      <td>33.0</td>\n",
              "      <td>3.0</td>\n",
              "    </tr>\n",
              "    <tr>\n",
              "      <th>6</th>\n",
              "      <td>0.0</td>\n",
              "      <td>0.0</td>\n",
              "      <td>35.0</td>\n",
              "      <td>1.0</td>\n",
              "    </tr>\n",
              "    <tr>\n",
              "      <th>7</th>\n",
              "      <td>1.0</td>\n",
              "      <td>0.0</td>\n",
              "      <td>35.0</td>\n",
              "      <td>14.0</td>\n",
              "    </tr>\n",
              "    <tr>\n",
              "      <th>8</th>\n",
              "      <td>1.0</td>\n",
              "      <td>0.0</td>\n",
              "      <td>36.0</td>\n",
              "      <td>1.0</td>\n",
              "    </tr>\n",
              "    <tr>\n",
              "      <th>9</th>\n",
              "      <td>1.0</td>\n",
              "      <td>0.0</td>\n",
              "      <td>40.0</td>\n",
              "      <td>1.0</td>\n",
              "    </tr>\n",
              "    <tr>\n",
              "      <th>10</th>\n",
              "      <td>1.0</td>\n",
              "      <td>0.0</td>\n",
              "      <td>42.0</td>\n",
              "      <td>1.0</td>\n",
              "    </tr>\n",
              "    <tr>\n",
              "      <th>11</th>\n",
              "      <td>0.0</td>\n",
              "      <td>0.0</td>\n",
              "      <td>43.0</td>\n",
              "      <td>1.0</td>\n",
              "    </tr>\n",
              "    <tr>\n",
              "      <th>12</th>\n",
              "      <td>1.0</td>\n",
              "      <td>0.0</td>\n",
              "      <td>49.0</td>\n",
              "      <td>2.0</td>\n",
              "    </tr>\n",
              "    <tr>\n",
              "      <th>13</th>\n",
              "      <td>0.0</td>\n",
              "      <td>0.0</td>\n",
              "      <td>51.0</td>\n",
              "      <td>2.0</td>\n",
              "    </tr>\n",
              "    <tr>\n",
              "      <th>14</th>\n",
              "      <td>1.0</td>\n",
              "      <td>0.0</td>\n",
              "      <td>51.0</td>\n",
              "      <td>3.0</td>\n",
              "    </tr>\n",
              "    <tr>\n",
              "      <th>15</th>\n",
              "      <td>1.0</td>\n",
              "      <td>0.0</td>\n",
              "      <td>57.0</td>\n",
              "      <td>1.0</td>\n",
              "    </tr>\n",
              "    <tr>\n",
              "      <th>16</th>\n",
              "      <td>1.0</td>\n",
              "      <td>0.0</td>\n",
              "      <td>59.0</td>\n",
              "      <td>1.0</td>\n",
              "    </tr>\n",
              "    <tr>\n",
              "      <th>17</th>\n",
              "      <td>0.0</td>\n",
              "      <td>0.0</td>\n",
              "      <td>61.0</td>\n",
              "      <td>1.0</td>\n",
              "    </tr>\n",
              "    <tr>\n",
              "      <th>18</th>\n",
              "      <td>0.0</td>\n",
              "      <td>0.0</td>\n",
              "      <td>75.0</td>\n",
              "      <td>1.0</td>\n",
              "    </tr>\n",
              "    <tr>\n",
              "      <th>19</th>\n",
              "      <td>1.0</td>\n",
              "      <td>0.0</td>\n",
              "      <td>85.0</td>\n",
              "      <td>1.0</td>\n",
              "    </tr>\n",
              "    <tr>\n",
              "      <th>20</th>\n",
              "      <td>0.0</td>\n",
              "      <td>0.0</td>\n",
              "      <td>88.0</td>\n",
              "      <td>1.0</td>\n",
              "    </tr>\n",
              "    <tr>\n",
              "      <th>21</th>\n",
              "      <td>0.0</td>\n",
              "      <td>0.0</td>\n",
              "      <td>95.0</td>\n",
              "      <td>1.0</td>\n",
              "    </tr>\n",
              "    <tr>\n",
              "      <th>22</th>\n",
              "      <td>0.0</td>\n",
              "      <td>0.0</td>\n",
              "      <td>96.0</td>\n",
              "      <td>1.0</td>\n",
              "    </tr>\n",
              "    <tr>\n",
              "      <th>23</th>\n",
              "      <td>1.0</td>\n",
              "      <td>0.0</td>\n",
              "      <td>97.0</td>\n",
              "      <td>1.0</td>\n",
              "    </tr>\n",
              "    <tr>\n",
              "      <th>24</th>\n",
              "      <td>0.0</td>\n",
              "      <td>0.0</td>\n",
              "      <td>98.0</td>\n",
              "      <td>25.0</td>\n",
              "    </tr>\n",
              "    <tr>\n",
              "      <th>25</th>\n",
              "      <td>1.0</td>\n",
              "      <td>0.0</td>\n",
              "      <td>98.0</td>\n",
              "      <td>5.0</td>\n",
              "    </tr>\n",
              "    <tr>\n",
              "      <th>26</th>\n",
              "      <td>0.0</td>\n",
              "      <td>0.0</td>\n",
              "      <td>111.0</td>\n",
              "      <td>1.0</td>\n",
              "    </tr>\n",
              "    <tr>\n",
              "      <th>27</th>\n",
              "      <td>1.0</td>\n",
              "      <td>0.0</td>\n",
              "      <td>111.0</td>\n",
              "      <td>1.0</td>\n",
              "    </tr>\n",
              "    <tr>\n",
              "      <th>28</th>\n",
              "      <td>1.0</td>\n",
              "      <td>0.0</td>\n",
              "      <td>115.0</td>\n",
              "      <td>1.0</td>\n",
              "    </tr>\n",
              "    <tr>\n",
              "      <th>29</th>\n",
              "      <td>1.0</td>\n",
              "      <td>0.0</td>\n",
              "      <td>136.0</td>\n",
              "      <td>1.0</td>\n",
              "    </tr>\n",
              "    <tr>\n",
              "      <th>30</th>\n",
              "      <td>0.0</td>\n",
              "      <td>0.0</td>\n",
              "      <td>149.0</td>\n",
              "      <td>3.0</td>\n",
              "    </tr>\n",
              "    <tr>\n",
              "      <th>31</th>\n",
              "      <td>0.0</td>\n",
              "      <td>0.0</td>\n",
              "      <td>151.0</td>\n",
              "      <td>1.0</td>\n",
              "    </tr>\n",
              "    <tr>\n",
              "      <th>32</th>\n",
              "      <td>1.0</td>\n",
              "      <td>0.0</td>\n",
              "      <td>152.0</td>\n",
              "      <td>1.0</td>\n",
              "    </tr>\n",
              "    <tr>\n",
              "      <th>33</th>\n",
              "      <td>0.0</td>\n",
              "      <td>0.0</td>\n",
              "      <td>153.0</td>\n",
              "      <td>1.0</td>\n",
              "    </tr>\n",
              "    <tr>\n",
              "      <th>34</th>\n",
              "      <td>1.0</td>\n",
              "      <td>0.0</td>\n",
              "      <td>153.0</td>\n",
              "      <td>2.0</td>\n",
              "    </tr>\n",
              "  </tbody>\n",
              "</table>\n",
              "</div>"
            ],
            "text/plain": [
              "    date_block_num  shop_id  item_id  item_cnt_day\n",
              "0              1.0      0.0     30.0          31.0\n",
              "1              1.0      0.0     31.0          11.0\n",
              "2              0.0      0.0     32.0           6.0\n",
              "3              1.0      0.0     32.0          10.0\n",
              "4              0.0      0.0     33.0           3.0\n",
              "5              1.0      0.0     33.0           3.0\n",
              "6              0.0      0.0     35.0           1.0\n",
              "7              1.0      0.0     35.0          14.0\n",
              "8              1.0      0.0     36.0           1.0\n",
              "9              1.0      0.0     40.0           1.0\n",
              "10             1.0      0.0     42.0           1.0\n",
              "11             0.0      0.0     43.0           1.0\n",
              "12             1.0      0.0     49.0           2.0\n",
              "13             0.0      0.0     51.0           2.0\n",
              "14             1.0      0.0     51.0           3.0\n",
              "15             1.0      0.0     57.0           1.0\n",
              "16             1.0      0.0     59.0           1.0\n",
              "17             0.0      0.0     61.0           1.0\n",
              "18             0.0      0.0     75.0           1.0\n",
              "19             1.0      0.0     85.0           1.0\n",
              "20             0.0      0.0     88.0           1.0\n",
              "21             0.0      0.0     95.0           1.0\n",
              "22             0.0      0.0     96.0           1.0\n",
              "23             1.0      0.0     97.0           1.0\n",
              "24             0.0      0.0     98.0          25.0\n",
              "25             1.0      0.0     98.0           5.0\n",
              "26             0.0      0.0    111.0           1.0\n",
              "27             1.0      0.0    111.0           1.0\n",
              "28             1.0      0.0    115.0           1.0\n",
              "29             1.0      0.0    136.0           1.0\n",
              "30             0.0      0.0    149.0           3.0\n",
              "31             0.0      0.0    151.0           1.0\n",
              "32             1.0      0.0    152.0           1.0\n",
              "33             0.0      0.0    153.0           1.0\n",
              "34             1.0      0.0    153.0           2.0"
            ]
          },
          "metadata": {
            "tags": []
          },
          "execution_count": 6
        }
      ]
    },
    {
      "cell_type": "code",
      "metadata": {
        "id": "10mU2KFw7S2g",
        "colab_type": "code",
        "colab": {}
      },
      "source": [
        "\n",
        "L = len(df)\n",
        "Y = df.iloc[:, 3]  # 終値の列のみ抽出する。\n",
        "Y = np.array(Y)  # numpy配列に変換する。\n",
        "Y = Y.reshape(-1, 1)  # 行列に変換する。（配列の要素数行×1列）\n",
        "\n",
        "X1 = Y[0:L-5, :]  # 予測対象日の3日前のデータ\n",
        "X2 = Y[1:L-4, :]  # 予測対象日の2日前のデータ\n",
        "X3 = Y[2:L-3, :]  # 予測対象日の前日データ\n",
        "X4 = Y[3:L-2, :]  # 予測対象日の前日データ\n",
        "X5 = Y[4:L-1, :]  # 予測対象日の前日データ\n",
        "Y = Y[5:L, :]  # 予測対象日のデータ\n",
        "X = np.concatenate([X1, X2, X3, X4, X5], axis=1)  # numpy配列を結合する。"
      ],
      "execution_count": 7,
      "outputs": []
    },
    {
      "cell_type": "code",
      "metadata": {
        "id": "puW0WZmjD5_W",
        "colab_type": "code",
        "colab": {
          "base_uri": "https://localhost:8080/",
          "height": 238
        },
        "outputId": "5d1c42df-899e-4c9e-f6ff-118801645b38"
      },
      "source": [
        "scaler = MinMaxScaler()  # データを0～1の範囲にスケールするための関数。\n",
        "scaler.fit(X)  # スケーリングに使用する最小／最大値を計算する。\n",
        "X = scaler.transform(X)  # Xをを0～1の範囲にスケーリングする。\n",
        "\n",
        "scaler1 = MinMaxScaler()  # データを0～1の範囲にスケールするための関数。\n",
        "scaler1.fit(Y)  # スケーリングに使用する最小／最大値を計算する。\n",
        "Y = scaler1.transform(Y)  # Yをを0～1の範囲にスケーリングする。\n",
        "\n",
        "X = np.reshape(X, (X.shape[0], 1, X.shape[1]))  # 3次元配列に変換する。\n",
        "\n",
        "print(X)"
      ],
      "execution_count": 8,
      "outputs": [
        {
          "output_type": "stream",
          "text": [
            "[[[0.0232967  0.01450549 0.01230769 0.01406593 0.01098901]]\n",
            "\n",
            " [[0.01450549 0.01230769 0.01406593 0.01098901 0.01098901]]\n",
            "\n",
            " [[0.01230769 0.01406593 0.01098901 0.01098901 0.01010989]]\n",
            "\n",
            " ...\n",
            "\n",
            " [[0.01010989 0.01054945 0.01010989 0.01054945 0.01010989]]\n",
            "\n",
            " [[0.01054945 0.01010989 0.01054945 0.01010989 0.01010989]]\n",
            "\n",
            " [[0.01010989 0.01054945 0.01010989 0.01010989 0.01054945]]]\n"
          ],
          "name": "stdout"
        }
      ]
    },
    {
      "cell_type": "code",
      "metadata": {
        "id": "0RyzdzFE1TmY",
        "colab_type": "code",
        "colab": {
          "base_uri": "https://localhost:8080/",
          "height": 51
        },
        "outputId": "6cb7a7c0-b96e-4e88-abc2-ff34dde7f73f"
      },
      "source": [
        "# train, testデータを定義\n",
        "X_train = X[:20, :, :]\n",
        "X_test = X[20:, :, :]\n",
        "Y_train = Y[:20, :]\n",
        "Y_test = Y[20:, :]\n",
        "\n",
        "print(len(X_train))\n",
        "print(len(X_test))"
      ],
      "execution_count": 9,
      "outputs": [
        {
          "output_type": "stream",
          "text": [
            "20\n",
            "1609247\n"
          ],
          "name": "stdout"
        }
      ]
    },
    {
      "cell_type": "code",
      "metadata": {
        "id": "U0fIyIjOmQwF",
        "colab_type": "code",
        "colab": {}
      },
      "source": [
        "model = Sequential()\n",
        "model.add(LSTM(10, \n",
        "               activation = 'tanh', \n",
        "               input_shape = (1,5), \n",
        "               recurrent_activation= 'hard_sigmoid'))\n",
        "model.add(Dense(1))\n",
        "\n",
        "model.compile(loss= 'mean_squared_error', \n",
        "              optimizer = 'rmsprop', \n",
        "              metrics=[metrics.mae])\n",
        "model.fit(X_train, Y_train, epochs=100, verbose=0)\n",
        "Predict = model.predict(X_test)\n"
      ],
      "execution_count": 10,
      "outputs": []
    },
    {
      "cell_type": "code",
      "metadata": {
        "id": "Ghns25i9EJ9r",
        "colab_type": "code",
        "colab": {
          "base_uri": "https://localhost:8080/",
          "height": 493
        },
        "outputId": "31891ace-1d02-4cb0-88d1-735fa5d29d0a"
      },
      "source": [
        "# オリジナルのスケールに戻す、タイムインデックスを付ける。\n",
        "Y_train = scaler1.inverse_transform(Y_train)\n",
        "Y_train = pd.DataFrame(Y_train)\n",
        "#Y_train.index = pd.to_datetime(df.iloc[5:705,0])\n",
        "\n",
        "Y_test = scaler1.inverse_transform(Y_test)\n",
        "Y_test = pd.DataFrame(Y_test)\n",
        "#Y_test.index = pd.to_datetime(df.iloc[705:,0])\n",
        "\n",
        "Predict = scaler1.inverse_transform(Predict)\n",
        "Predict = pd.DataFrame(Predict)\n",
        "#Predict.index=pd.to_datetime(df.iloc[705:,0])\n",
        "\n",
        "print(Y_test)\n",
        "print(Predict)"
      ],
      "execution_count": 11,
      "outputs": [
        {
          "output_type": "stream",
          "text": [
            "           0\n",
            "0        5.0\n",
            "1        1.0\n",
            "2        1.0\n",
            "3        1.0\n",
            "4        1.0\n",
            "...      ...\n",
            "1609242  2.0\n",
            "1609243  1.0\n",
            "1609244  1.0\n",
            "1609245  2.0\n",
            "1609246  1.0\n",
            "\n",
            "[1609247 rows x 1 columns]\n",
            "                0\n",
            "0        2.141835\n",
            "1       -0.812668\n",
            "2        2.763458\n",
            "3        0.764276\n",
            "4       -0.170478\n",
            "...           ...\n",
            "1609242  0.134500\n",
            "1609243  0.387382\n",
            "1609244  0.139182\n",
            "1609245  0.290320\n",
            "1609246  0.275607\n",
            "\n",
            "[1609247 rows x 1 columns]\n"
          ],
          "name": "stdout"
        }
      ]
    },
    {
      "cell_type": "code",
      "metadata": {
        "id": "rZKnengbEMmz",
        "colab_type": "code",
        "colab": {
          "base_uri": "https://localhost:8080/",
          "height": 605
        },
        "outputId": "ad3414f0-cc08-40bc-dd8f-6c22109e1a76"
      },
      "source": [
        "plt.figure(figsize=(15,10), facecolor='white')\n",
        "plt.plot(Y_test, label = 'Test')\n",
        "plt.plot(Predict, label = 'Prediction')\n",
        "plt.legend(loc='best')\n",
        "plt.show()"
      ],
      "execution_count": 12,
      "outputs": [
        {
          "output_type": "display_data",
          "data": {
            "image/png": "[encoded data removed]",
            "text/plain": [
              "<Figure size 1080x720 with 1 Axes>"
            ]
          },
          "metadata": {
            "tags": []
          }
        }
      ]
    }
  ]
}