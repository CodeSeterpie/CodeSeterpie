{
  "nbformat": 4,
  "nbformat_minor": 0,
  "metadata": {
    "colab": {
      "name": "notebook01.ipynb",
      "provenance": [],
      "collapsed_sections": []
    },
    "kernelspec": {
      "name": "python3",
      "display_name": "Python 3"
    }
  },
  "cells": [
    {
      "cell_type": "code",
      "metadata": {
        "id": "h8h9u9nrjDmW",
        "colab_type": "code",
        "colab": {
          "base_uri": "https://localhost:8080/",
          "height": 34
        },
        "outputId": "a2c76095-4fc5-4518-e35f-6a2abe123079"
      },
      "source": [
        "from google.colab import drive\n",
        "drive.mount('/content/drive')"
      ],
      "execution_count": 12,
      "outputs": [
        {
          "output_type": "stream",
          "text": [
            "Drive already mounted at /content/drive; to attempt to forcibly remount, call drive.mount(\"/content/drive\", force_remount=True).\n"
          ],
          "name": "stdout"
        }
      ]
    },
    {
      "cell_type": "code",
      "metadata": {
        "id": "rKezVwBNetfx",
        "colab_type": "code",
        "colab": {
          "base_uri": "https://localhost:8080/",
          "height": 119
        },
        "outputId": "4599007b-3aa8-40cb-fac3-3456e27ff6cf"
      },
      "source": [
        "import os\n",
        "import pandas as pd\n",
        "import numpy as np\n",
        "import seaborn as sns\n",
        "import matplotlib.pyplot as plt\n",
        "from keras.models import Sequential\n",
        "from keras.layers import Dense,  LSTM\n",
        "from keras import metrics\n",
        "from sklearn.preprocessing import MinMaxScaler\n",
        "from datetime import date, timedelta\n",
        "# inputフォルダに格納されているファイルの一覧を出力\n",
        "for dirname, _, filenames in os.walk('/content/drive/My Drive/CodeSeterpie/PredictFutureSales/input'):\n",
        "    for filename in filenames:\n",
        "        \n",
        "        print(os.path.join(dirname, filename))\n",
        "\n",
        "# データを読み込み\n",
        "item_categories = pd.read_csv('/content/drive/My Drive/CodeSeterpie/PredictFutureSales/input/item_categories.csv')\n",
        "items = pd.read_csv('/content/drive/My Drive/CodeSeterpie/PredictFutureSales/input/items.csv')\n",
        "sales_train = pd.read_csv('/content/drive/My Drive/CodeSeterpie/PredictFutureSales/input/sales_train.csv')\n",
        "sample_submission = pd.read_csv('/content/drive/My Drive/CodeSeterpie/PredictFutureSales/input/sample_submission.csv')\n",
        "shops = pd.read_csv('/content/drive/My Drive/CodeSeterpie/PredictFutureSales/input/shops.csv')\n",
        "test = pd.read_csv('/content/drive/My Drive/CodeSeterpie/PredictFutureSales/input/test.csv')\n"
      ],
      "execution_count": 13,
      "outputs": [
        {
          "output_type": "stream",
          "text": [
            "/content/drive/My Drive/CodeSeterpie/PredictFutureSales/input/item_categories.csv\n",
            "/content/drive/My Drive/CodeSeterpie/PredictFutureSales/input/items.csv\n",
            "/content/drive/My Drive/CodeSeterpie/PredictFutureSales/input/sales_train.csv\n",
            "/content/drive/My Drive/CodeSeterpie/PredictFutureSales/input/sample_submission.csv\n",
            "/content/drive/My Drive/CodeSeterpie/PredictFutureSales/input/shops.csv\n",
            "/content/drive/My Drive/CodeSeterpie/PredictFutureSales/input/test.csv\n"
          ],
          "name": "stdout"
        }
      ]
    },
    {
      "cell_type": "code",
      "metadata": {
        "id": "JtNlsFNgiMcV",
        "colab_type": "code",
        "colab": {}
      },
      "source": [
        "df = sales_train[sales_train.item_id == 3126]\n",
        "df = df[df.shop_id == 25]\n",
        "\n",
        "df['date'] = pd.to_datetime(df['date'])\n",
        "df = df.drop('date_block_num', axis=1)"
      ],
      "execution_count": 14,
      "outputs": []
    },
    {
      "cell_type": "code",
      "metadata": {
        "id": "Kn5p51muDO9c",
        "colab_type": "code",
        "colab": {
          "base_uri": "https://localhost:8080/",
          "height": 204
        },
        "outputId": "7c358ffc-afa2-4004-912c-9118eb580f2d"
      },
      "source": [
        "df.head()"
      ],
      "execution_count": 15,
      "outputs": [
        {
          "output_type": "execute_result",
          "data": {
            "text/html": [
              "<div>\n",
              "<style scoped>\n",
              "    .dataframe tbody tr th:only-of-type {\n",
              "        vertical-align: middle;\n",
              "    }\n",
              "\n",
              "    .dataframe tbody tr th {\n",
              "        vertical-align: top;\n",
              "    }\n",
              "\n",
              "    .dataframe thead th {\n",
              "        text-align: right;\n",
              "    }\n",
              "</style>\n",
              "<table border=\"1\" class=\"dataframe\">\n",
              "  <thead>\n",
              "    <tr style=\"text-align: right;\">\n",
              "      <th></th>\n",
              "      <th>date</th>\n",
              "      <th>shop_id</th>\n",
              "      <th>item_id</th>\n",
              "      <th>item_price</th>\n",
              "      <th>item_cnt_day</th>\n",
              "    </tr>\n",
              "  </thead>\n",
              "  <tbody>\n",
              "    <tr>\n",
              "      <th>319656</th>\n",
              "      <td>2013-02-03</td>\n",
              "      <td>25</td>\n",
              "      <td>3126</td>\n",
              "      <td>299.0</td>\n",
              "      <td>1.0</td>\n",
              "    </tr>\n",
              "    <tr>\n",
              "      <th>347356</th>\n",
              "      <td>2013-04-14</td>\n",
              "      <td>25</td>\n",
              "      <td>3126</td>\n",
              "      <td>299.0</td>\n",
              "      <td>1.0</td>\n",
              "    </tr>\n",
              "    <tr>\n",
              "      <th>453165</th>\n",
              "      <td>2013-02-05</td>\n",
              "      <td>25</td>\n",
              "      <td>3126</td>\n",
              "      <td>299.0</td>\n",
              "      <td>1.0</td>\n",
              "    </tr>\n",
              "    <tr>\n",
              "      <th>794478</th>\n",
              "      <td>2013-02-08</td>\n",
              "      <td>25</td>\n",
              "      <td>3126</td>\n",
              "      <td>299.0</td>\n",
              "      <td>1.0</td>\n",
              "    </tr>\n",
              "    <tr>\n",
              "      <th>868130</th>\n",
              "      <td>2013-06-09</td>\n",
              "      <td>25</td>\n",
              "      <td>3126</td>\n",
              "      <td>299.0</td>\n",
              "      <td>1.0</td>\n",
              "    </tr>\n",
              "  </tbody>\n",
              "</table>\n",
              "</div>"
            ],
            "text/plain": [
              "             date  shop_id  item_id  item_price  item_cnt_day\n",
              "319656 2013-02-03       25     3126       299.0           1.0\n",
              "347356 2013-04-14       25     3126       299.0           1.0\n",
              "453165 2013-02-05       25     3126       299.0           1.0\n",
              "794478 2013-02-08       25     3126       299.0           1.0\n",
              "868130 2013-06-09       25     3126       299.0           1.0"
            ]
          },
          "metadata": {
            "tags": []
          },
          "execution_count": 15
        }
      ]
    },
    {
      "cell_type": "code",
      "metadata": {
        "id": "20e5Ai-Kkuqe",
        "colab_type": "code",
        "colab": {
          "base_uri": "https://localhost:8080/",
          "height": 297
        },
        "outputId": "93664f3f-86d9-4625-8b09-9f908a4def4a"
      },
      "source": [
        "df.describe()"
      ],
      "execution_count": 16,
      "outputs": [
        {
          "output_type": "execute_result",
          "data": {
            "text/html": [
              "<div>\n",
              "<style scoped>\n",
              "    .dataframe tbody tr th:only-of-type {\n",
              "        vertical-align: middle;\n",
              "    }\n",
              "\n",
              "    .dataframe tbody tr th {\n",
              "        vertical-align: top;\n",
              "    }\n",
              "\n",
              "    .dataframe thead th {\n",
              "        text-align: right;\n",
              "    }\n",
              "</style>\n",
              "<table border=\"1\" class=\"dataframe\">\n",
              "  <thead>\n",
              "    <tr style=\"text-align: right;\">\n",
              "      <th></th>\n",
              "      <th>shop_id</th>\n",
              "      <th>item_id</th>\n",
              "      <th>item_price</th>\n",
              "      <th>item_cnt_day</th>\n",
              "    </tr>\n",
              "  </thead>\n",
              "  <tbody>\n",
              "    <tr>\n",
              "      <th>count</th>\n",
              "      <td>10.0</td>\n",
              "      <td>10.0</td>\n",
              "      <td>10.0</td>\n",
              "      <td>10.0</td>\n",
              "    </tr>\n",
              "    <tr>\n",
              "      <th>mean</th>\n",
              "      <td>25.0</td>\n",
              "      <td>3126.0</td>\n",
              "      <td>299.0</td>\n",
              "      <td>1.0</td>\n",
              "    </tr>\n",
              "    <tr>\n",
              "      <th>std</th>\n",
              "      <td>0.0</td>\n",
              "      <td>0.0</td>\n",
              "      <td>0.0</td>\n",
              "      <td>0.0</td>\n",
              "    </tr>\n",
              "    <tr>\n",
              "      <th>min</th>\n",
              "      <td>25.0</td>\n",
              "      <td>3126.0</td>\n",
              "      <td>299.0</td>\n",
              "      <td>1.0</td>\n",
              "    </tr>\n",
              "    <tr>\n",
              "      <th>25%</th>\n",
              "      <td>25.0</td>\n",
              "      <td>3126.0</td>\n",
              "      <td>299.0</td>\n",
              "      <td>1.0</td>\n",
              "    </tr>\n",
              "    <tr>\n",
              "      <th>50%</th>\n",
              "      <td>25.0</td>\n",
              "      <td>3126.0</td>\n",
              "      <td>299.0</td>\n",
              "      <td>1.0</td>\n",
              "    </tr>\n",
              "    <tr>\n",
              "      <th>75%</th>\n",
              "      <td>25.0</td>\n",
              "      <td>3126.0</td>\n",
              "      <td>299.0</td>\n",
              "      <td>1.0</td>\n",
              "    </tr>\n",
              "    <tr>\n",
              "      <th>max</th>\n",
              "      <td>25.0</td>\n",
              "      <td>3126.0</td>\n",
              "      <td>299.0</td>\n",
              "      <td>1.0</td>\n",
              "    </tr>\n",
              "  </tbody>\n",
              "</table>\n",
              "</div>"
            ],
            "text/plain": [
              "       shop_id  item_id  item_price  item_cnt_day\n",
              "count     10.0     10.0        10.0          10.0\n",
              "mean      25.0   3126.0       299.0           1.0\n",
              "std        0.0      0.0         0.0           0.0\n",
              "min       25.0   3126.0       299.0           1.0\n",
              "25%       25.0   3126.0       299.0           1.0\n",
              "50%       25.0   3126.0       299.0           1.0\n",
              "75%       25.0   3126.0       299.0           1.0\n",
              "max       25.0   3126.0       299.0           1.0"
            ]
          },
          "metadata": {
            "tags": []
          },
          "execution_count": 16
        }
      ]
    },
    {
      "cell_type": "code",
      "metadata": {
        "id": "bias-imLfeRk",
        "colab_type": "code",
        "colab": {}
      },
      "source": [
        "from datetime import date, timedelta\n",
        "d1 = date(2013,1,1)\n",
        "d2 = date(2015,10,31)\n",
        "for i in range((d2 - d1).days + 1):\n",
        "    date = d1 + timedelta(i)\n",
        "    if len(df[df.date == date]) == 0:\n",
        "        df = df.append({'date': date, 'shop_id': 25, 'item_id': 3126, 'item_price': 299.0, 'item_cnt_day': 0.0}, ignore_index=True)\n",
        "\n",
        "L = len(df)\n",
        "Y = df.iloc[:, 4]  # 終値の列のみ抽出する。\n",
        "Y = np.array(Y)  # numpy配列に変換する。\n",
        "Y = Y.reshape(-1, 1)  # 行列に変換する。（配列の要素数行×1列）\n",
        "\n",
        "X1 = Y[0:L-3, :]  # 予測対象日の3日前のデータ\n",
        "X2 = Y[1:L-2, :]  # 予測対象日の2日前のデータ\n",
        "X3 = Y[2:L-1, :]  # 予測対象日の前日データ\n",
        "Y = Y[3:L, :]  # 予測対象日のデータ\n",
        "X = np.concatenate([X1, X2, X3], axis=1)  # numpy配列を結合する。\n"
      ],
      "execution_count": 17,
      "outputs": []
    },
    {
      "cell_type": "code",
      "metadata": {
        "id": "puW0WZmjD5_W",
        "colab_type": "code",
        "colab": {}
      },
      "source": [
        "scaler = MinMaxScaler()  # データを0～1の範囲にスケールするための関数。\n",
        "scaler.fit(X)  # スケーリングに使用する最小／最大値を計算する。\n",
        "X = scaler.transform(X)  # Xをを0～1の範囲にスケーリングする。\n",
        "\n",
        "scaler1 = MinMaxScaler()  # データを0～1の範囲にスケールするための関数。\n",
        "scaler1.fit(Y)  # スケーリングに使用する最小／最大値を計算する。\n",
        "Y = scaler1.transform(Y)  # Yをを0～1の範囲にスケーリングする。\n",
        "\n",
        "X = np.reshape(X, (X.shape[0], 1, X.shape[1]))  # 3次元配列に変換する。"
      ],
      "execution_count": 18,
      "outputs": []
    },
    {
      "cell_type": "code",
      "metadata": {
        "id": "0RyzdzFE1TmY",
        "colab_type": "code",
        "colab": {}
      },
      "source": [
        "# train, testデータを定義\n",
        "X_train = X[:190, :, :]\n",
        "X_test = X[190:, :, :]\n",
        "Y_train = Y[:190, :]\n",
        "Y_test = Y[190:, :]"
      ],
      "execution_count": 19,
      "outputs": []
    },
    {
      "cell_type": "code",
      "metadata": {
        "id": "U0fIyIjOmQwF",
        "colab_type": "code",
        "colab": {}
      },
      "source": [
        "model = Sequential()\n",
        "model.add(LSTM(10, activation = 'tanh', input_shape = (1,3), recurrent_activation= 'hard_sigmoid'))\n",
        "model.add(Dense(1))\n",
        "\n",
        "model.compile(loss= 'mean_squared_error', optimizer = 'rmsprop', metrics=[metrics.mae])\n",
        "model.fit(X_train, Y_train, epochs=100, verbose=0)\n",
        "Predict = model.predict(X_test)\n"
      ],
      "execution_count": 20,
      "outputs": []
    },
    {
      "cell_type": "code",
      "metadata": {
        "id": "Ghns25i9EJ9r",
        "colab_type": "code",
        "colab": {}
      },
      "source": [
        "# オリジナルのスケールに戻す、タイムインデックスを付ける。\n",
        "Y_train = scaler1.inverse_transform(Y_train)\n",
        "Y_train = pd.DataFrame(Y_train)\n",
        "Y_train.index = pd.to_datetime(df.iloc[3:193,0])\n",
        "\n",
        "Y_test = scaler1.inverse_transform(Y_test)\n",
        "Y_test = pd.DataFrame(Y_test)\n",
        "Y_test.index = pd.to_datetime(df.iloc[193:,0])\n",
        "\n",
        "Predict = scaler1.inverse_transform(Predict)\n",
        "Predict = pd.DataFrame(Predict)\n",
        "Predict.index=pd.to_datetime(df.iloc[193:,0])\n"
      ],
      "execution_count": 21,
      "outputs": []
    },
    {
      "cell_type": "code",
      "metadata": {
        "id": "rZKnengbEMmz",
        "colab_type": "code",
        "colab": {
          "base_uri": "https://localhost:8080/",
          "height": 592
        },
        "outputId": "1487b4fa-f122-4dd3-9c9c-79c48d223032"
      },
      "source": [
        "plt.figure(figsize=(15,10))\n",
        "plt.plot(Y_test, label = 'Test')\n",
        "plt.plot(Predict, label = 'Prediction')\n",
        "plt.legend(loc='best')\n",
        "plt.show()"
      ],
      "execution_count": 22,
      "outputs": [
        {
          "output_type": "display_data",
          "data": {
            "image/png": "[encoded data removed]",
            "text/plain": [
              "<Figure size 1080x720 with 1 Axes>"
            ]
          },
          "metadata": {
            "tags": [],
            "needs_background": "light"
          }
        }
      ]
    }
  ]
}