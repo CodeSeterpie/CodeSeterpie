{
 "cells": [
  {
   "cell_type": "code",
   "execution_count": 1,
   "metadata": {
    "scrolled": true
   },
   "outputs": [
    {
     "name": "stdout",
     "output_type": "stream",
     "text": [
      "Inputファイルを表示: 2020-02-16 09:29:50.841137\n",
      "/kaggle/input/test.csv\n",
      "/kaggle/input/data_description.txt\n",
      "/kaggle/input/train.csv\n",
      "/kaggle/input/.ipynb_checkpoints/train-checkpoint.csv\n",
      "/kaggle/input/.ipynb_checkpoints/test-checkpoint.csv\n",
      "/kaggle/input/.ipynb_checkpoints/data_description-checkpoint.txt\n"
     ]
    }
   ],
   "source": [
    "import numpy as np\n",
    "import pandas as pd\n",
    "import matplotlib.pyplot as plt\n",
    "import seaborn as sns\n",
    "import xgboost as xgb\n",
    "from sklearn.metrics import mean_squared_error, accuracy_score\n",
    "from sklearn.model_selection import KFold\n",
    "from sklearn.preprocessing import LabelEncoder\n",
    "from sklearn.metrics import log_loss\n",
    "\n",
    "import os\n",
    "import datetime\n",
    "import itertools\n",
    "\n",
    "# ログ出力用の関数\n",
    "\n",
    "\n",
    "def printTime(tag):\n",
    "    print(tag + ':', datetime.datetime.now())\n",
    "\n",
    "\n",
    "printTime('Inputファイルを表示')\n",
    "for dirname, _, filenames in os.walk('/kaggle/input'):\n",
    "    for filename in filenames:\n",
    "        print(os.path.join(dirname, filename))"
   ]
  },
  {
   "cell_type": "markdown",
   "metadata": {},
   "source": [
    "#### 学習データの読み込み"
   ]
  },
  {
   "cell_type": "code",
   "execution_count": 2,
   "metadata": {},
   "outputs": [],
   "source": [
    "train = pd.read_csv('/kaggle/input/train.csv')\n",
    "test = pd.read_csv('/kaggle/input/test.csv')\n",
    "\n",
    "# 学習データを特徴量と目的変数に分ける\n",
    "train_x = train.drop(['SalePrice'], axis=1)\n",
    "train_y = train['SalePrice']\n",
    "\n",
    "# テストデータは特徴量のみなので、そのままでよい\n",
    "test_x = test.copy()"
   ]
  },
  {
   "cell_type": "markdown",
   "metadata": {},
   "source": [
    " #### 特徴量作成"
   ]
  },
  {
   "cell_type": "code",
   "execution_count": 3,
   "metadata": {},
   "outputs": [],
   "source": [
    "# 解析対象とする数値列を設定\n",
    "targets_num = ['1stFlrSF',\n",
    "               '2ndFlrSF'\n",
    "               'BsmtFinSF1',\n",
    "               'Fireplaces',\n",
    "               'FullBath',\n",
    "               'GarageArea',\n",
    "               'GarageCars',\n",
    "               'GarageYrBlt',\n",
    "               'GrLivArea',\n",
    "               'MasVnrArea',\n",
    "               'OverallQual',\n",
    "               'OverallCond',\n",
    "               'TotalBsmtSF',\n",
    "               'TotRmsAbvGrd',\n",
    "               'YearBuilt',\n",
    "               'YearRemodAdd']\n",
    "\n",
    "# 解析対象とするカテゴリ列を設定\n",
    "targets_category = [\n",
    "                    'MSSubClass',\n",
    "                    'MSZoning',\n",
    "                    'Street',\n",
    "                    'Alley',\n",
    "                    'LotShape',\n",
    "                    'LandContour',\n",
    "                    'Utilities',\n",
    "                    'LotConfig',\n",
    "                    'LandSlope',\n",
    "                    'Neighborhood',\n",
    "                    'Condition1',\n",
    "                    'Condition2',\n",
    "                    'BldgType',\n",
    "                    'HouseStyle',\n",
    "                    'RoofStyle',\n",
    "                    'RoofMatl',\n",
    "                    'Exterior1st',\n",
    "                    'Exterior2nd',\n",
    "                    'MasVnrType',\n",
    "                    'ExterQual',\n",
    "                    'ExterCond',\n",
    "                    'Foundation',\n",
    "                    'BsmtQual',\n",
    "                    'BsmtCond',\n",
    "                    'BsmtExposure',\n",
    "                    'BsmtFinType1',\n",
    "                    'BsmtFinType2',\n",
    "                    'Heating',\n",
    "                    'HeatingQC',\n",
    "                    'CentralAir',\n",
    "                    'Electrical',\n",
    "                    'KitchenQual',\n",
    "                    'Functional',\n",
    "                    'FireplaceQu',\n",
    "                    'GarageType',\n",
    "                    'GarageFinish',\n",
    "                    'GarageQual',\n",
    "                    'GarageCond',\n",
    "                    'PavedDrive',\n",
    "                    'PoolQC',\n",
    "                    'Fence',\n",
    "                    'MiscFeature',\n",
    "                    'SaleType',\n",
    "                    'SaleCondition']\n",
    "\n",
    "# 解析対象とする数値列とカテゴリ列の列名を連結\n",
    "targets = targets_num\n",
    "targets.extend(targets_category)\n",
    "\n",
    "# 解析対象列のみを抽出\n",
    "train_x = train_x.reindex(columns=targets)\n",
    "test_x = test_x.reindex(columns=targets)\n",
    "\n",
    "# Dataframeの列の型がobjectのままだとLabelEncoderでエラーするため、strに変換\n",
    "# ※変換処理後にinfo()で型を確認しても、objectと表示されるが内部的にはstrに変換されている。\n",
    "train_x[targets_category] = train_x[targets_category].astype(str)\n",
    "test_x[targets_category] = test_x[targets_category].astype(str)\n",
    "\n",
    "# ラベルエンコーディング用に学習データとテストデータをunion\n",
    "lavel_x = train_x.append(test_x, ignore_index=True)\n",
    "\n",
    "# カテゴリ変数をlabel encodingする\n",
    "for c in targets_category:\n",
    "    # 学習データとテストデータに基づいてラベルを設定\n",
    "    le = LabelEncoder()\n",
    "    le.fit(lavel_x[c])\n",
    "    train_x[c] = le.transform(train_x[c])\n",
    "    test_x[c] = le.transform(test_x[c])"
   ]
  },
  {
   "cell_type": "markdown",
   "metadata": {},
   "source": [
    "#### モデル作成とバリデーション\n",
    "XGBoostを使用してモデルを作成します。"
   ]
  },
  {
   "cell_type": "code",
   "execution_count": 4,
   "metadata": {},
   "outputs": [
    {
     "name": "stdout",
     "output_type": "stream",
     "text": [
      "モデルの作成開始: 2020-02-16 09:29:51.165930\n",
      "[0]\ttrain-rmse:142141\teval-rmse:141307\n",
      "[5]\ttrain-rmse:31971.3\teval-rmse:43327.2\n",
      "[10]\ttrain-rmse:13295.9\teval-rmse:35321.2\n",
      "[15]\ttrain-rmse:9762.88\teval-rmse:35620.2\n",
      "[20]\ttrain-rmse:8384.38\teval-rmse:35596.4\n",
      "[25]\ttrain-rmse:7328.45\teval-rmse:35414.3\n",
      "[30]\ttrain-rmse:6413.91\teval-rmse:35431.2\n",
      "[35]\ttrain-rmse:5684.53\teval-rmse:35488.5\n",
      "[40]\ttrain-rmse:4968.56\teval-rmse:35434.1\n",
      "[45]\ttrain-rmse:4461.88\teval-rmse:35489.1\n",
      "[50]\ttrain-rmse:3985.59\teval-rmse:35486.8\n",
      "[55]\ttrain-rmse:3607.26\teval-rmse:35536\n",
      "[60]\ttrain-rmse:3144.61\teval-rmse:35557.6\n",
      "[65]\ttrain-rmse:2871.49\teval-rmse:35588.4\n",
      "[70]\ttrain-rmse:2538.58\teval-rmse:35573.6\n"
     ]
    },
    {
     "name": "stderr",
     "output_type": "stream",
     "text": [
      "/opt/conda/lib/python3.7/site-packages/xgboost/core.py:587: FutureWarning: Series.base is deprecated and will be removed in a future version\n",
      "  if getattr(data, 'base', None) is not None and \\\n"
     ]
    },
    {
     "name": "stdout",
     "output_type": "stream",
     "text": [
      "[75]\ttrain-rmse:2375.43\teval-rmse:35572.2\n",
      "[80]\ttrain-rmse:2142.3\teval-rmse:35561.1\n",
      "[85]\ttrain-rmse:1903.91\teval-rmse:35565.3\n",
      "[90]\ttrain-rmse:1710.62\teval-rmse:35579.2\n",
      "[95]\ttrain-rmse:1600.93\teval-rmse:35579.9\n",
      "[99]\ttrain-rmse:1490.63\teval-rmse:35570.8\n",
      "RMSE: 0.1561\n",
      "モデルの作成終了: 2020-02-16 09:29:51.483511\n"
     ]
    }
   ],
   "source": [
    "printTime('モデルの作成開始')\n",
    "\n",
    "# 学習データを学習データとバリデーションデータに分ける\n",
    "kf = KFold(n_splits=4, shuffle=True, random_state=71)\n",
    "tr_idx, va_idx = list(kf.split(train_x))[0]\n",
    "tr_x, va_x = train_x.iloc[tr_idx], train_x.iloc[va_idx]\n",
    "tr_y, va_y = train_y.iloc[tr_idx], train_y.iloc[va_idx]\n",
    "\n",
    "# 特徴量と目的変数をxgboostのデータ構造に変換する\n",
    "dtrain = xgb.DMatrix(tr_x, label=tr_y)\n",
    "dvalid = xgb.DMatrix(va_x, label=va_y)\n",
    "dtest = xgb.DMatrix(test_x)\n",
    "\n",
    "# ハイパーパラメータの設定\n",
    "params = {\n",
    "    'objective': 'reg:squarederror',\n",
    "    'silent': 1,\n",
    "    'random_state': 71\n",
    "}\n",
    "\n",
    "num_round = 100\n",
    "\n",
    "# 学習の実行\n",
    "# バリデーションデータもモデルに渡し、学習の進行とともにスコアがどう変わるかモニタリングする\n",
    "# watchlistには学習データおよびバリデーションデータをセットする\n",
    "watchlist = [(dtrain, 'train'), (dvalid, 'eval')]\n",
    "model = xgb.train(params, dtrain, num_round, evals=watchlist, verbose_eval=5)\n",
    "\n",
    "# バリデーションデータでのスコアの確認\n",
    "va_pred = model.predict(dvalid)\n",
    "\n",
    "# バリデーションデータでのスコア(真の値の対数と予測値の対数の二乗平均平方根誤差 (RMSE))を計算する\n",
    "rmse = np.sqrt(mean_squared_error(np.log(va_y), np.log(va_pred)))\n",
    "\n",
    "print(f'RMSE: {rmse:.4f}')\n",
    "\n",
    "# 予測\n",
    "pred = model.predict(dtest)\n",
    "\n",
    "# 提出用ファイルの作成\n",
    "submission = pd.DataFrame({'Id': test['Id'], 'SalePrice': pred})\n",
    "submission.to_csv('/kaggle/output/submission_first.csv', index=False)\n",
    "\n",
    "printTime('モデルの作成終了')"
   ]
  },
  {
   "cell_type": "code",
   "execution_count": null,
   "metadata": {},
   "outputs": [],
   "source": []
  }
 ],
 "metadata": {
  "kernelspec": {
   "display_name": "Python 3",
   "language": "python",
   "name": "python3"
  },
  "language_info": {
   "codemirror_mode": {
    "name": "ipython",
    "version": 3
   },
   "file_extension": ".py",
   "mimetype": "text/x-python",
   "name": "python",
   "nbconvert_exporter": "python",
   "pygments_lexer": "ipython3",
   "version": "3.7.4"
  }
 },
 "nbformat": 4,
 "nbformat_minor": 4
}
