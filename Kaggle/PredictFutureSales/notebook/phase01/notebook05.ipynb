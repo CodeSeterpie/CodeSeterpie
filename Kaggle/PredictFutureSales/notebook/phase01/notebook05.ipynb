{
  "nbformat": 4,
  "nbformat_minor": 0,
  "metadata": {
    "colab": {
      "name": "notebook05.ipynb",
      "provenance": [],
      "collapsed_sections": []
    },
    "kernelspec": {
      "name": "python3",
      "display_name": "Python 3"
    }
  },
  "cells": [
    {
      "cell_type": "code",
      "metadata": {
        "id": "h8h9u9nrjDmW",
        "colab_type": "code",
        "colab": {
          "base_uri": "https://localhost:8080/",
          "height": 34
        },
        "outputId": "b3399d9e-f1f4-436c-ddf3-e2acdede0b39"
      },
      "source": [
        "from google.colab import drive\n",
        "drive.mount('/content/drive')"
      ],
      "execution_count": 1,
      "outputs": [
        {
          "output_type": "stream",
          "text": [
            "Mounted at /content/drive\n"
          ],
          "name": "stdout"
        }
      ]
    },
    {
      "cell_type": "code",
      "metadata": {
        "id": "rKezVwBNetfx",
        "colab_type": "code",
        "colab": {
          "base_uri": "https://localhost:8080/",
          "height": 173
        },
        "outputId": "3585f91f-6812-4f77-9685-ee3a54eb33cb"
      },
      "source": [
        "import os\n",
        "import pandas as pd\n",
        "import numpy as np\n",
        "import seaborn as sns\n",
        "import matplotlib.pyplot as plt\n",
        "from keras import metrics\n",
        "from keras.models import Sequential\n",
        "from keras.layers import Dense,  LSTM\n",
        "from sklearn.preprocessing import MinMaxScaler\n",
        "from datetime import date, timedelta\n",
        "\n",
        "# inputフォルダに格納されているファイルの一覧を出力\n",
        "BASE_PATH = '/content/drive/My Drive/CodeSeterpie/PredictFutureSales/input'\n",
        "\n",
        "for dirname, _, filenames in os.walk(BASE_PATH):\n",
        "    for filename in filenames:\n",
        "        print(os.path.join(dirname, filename))\n",
        "\n",
        "# データファイルの読み込み\n",
        "item_categories = pd.read_csv(BASE_PATH + '/item_categories.csv')\n",
        "items = pd.read_csv(BASE_PATH + '/items.csv')\n",
        "sales_train = pd.read_csv(BASE_PATH + '/sales_train.csv')\n",
        "sample_submission = pd.read_csv(BASE_PATH + '/sample_submission.csv')\n",
        "shops = pd.read_csv(BASE_PATH + '/shops.csv')\n",
        "test = pd.read_csv(BASE_PATH + '/test.csv')"
      ],
      "execution_count": 2,
      "outputs": [
        {
          "output_type": "stream",
          "text": [
            "/usr/local/lib/python3.6/dist-packages/statsmodels/tools/_testing.py:19: FutureWarning: pandas.util.testing is deprecated. Use the functions in the public API at pandas.testing instead.\n",
            "  import pandas.util.testing as tm\n"
          ],
          "name": "stderr"
        },
        {
          "output_type": "stream",
          "text": [
            "/content/drive/My Drive/CodeSeterpie/PredictFutureSales/input/item_categories.csv\n",
            "/content/drive/My Drive/CodeSeterpie/PredictFutureSales/input/items.csv\n",
            "/content/drive/My Drive/CodeSeterpie/PredictFutureSales/input/sales_train.csv\n",
            "/content/drive/My Drive/CodeSeterpie/PredictFutureSales/input/sample_submission.csv\n",
            "/content/drive/My Drive/CodeSeterpie/PredictFutureSales/input/shops.csv\n",
            "/content/drive/My Drive/CodeSeterpie/PredictFutureSales/input/test.csv\n"
          ],
          "name": "stdout"
        }
      ]
    },
    {
      "cell_type": "code",
      "metadata": {
        "id": "2QCdwJyShmSp",
        "colab_type": "code",
        "colab": {
          "base_uri": "https://localhost:8080/",
          "height": 204
        },
        "outputId": "f8cbd7c5-043a-45af-b8be-8c9610ef9151"
      },
      "source": [
        "test.head()"
      ],
      "execution_count": 3,
      "outputs": [
        {
          "output_type": "execute_result",
          "data": {
            "text/html": [
              "<div>\n",
              "<style scoped>\n",
              "    .dataframe tbody tr th:only-of-type {\n",
              "        vertical-align: middle;\n",
              "    }\n",
              "\n",
              "    .dataframe tbody tr th {\n",
              "        vertical-align: top;\n",
              "    }\n",
              "\n",
              "    .dataframe thead th {\n",
              "        text-align: right;\n",
              "    }\n",
              "</style>\n",
              "<table border=\"1\" class=\"dataframe\">\n",
              "  <thead>\n",
              "    <tr style=\"text-align: right;\">\n",
              "      <th></th>\n",
              "      <th>ID</th>\n",
              "      <th>shop_id</th>\n",
              "      <th>item_id</th>\n",
              "    </tr>\n",
              "  </thead>\n",
              "  <tbody>\n",
              "    <tr>\n",
              "      <th>0</th>\n",
              "      <td>0</td>\n",
              "      <td>5</td>\n",
              "      <td>5037</td>\n",
              "    </tr>\n",
              "    <tr>\n",
              "      <th>1</th>\n",
              "      <td>1</td>\n",
              "      <td>5</td>\n",
              "      <td>5320</td>\n",
              "    </tr>\n",
              "    <tr>\n",
              "      <th>2</th>\n",
              "      <td>2</td>\n",
              "      <td>5</td>\n",
              "      <td>5233</td>\n",
              "    </tr>\n",
              "    <tr>\n",
              "      <th>3</th>\n",
              "      <td>3</td>\n",
              "      <td>5</td>\n",
              "      <td>5232</td>\n",
              "    </tr>\n",
              "    <tr>\n",
              "      <th>4</th>\n",
              "      <td>4</td>\n",
              "      <td>5</td>\n",
              "      <td>5268</td>\n",
              "    </tr>\n",
              "  </tbody>\n",
              "</table>\n",
              "</div>"
            ],
            "text/plain": [
              "   ID  shop_id  item_id\n",
              "0   0        5     5037\n",
              "1   1        5     5320\n",
              "2   2        5     5233\n",
              "3   3        5     5232\n",
              "4   4        5     5268"
            ]
          },
          "metadata": {
            "tags": []
          },
          "execution_count": 3
        }
      ]
    },
    {
      "cell_type": "code",
      "metadata": {
        "id": "JtNlsFNgiMcV",
        "colab_type": "code",
        "colab": {
          "base_uri": "https://localhost:8080/",
          "height": 204
        },
        "outputId": "758b4710-94b9-47e5-8aea-424e6354d765"
      },
      "source": [
        "# 予測対象のファイル(test)をベースに、\n",
        "# 2013年1月(date_block_num=0)〜2015年11月(date_block_num=35)まで増幅する\n",
        "test_201301to201511 = test.copy()\n",
        "\n",
        "test_201301to201511['crossjoin_key'] = 1\n",
        "\n",
        "data_fill = pd.DataFrame({'crossjoin_key' : 1,\n",
        "                          'date_block_num' : range(0, 35)})\n",
        "\n",
        "test_201301to201511 = pd.merge(test_201301to201511, \n",
        "                               data_fill, \n",
        "                               how='outer', \n",
        "                               on='crossjoin_key')\n",
        "\n",
        "test_201301to201511 = test_201301to201511.drop(['crossjoin_key'], axis=1)\n",
        "\n",
        "test_201301to201511.head()"
      ],
      "execution_count": 4,
      "outputs": [
        {
          "output_type": "execute_result",
          "data": {
            "text/html": [
              "<div>\n",
              "<style scoped>\n",
              "    .dataframe tbody tr th:only-of-type {\n",
              "        vertical-align: middle;\n",
              "    }\n",
              "\n",
              "    .dataframe tbody tr th {\n",
              "        vertical-align: top;\n",
              "    }\n",
              "\n",
              "    .dataframe thead th {\n",
              "        text-align: right;\n",
              "    }\n",
              "</style>\n",
              "<table border=\"1\" class=\"dataframe\">\n",
              "  <thead>\n",
              "    <tr style=\"text-align: right;\">\n",
              "      <th></th>\n",
              "      <th>ID</th>\n",
              "      <th>shop_id</th>\n",
              "      <th>item_id</th>\n",
              "      <th>date_block_num</th>\n",
              "    </tr>\n",
              "  </thead>\n",
              "  <tbody>\n",
              "    <tr>\n",
              "      <th>0</th>\n",
              "      <td>0</td>\n",
              "      <td>5</td>\n",
              "      <td>5037</td>\n",
              "      <td>0</td>\n",
              "    </tr>\n",
              "    <tr>\n",
              "      <th>1</th>\n",
              "      <td>0</td>\n",
              "      <td>5</td>\n",
              "      <td>5037</td>\n",
              "      <td>1</td>\n",
              "    </tr>\n",
              "    <tr>\n",
              "      <th>2</th>\n",
              "      <td>0</td>\n",
              "      <td>5</td>\n",
              "      <td>5037</td>\n",
              "      <td>2</td>\n",
              "    </tr>\n",
              "    <tr>\n",
              "      <th>3</th>\n",
              "      <td>0</td>\n",
              "      <td>5</td>\n",
              "      <td>5037</td>\n",
              "      <td>3</td>\n",
              "    </tr>\n",
              "    <tr>\n",
              "      <th>4</th>\n",
              "      <td>0</td>\n",
              "      <td>5</td>\n",
              "      <td>5037</td>\n",
              "      <td>4</td>\n",
              "    </tr>\n",
              "  </tbody>\n",
              "</table>\n",
              "</div>"
            ],
            "text/plain": [
              "   ID  shop_id  item_id  date_block_num\n",
              "0   0        5     5037               0\n",
              "1   0        5     5037               1\n",
              "2   0        5     5037               2\n",
              "3   0        5     5037               3\n",
              "4   0        5     5037               4"
            ]
          },
          "metadata": {
            "tags": []
          },
          "execution_count": 4
        }
      ]
    },
    {
      "cell_type": "code",
      "metadata": {
        "id": "8vrfAPiNo1xD",
        "colab_type": "code",
        "colab": {
          "base_uri": "https://localhost:8080/",
          "height": 204
        },
        "outputId": "e7b5e3e9-e8b9-4096-a49a-056942a078c0"
      },
      "source": [
        "# salse_trainからshop_id、item_id別に月ごとの売上数を算出する\n",
        "# Todo:追加の特徴量として、item_priceの月ごとの平均値等を算出してもいいかもしれない。\n",
        "sales_train_groupby = sales_train.drop(['date', 'item_price'], axis=1)\n",
        "sales_train_groupby = sales_train_groupby.groupby(['date_block_num', \n",
        "                                                   'shop_id', \n",
        "                                                   'item_id']).sum().reset_index()\n",
        "\n",
        "sales_train_groupby.head()"
      ],
      "execution_count": 5,
      "outputs": [
        {
          "output_type": "execute_result",
          "data": {
            "text/html": [
              "<div>\n",
              "<style scoped>\n",
              "    .dataframe tbody tr th:only-of-type {\n",
              "        vertical-align: middle;\n",
              "    }\n",
              "\n",
              "    .dataframe tbody tr th {\n",
              "        vertical-align: top;\n",
              "    }\n",
              "\n",
              "    .dataframe thead th {\n",
              "        text-align: right;\n",
              "    }\n",
              "</style>\n",
              "<table border=\"1\" class=\"dataframe\">\n",
              "  <thead>\n",
              "    <tr style=\"text-align: right;\">\n",
              "      <th></th>\n",
              "      <th>date_block_num</th>\n",
              "      <th>shop_id</th>\n",
              "      <th>item_id</th>\n",
              "      <th>item_cnt_day</th>\n",
              "    </tr>\n",
              "  </thead>\n",
              "  <tbody>\n",
              "    <tr>\n",
              "      <th>0</th>\n",
              "      <td>0</td>\n",
              "      <td>0</td>\n",
              "      <td>32</td>\n",
              "      <td>6.0</td>\n",
              "    </tr>\n",
              "    <tr>\n",
              "      <th>1</th>\n",
              "      <td>0</td>\n",
              "      <td>0</td>\n",
              "      <td>33</td>\n",
              "      <td>3.0</td>\n",
              "    </tr>\n",
              "    <tr>\n",
              "      <th>2</th>\n",
              "      <td>0</td>\n",
              "      <td>0</td>\n",
              "      <td>35</td>\n",
              "      <td>1.0</td>\n",
              "    </tr>\n",
              "    <tr>\n",
              "      <th>3</th>\n",
              "      <td>0</td>\n",
              "      <td>0</td>\n",
              "      <td>43</td>\n",
              "      <td>1.0</td>\n",
              "    </tr>\n",
              "    <tr>\n",
              "      <th>4</th>\n",
              "      <td>0</td>\n",
              "      <td>0</td>\n",
              "      <td>51</td>\n",
              "      <td>2.0</td>\n",
              "    </tr>\n",
              "  </tbody>\n",
              "</table>\n",
              "</div>"
            ],
            "text/plain": [
              "   date_block_num  shop_id  item_id  item_cnt_day\n",
              "0               0        0       32           6.0\n",
              "1               0        0       33           3.0\n",
              "2               0        0       35           1.0\n",
              "3               0        0       43           1.0\n",
              "4               0        0       51           2.0"
            ]
          },
          "metadata": {
            "tags": []
          },
          "execution_count": 5
        }
      ]
    },
    {
      "cell_type": "code",
      "metadata": {
        "id": "b37np-VFiiRb",
        "colab_type": "code",
        "colab": {
          "base_uri": "https://localhost:8080/",
          "height": 204
        },
        "outputId": "a4cdc456-4695-4f35-e40a-642790cd9c03"
      },
      "source": [
        "# test_201301to201511に各月の売上数を結合。\n",
        "test_201301to201511 = pd.merge(test_201301to201511, \n",
        "                               sales_train_groupby, \n",
        "                               how='left', \n",
        "                               left_on=['shop_id', 'item_id', 'date_block_num'], \n",
        "                               right_on=['shop_id', 'item_id', 'date_block_num'])\n",
        " \n",
        "# 全ての月に売上数のデータがあるわけではないので、データがない箇所は0.0で埋める\n",
        "test_201301to201511 = test_201301to201511.fillna({'item_cnt_day' : 0.0})\n",
        "\n",
        "# データをソートし直す\n",
        "test_201301to201511 = test_201301to201511.sort_values(['date_block_num', 'ID'])\n",
        "test_201301to201511 = test_201301to201511.reset_index(drop=True)\n",
        "\n",
        "test_201301to201511.head()"
      ],
      "execution_count": 6,
      "outputs": [
        {
          "output_type": "execute_result",
          "data": {
            "text/html": [
              "<div>\n",
              "<style scoped>\n",
              "    .dataframe tbody tr th:only-of-type {\n",
              "        vertical-align: middle;\n",
              "    }\n",
              "\n",
              "    .dataframe tbody tr th {\n",
              "        vertical-align: top;\n",
              "    }\n",
              "\n",
              "    .dataframe thead th {\n",
              "        text-align: right;\n",
              "    }\n",
              "</style>\n",
              "<table border=\"1\" class=\"dataframe\">\n",
              "  <thead>\n",
              "    <tr style=\"text-align: right;\">\n",
              "      <th></th>\n",
              "      <th>ID</th>\n",
              "      <th>shop_id</th>\n",
              "      <th>item_id</th>\n",
              "      <th>date_block_num</th>\n",
              "      <th>item_cnt_day</th>\n",
              "    </tr>\n",
              "  </thead>\n",
              "  <tbody>\n",
              "    <tr>\n",
              "      <th>0</th>\n",
              "      <td>0</td>\n",
              "      <td>5</td>\n",
              "      <td>5037</td>\n",
              "      <td>0</td>\n",
              "      <td>0.0</td>\n",
              "    </tr>\n",
              "    <tr>\n",
              "      <th>1</th>\n",
              "      <td>1</td>\n",
              "      <td>5</td>\n",
              "      <td>5320</td>\n",
              "      <td>0</td>\n",
              "      <td>0.0</td>\n",
              "    </tr>\n",
              "    <tr>\n",
              "      <th>2</th>\n",
              "      <td>2</td>\n",
              "      <td>5</td>\n",
              "      <td>5233</td>\n",
              "      <td>0</td>\n",
              "      <td>0.0</td>\n",
              "    </tr>\n",
              "    <tr>\n",
              "      <th>3</th>\n",
              "      <td>3</td>\n",
              "      <td>5</td>\n",
              "      <td>5232</td>\n",
              "      <td>0</td>\n",
              "      <td>0.0</td>\n",
              "    </tr>\n",
              "    <tr>\n",
              "      <th>4</th>\n",
              "      <td>4</td>\n",
              "      <td>5</td>\n",
              "      <td>5268</td>\n",
              "      <td>0</td>\n",
              "      <td>0.0</td>\n",
              "    </tr>\n",
              "  </tbody>\n",
              "</table>\n",
              "</div>"
            ],
            "text/plain": [
              "   ID  shop_id  item_id  date_block_num  item_cnt_day\n",
              "0   0        5     5037               0           0.0\n",
              "1   1        5     5320               0           0.0\n",
              "2   2        5     5233               0           0.0\n",
              "3   3        5     5232               0           0.0\n",
              "4   4        5     5268               0           0.0"
            ]
          },
          "metadata": {
            "tags": []
          },
          "execution_count": 6
        }
      ]
    },
    {
      "cell_type": "code",
      "metadata": {
        "id": "kFQDB1yPhdv8",
        "colab_type": "code",
        "colab": {
          "base_uri": "https://localhost:8080/",
          "height": 51
        },
        "outputId": "079d8cde-24e6-4ccc-de1b-31e3c84ba16d"
      },
      "source": [
        "len_test = len(test)\n",
        "len_201301to201511 = len(test_201301to201511)\n",
        "\n",
        "print(f'len_test: {len_test :.0f}')\n",
        "print(f'len_201301to201511: {len_201301to201511 :.0f}')"
      ],
      "execution_count": 18,
      "outputs": [
        {
          "output_type": "stream",
          "text": [
            "len_test: 214200\n",
            "len_201301to201511: 7497000\n"
          ],
          "name": "stdout"
        }
      ]
    },
    {
      "cell_type": "code",
      "metadata": {
        "id": "10mU2KFw7S2g",
        "colab_type": "code",
        "colab": {
          "base_uri": "https://localhost:8080/",
          "height": 136
        },
        "outputId": "fabc0e37-67b3-4edc-cde1-7eee199c4b85"
      },
      "source": [
        "item_cnt_day = test_201301to201511.iloc[:, 4]   # item_cnt_day列のみ抽出する。\n",
        "item_cnt_day = np.array(item_cnt_day)           # numpy配列に変換する。\n",
        "item_cnt_day = item_cnt_day.reshape(-1, 1)      # 行列に変換する。（配列の要素数行×1列）\n",
        "\n",
        "date_block_num = 201301to201511.iloc[:, 3] # date_block_num列のみ抽出する。\n",
        "date_block_num = np.array(date_block_num)       # numpy配列に変換する。\n",
        "date_block_num = date_block_num.reshape(-1, 1)  # 行列に変換する。（配列の要素数行×1列）\n",
        "\n",
        "X1 = item_cnt_day[0*len_test:len_201301to201511-5*len_test, :]     # 予測対象の5ヶ月前のデータ\n",
        "X2 = item_cnt_day[1*len_test:len_201301to201511-4*len_test, :]     # 予測対象の4ヶ月前のデータ\n",
        "X3 = item_cnt_day[2*len_test:len_201301to201511-3*len_test, :]     # 予測対象の3ヶ月前のデータ\n",
        "X4 = item_cnt_day[3*len_test:len_201301to201511-2*len_test, :]     # 予測対象の2ヶ月前のデータ\n",
        "X5 = item_cnt_day[4*len_test:len_201301to201511-1*len_test, :]     # 予測対象の前月データ\n",
        "item_cnt_day = item_cnt_day[5*len_test:len_201301to201511, :]      # 予測対象月のデータ\n",
        "date_block_num = date_block_num[5*len_test:len_201301to201511, :]  # 予測対象月のデータ\n",
        "\n",
        "# numpy配列を結合する。\n",
        "X = np.concatenate([date_block_num, X1, X2, X3, X4, X5], axis=1)  \n",
        "\n",
        "print(X)"
      ],
      "execution_count": 8,
      "outputs": [
        {
          "output_type": "stream",
          "text": [
            "[[ 5.  0.  0.  0.  0.  0.]\n",
            " [ 5.  0.  0.  0.  0.  0.]\n",
            " [ 5.  0.  0.  0.  0.  0.]\n",
            " ...\n",
            " [34.  0.  0.  0.  0.  0.]\n",
            " [34.  0.  0.  0.  0.  0.]\n",
            " [34.  0.  0.  0.  0.  0.]]\n"
          ],
          "name": "stdout"
        }
      ]
    },
    {
      "cell_type": "code",
      "metadata": {
        "id": "puW0WZmjD5_W",
        "colab_type": "code",
        "colab": {
          "base_uri": "https://localhost:8080/",
          "height": 357
        },
        "outputId": "f8893bb3-eb67-40dc-fffe-9a895163861e"
      },
      "source": [
        "scaler_X = MinMaxScaler()  # データを0～1の範囲にスケールするための関数。\n",
        "scaler_X.fit(X)  # スケーリングに使用する最小／最大値を計算する。\n",
        "X = scaler_X.transform(X)  # Xをを0～1の範囲にスケーリングする。\n",
        "X = np.reshape(X, (X.shape[0], 1, X.shape[1]))  # 3次元配列に変換する。\n",
        "\n",
        "scaler_item_cnt_day = MinMaxScaler()  # データを0～1の範囲にスケールするための関数。\n",
        "scaler_item_cnt_day.fit(item_cnt_day)  # スケーリングに使用する最小／最大値を計算する。\n",
        "item_cnt_day = scaler_item_cnt_day.transform(item_cnt_day)  # Yをを0～1の範囲にスケーリングする。\n",
        "\n",
        "print(X)\n",
        "print(item_cnt_day)"
      ],
      "execution_count": 9,
      "outputs": [
        {
          "output_type": "stream",
          "text": [
            "[[[0.         0.00305577 0.00305577 0.00305577 0.00305577 0.00177226]]\n",
            "\n",
            " [[0.         0.00305577 0.00305577 0.00305577 0.00305577 0.00177226]]\n",
            "\n",
            " [[0.         0.00305577 0.00305577 0.00305577 0.00305577 0.00177226]]\n",
            "\n",
            " ...\n",
            "\n",
            " [[1.         0.00305577 0.00305577 0.00305577 0.00305577 0.00177226]]\n",
            "\n",
            " [[1.         0.00305577 0.00305577 0.00305577 0.00305577 0.00177226]]\n",
            "\n",
            " [[1.         0.00305577 0.00305577 0.00305577 0.00305577 0.00177226]]]\n",
            "[[0.00177226]\n",
            " [0.00177226]\n",
            " [0.00177226]\n",
            " ...\n",
            " [0.00177226]\n",
            " [0.00177226]\n",
            " [0.00177226]]\n"
          ],
          "name": "stdout"
        }
      ]
    },
    {
      "cell_type": "code",
      "metadata": {
        "id": "mYwY2i9-z3-f",
        "colab_type": "code",
        "colab": {
          "base_uri": "https://localhost:8080/",
          "height": 68
        },
        "outputId": "918e56cd-ff4b-4ce0-ba71-5bb928db1a1e"
      },
      "source": [
        "print(X.shape)\n",
        "print(X.shape[0])\n",
        "print(X.shape[1])\n"
      ],
      "execution_count": 10,
      "outputs": [
        {
          "output_type": "stream",
          "text": [
            "(6426000, 1, 6)\n",
            "6426000\n",
            "1\n"
          ],
          "name": "stdout"
        }
      ]
    },
    {
      "cell_type": "code",
      "metadata": {
        "id": "0RyzdzFE1TmY",
        "colab_type": "code",
        "colab": {
          "base_uri": "https://localhost:8080/",
          "height": 51
        },
        "outputId": "3e7b3a8f-0108-48c1-f53f-9fff32a28aa8"
      },
      "source": [
        "# train, testデータを定義\n",
        "X_train = X[:5997600, :, :]\n",
        "X_vari = X[5997600:6211800, :, :]\n",
        "X_test = X[6211800:, :, :]\n",
        "Y_train = item_cnt_day[:5997600, :]\n",
        "Y_vari = item_cnt_day[5997600:6211800, :]\n",
        "Y_test = item_cnt_day[6211800:, :]\n",
        "\n",
        "\n",
        "\n",
        "print(len(X_train))\n",
        "print(len(X_test))"
      ],
      "execution_count": 11,
      "outputs": [
        {
          "output_type": "stream",
          "text": [
            "5997600\n",
            "214200\n"
          ],
          "name": "stdout"
        }
      ]
    },
    {
      "cell_type": "code",
      "metadata": {
        "id": "U0fIyIjOmQwF",
        "colab_type": "code",
        "colab": {
          "base_uri": "https://localhost:8080/",
          "height": 34
        },
        "outputId": "b10d7185-0ee0-4c2a-cd05-aa10f4fda6aa"
      },
      "source": [
        "model = Sequential()\n",
        "model.add(LSTM(10, \n",
        "               activation = 'tanh', \n",
        "               input_shape = (1,6), \n",
        "               recurrent_activation= 'hard_sigmoid'))\n",
        "model.add(Dense(1))\n",
        "\n",
        "model.compile(loss= 'mean_squared_error', \n",
        "              optimizer = 'rmsprop', \n",
        "              metrics=[metrics.mae])\n",
        "model.fit(X_train, Y_train, epochs=1, verbose=2)\n",
        "Predict = model.predict(X_test)\n"
      ],
      "execution_count": 12,
      "outputs": [
        {
          "output_type": "stream",
          "text": [
            "187425/187425 - 216s - loss: 2.3016e-06 - mean_absolute_error: 5.7717e-04\n"
          ],
          "name": "stdout"
        }
      ]
    },
    {
      "cell_type": "code",
      "metadata": {
        "id": "foex5m1yJo_s",
        "colab_type": "code",
        "colab": {}
      },
      "source": [
        "Vari = model.predict(X_vari)"
      ],
      "execution_count": 13,
      "outputs": []
    },
    {
      "cell_type": "code",
      "metadata": {
        "id": "7Tk3q2Esx3vK",
        "colab_type": "code",
        "colab": {
          "base_uri": "https://localhost:8080/",
          "height": 255
        },
        "outputId": "b3c2455c-41d7-4079-c2f5-403f82e06e4c"
      },
      "source": [
        "print(Y_test)\n",
        "print(Predict)"
      ],
      "execution_count": 14,
      "outputs": [
        {
          "output_type": "stream",
          "text": [
            "[[0.00177226]\n",
            " [0.00177226]\n",
            " [0.00177226]\n",
            " ...\n",
            " [0.00177226]\n",
            " [0.00177226]\n",
            " [0.00177226]]\n",
            "[[0.00202581]\n",
            " [0.00174409]\n",
            " [0.00213196]\n",
            " ...\n",
            " [0.00174409]\n",
            " [0.00174409]\n",
            " [0.00174409]]\n"
          ],
          "name": "stdout"
        }
      ]
    },
    {
      "cell_type": "code",
      "metadata": {
        "id": "Ghns25i9EJ9r",
        "colab_type": "code",
        "colab": {
          "base_uri": "https://localhost:8080/",
          "height": 374
        },
        "outputId": "33cee457-abe8-4f70-b840-e214e14d7b2b"
      },
      "source": [
        "# オリジナルのスケールに戻す、タイムインデックスを付ける。\n",
        "Y_train = scaler_item_cnt_day.inverse_transform(Y_train)\n",
        "Y_train = pd.DataFrame(Y_train)\n",
        "\n",
        "Y_vari = scaler_item_cnt_day.inverse_transform(Y_vari)\n",
        "Y_vari = pd.DataFrame(Y_vari)\n",
        "\n",
        "Predict = scaler_item_cnt_day.inverse_transform(Predict)\n",
        "Predict = pd.DataFrame(Predict)\n",
        "\n",
        "Vari = scaler_item_cnt_day.inverse_transform(Vari)\n",
        "Vari = pd.DataFrame(Vari)\n",
        "print(Y_test)\n",
        "print(Predict)"
      ],
      "execution_count": 15,
      "outputs": [
        {
          "output_type": "stream",
          "text": [
            "[[0.00177226]\n",
            " [0.00177226]\n",
            " [0.00177226]\n",
            " ...\n",
            " [0.00177226]\n",
            " [0.00177226]\n",
            " [0.00177226]]\n",
            "               0\n",
            "0       0.572244\n",
            "1      -0.063582\n",
            "2       0.811842\n",
            "3       0.046656\n",
            "4      -0.063582\n",
            "...          ...\n",
            "214195  0.097490\n",
            "214196 -0.063582\n",
            "214197 -0.063582\n",
            "214198 -0.063582\n",
            "214199 -0.063582\n",
            "\n",
            "[214200 rows x 1 columns]\n"
          ],
          "name": "stdout"
        }
      ]
    },
    {
      "cell_type": "code",
      "metadata": {
        "id": "rZKnengbEMmz",
        "colab_type": "code",
        "colab": {
          "base_uri": "https://localhost:8080/",
          "height": 592
        },
        "outputId": "ee6981d6-b871-4b13-80e1-ce93aa5bb9b5"
      },
      "source": [
        "plt.figure(figsize=(15,10), facecolor='white')\n",
        "plt.plot(Y_vari, label = 'Test')\n",
        "plt.plot(Vari, label = 'Vari')\n",
        "plt.legend(loc='best')\n",
        "plt.show()"
      ],
      "execution_count": 16,
      "outputs": [
        {
          "output_type": "display_data",
          "data": {
            "image/png": "[encoded data removed]",
            "text/plain": [
              "<Figure size 1080x720 with 1 Axes>"
            ]
          },
          "metadata": {
            "tags": []
          }
        }
      ]
    },
    {
      "cell_type": "code",
      "metadata": {
        "id": "tbynSCZ-_dbe",
        "colab_type": "code",
        "colab": {
          "base_uri": "https://localhost:8080/",
          "height": 255
        },
        "outputId": "94d19775-644d-40b7-da0b-b99a2c26d8e0"
      },
      "source": [
        "sub = Predict.copy()\n",
        "sub.columns = ['item_cnt_month']\n",
        "sub['ID'] = sub.index\n",
        "sub = sub.loc[:, ['ID', 'item_cnt_month']]\n",
        "\n",
        "print(sub)\n",
        "\n",
        "sub.to_csv('submisson.csv', index=False)"
      ],
      "execution_count": 17,
      "outputs": [
        {
          "output_type": "stream",
          "text": [
            "            ID  item_cnt_month\n",
            "0            0        0.572244\n",
            "1            1       -0.063582\n",
            "2            2        0.811842\n",
            "3            3        0.046656\n",
            "4            4       -0.063582\n",
            "...        ...             ...\n",
            "214195  214195        0.097490\n",
            "214196  214196       -0.063582\n",
            "214197  214197       -0.063582\n",
            "214198  214198       -0.063582\n",
            "214199  214199       -0.063582\n",
            "\n",
            "[214200 rows x 2 columns]\n"
          ],
          "name": "stdout"
        }
      ]
    }
  ]
}