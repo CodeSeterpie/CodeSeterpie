{
 "cells": [
  {
   "cell_type": "code",
   "execution_count": 9,
   "metadata": {
    "scrolled": true
   },
   "outputs": [
    {
     "name": "stdout",
     "output_type": "stream",
     "text": [
      "Inputファイルを表示: 2020-02-21 10:31:34.438355\n",
      "/kaggle/input/test.csv\n",
      "/kaggle/input/train.csv\n",
      "/kaggle/input/.ipynb_checkpoints/train-checkpoint.csv\n",
      "/kaggle/input/.ipynb_checkpoints/test-checkpoint.csv\n"
     ]
    }
   ],
   "source": [
    "import numpy as np\n",
    "import pandas as pd\n",
    "import matplotlib.pyplot as plt\n",
    "import seaborn as sns\n",
    "from xgboost import XGBClassifier\n",
    "from sklearn.metrics import log_loss, accuracy_score\n",
    "from sklearn.model_selection import KFold\n",
    "from sklearn.preprocessing import LabelEncoder\n",
    "\n",
    "import os\n",
    "import datetime\n",
    "import itertools\n",
    "\n",
    "# ログ出力用の関数\n",
    "\n",
    "\n",
    "def printTime(tag):\n",
    "    print(tag + ':', datetime.datetime.now())\n",
    "\n",
    "\n",
    "printTime('Inputファイルを表示')\n",
    "for dirname, _, filenames in os.walk('/kaggle/input'):\n",
    "    for filename in filenames:\n",
    "        print(os.path.join(dirname, filename))"
   ]
  },
  {
   "cell_type": "markdown",
   "metadata": {},
   "source": [
    "#### 学習データの読み込み"
   ]
  },
  {
   "cell_type": "code",
   "execution_count": 10,
   "metadata": {},
   "outputs": [],
   "source": [
    "train = pd.read_csv('/kaggle/input/train.csv')\n",
    "test = pd.read_csv('/kaggle/input/test.csv')\n",
    "\n",
    "# 学習データを特徴量と目的変数に分ける\n",
    "train_x = train.drop(['Survived'], axis=1)\n",
    "train_y = train['Survived']\n",
    "\n",
    "# テストデータは特徴量のみなので、そのままでよい\n",
    "test_x = test.copy()\n"
   ]
  },
  {
   "cell_type": "markdown",
   "metadata": {},
   "source": [
    " #### 特徴量作成"
   ]
  },
  {
   "cell_type": "code",
   "execution_count": 11,
   "metadata": {},
   "outputs": [
    {
     "name": "stdout",
     "output_type": "stream",
     "text": [
      "特徴量作成開始: 2020-02-21 10:31:34.500393\n",
      "特徴量作成終了: 2020-02-21 10:31:34.517880\n"
     ]
    }
   ],
   "source": [
    "printTime('特徴量作成開始')\n",
    "\n",
    "# 変数PassengerIdを除外する\n",
    "train_x = train_x.drop(['PassengerId'], axis=1)\n",
    "test_x = test_x.drop(['PassengerId'], axis=1)\n",
    "\n",
    "# 変数Name, Ticket, Cabinを除外する\n",
    "train_x = train_x.drop(['Name', 'Ticket', 'Cabin'], axis=1)\n",
    "test_x = test_x.drop(['Name', 'Ticket', 'Cabin'], axis=1)\n",
    "\n",
    "# それぞれのカテゴリ変数にlabel encodingを適用する\n",
    "for c in ['Sex', 'Embarked']:\n",
    "    # 学習データに基づいてどう変換するかを定める\n",
    "    le = LabelEncoder()\n",
    "    le.fit(train_x[c].fillna('NA'))\n",
    "\n",
    "    # 学習データ、テストデータを変換する\n",
    "    train_x[c] = le.transform(train_x[c].fillna('NA'))\n",
    "    test_x[c] = le.transform(test_x[c].fillna('NA'))\n",
    "\n",
    "printTime('特徴量作成終了')"
   ]
  },
  {
   "cell_type": "markdown",
   "metadata": {},
   "source": [
    "#### モデル作成"
   ]
  },
  {
   "cell_type": "code",
   "execution_count": 12,
   "metadata": {},
   "outputs": [
    {
     "name": "stdout",
     "output_type": "stream",
     "text": [
      "モデルの作成開始: 2020-02-21 10:31:34.532714\n",
      "モデルの作成終了: 2020-02-21 10:31:34.571529\n"
     ]
    }
   ],
   "source": [
    "printTime('モデルの作成開始')\n",
    "\n",
    "# モデルの作成および学習データを与えての学習\n",
    "# model = XGBClassifier(n_estimators=20, random_state=71)\n",
    "model = XGBClassifier(n_estimators=20, random_state=71,\n",
    "        max_depth=7, min_child_weight=2.0)\n",
    "model.fit(train_x, train_y)\n",
    "\n",
    "# テストデータの予測値を確率で出力する\n",
    "pred = model.predict_proba(test_x)[:, 1]\n",
    "\n",
    "# テストデータの予測値を二値に変換する\n",
    "pred_label = np.where(pred > 0.5, 1, 0)\n",
    "\n",
    "# 提出用ファイルの作成\n",
    "submission = pd.DataFrame({'PassengerId': test['PassengerId'], 'Survived': pred_label})\n",
    "submission.to_csv('/kaggle/output/submission_first.csv', index=False)\n",
    "\n",
    "printTime('モデルの作成終了')"
   ]
  },
  {
   "cell_type": "markdown",
   "metadata": {},
   "source": [
    "#### バリデーション"
   ]
  },
  {
   "cell_type": "code",
   "execution_count": 13,
   "metadata": {},
   "outputs": [
    {
     "name": "stdout",
     "output_type": "stream",
     "text": [
      "バリデーション開始: 2020-02-21 10:31:34.584343\n",
      "logloss: 0.4270, accuracy: 0.8148\n",
      "バリデーション終了: 2020-02-21 10:31:34.644072\n"
     ]
    }
   ],
   "source": [
    "printTime('バリデーション開始')\n",
    "\n",
    "# 各foldのスコアを保存するリスト\n",
    "scores_accuracy = []\n",
    "scores_logloss = []\n",
    "\n",
    "# クロスバリデーションを行う\n",
    "# 学習データを4つに分割し、うち1つをバリデーションデータとすることを、バリデーションデータを変えて繰り返す\n",
    "kf = KFold(n_splits=4, shuffle=True, random_state=71)\n",
    "for tr_idx, va_idx in kf.split(train_x):\n",
    "    # 学習データを学習データとバリデーションデータに分ける\n",
    "    tr_x, va_x = train_x.iloc[tr_idx], train_x.iloc[va_idx]\n",
    "    tr_y, va_y = train_y.iloc[tr_idx], train_y.iloc[va_idx]\n",
    "\n",
    "    # モデルの学習を行う\n",
    "    model = XGBClassifier(n_estimators=20, random_state=71)\n",
    "    model.fit(tr_x, tr_y)\n",
    "\n",
    "    # バリデーションデータの予測値を確率で出力する\n",
    "    va_pred = model.predict_proba(va_x)[:, 1]\n",
    "\n",
    "    # バリデーションデータでのスコアを計算する\n",
    "    logloss = log_loss(va_y, va_pred)\n",
    "    accuracy = accuracy_score(va_y, va_pred > 0.5)\n",
    "\n",
    "    # そのfoldのスコアを保存する\n",
    "    scores_logloss.append(logloss)\n",
    "    scores_accuracy.append(accuracy)\n",
    "\n",
    "# 各foldのスコアの平均を出力する\n",
    "logloss = np.mean(scores_logloss)\n",
    "accuracy = np.mean(scores_accuracy)\n",
    "print(f'logloss: {logloss:.4f}, accuracy: {accuracy:.4f}')\n",
    "\n",
    "printTime('バリデーション終了')"
   ]
  },
  {
   "cell_type": "markdown",
   "metadata": {},
   "source": [
    "#### モデルチューニング"
   ]
  },
  {
   "cell_type": "code",
   "execution_count": 14,
   "metadata": {},
   "outputs": [
    {
     "name": "stdout",
     "output_type": "stream",
     "text": [
      "モデルチューニング開始: 2020-02-21 10:31:34.658695\n",
      "max_depth: 7, min_child_weight: 2.0\n",
      "モデルチューニング終了: 2020-02-21 10:31:35.213835\n"
     ]
    }
   ],
   "source": [
    "printTime('モデルチューニング開始')\n",
    "\n",
    "# チューニング候補とするパラメータを準備する\n",
    "param_space = {\n",
    "    'max_depth': [3, 5, 7],\n",
    "    'min_child_weight': [1.0, 2.0, 4.0]\n",
    "}\n",
    "\n",
    "# 探索するハイパーパラメータの組み合わせ\n",
    "param_combinations = itertools.product(param_space['max_depth'], param_space['min_child_weight'])\n",
    "\n",
    "# 各パラメータの組み合わせ、それに対するスコアを保存するリスト\n",
    "params = []\n",
    "scores = []\n",
    "\n",
    "# 各パラメータの組み合わせごとに、クロスバリデーションで評価を行う\n",
    "for max_depth, min_child_weight in param_combinations:\n",
    "\n",
    "    score_folds = []\n",
    "    # クロスバリデーションを行う\n",
    "    # 学習データを4つに分割し、うち1つをバリデーションデータとすることを、バリデーションデータを変えて繰り返す\n",
    "    kf = KFold(n_splits=4, shuffle=True, random_state=123456)\n",
    "    for tr_idx, va_idx in kf.split(train_x):\n",
    "        # 学習データを学習データとバリデーションデータに分ける\n",
    "        tr_x, va_x = train_x.iloc[tr_idx], train_x.iloc[va_idx]\n",
    "        tr_y, va_y = train_y.iloc[tr_idx], train_y.iloc[va_idx]\n",
    "\n",
    "        # モデルの学習を行う\n",
    "        model = XGBClassifier(n_estimators=20, random_state=71,\n",
    "                              max_depth=max_depth, min_child_weight=min_child_weight)\n",
    "        model.fit(tr_x, tr_y)\n",
    "\n",
    "        # バリデーションデータでのスコアを計算し、保存する\n",
    "        va_pred = model.predict_proba(va_x)[:, 1]\n",
    "        logloss = log_loss(va_y, va_pred)\n",
    "        score_folds.append(logloss)\n",
    "\n",
    "    # 各foldのスコアを平均する\n",
    "    score_mean = np.mean(score_folds)\n",
    "\n",
    "    # パラメータの組み合わせ、それに対するスコアを保存する\n",
    "    params.append((max_depth, min_child_weight))\n",
    "    scores.append(score_mean)\n",
    "\n",
    "# 最もスコアが良いものをベストなパラメータとする\n",
    "best_idx = np.argsort(scores)[0]\n",
    "best_param = params[best_idx]\n",
    "print(f'max_depth: {best_param[0]}, min_child_weight: {best_param[1]}')\n",
    "\n",
    "printTime('モデルチューニング終了')"
   ]
  },
  {
   "cell_type": "code",
   "execution_count": null,
   "metadata": {},
   "outputs": [],
   "source": []
  }
 ],
 "metadata": {
  "kernelspec": {
   "display_name": "Python 3",
   "language": "python",
   "name": "python3"
  },
  "language_info": {
   "codemirror_mode": {
    "name": "ipython",
    "version": 3
   },
   "file_extension": ".py",
   "mimetype": "text/x-python",
   "name": "python",
   "nbconvert_exporter": "python",
   "pygments_lexer": "ipython3",
   "version": "3.7.4"
  }
 },
 "nbformat": 4,
 "nbformat_minor": 4
}
