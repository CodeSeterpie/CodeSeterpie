{
 "cells": [
  {
   "cell_type": "code",
   "execution_count": 1,
   "metadata": {
    "scrolled": true
   },
   "outputs": [
    {
     "name": "stdout",
     "output_type": "stream",
     "text": [
      "処理開始: 2020-01-08 20:17:30.606180\n",
      "\n",
      "Inputファイルを表示\n",
      "/kaggle/input/test.csv\n",
      "/kaggle/input/data_description.txt\n",
      "/kaggle/input/train.csv\n"
     ]
    }
   ],
   "source": [
    "import numpy as np\n",
    "import pandas as pd\n",
    "import os\n",
    "import datetime\n",
    "\n",
    "def printTime(tag):\n",
    "    print(tag + ':', datetime.datetime.now())\n",
    "    print('')\n",
    "\n",
    "printTime('処理開始')\n",
    "\n",
    "print('Inputファイルを表示')\n",
    "for dirname, _, filenames in os.walk('/kaggle/input'):\n",
    "    for filename in filenames:\n",
    "        print(os.path.join(dirname, filename))\n"
   ]
  },
  {
   "cell_type": "markdown",
   "metadata": {},
   "source": [
    "#### 学習データの読み込み"
   ]
  },
  {
   "cell_type": "code",
   "execution_count": 2,
   "metadata": {
    "scrolled": false
   },
   "outputs": [],
   "source": [
    "train = pd.read_csv('/kaggle/input/train.csv')\n",
    "test = pd.read_csv('/kaggle/input/test.csv')\n",
    "\n",
    "# 学習データを特徴量と目的変数に分ける\n",
    "train_x = train.drop(['SalePrice'], axis=1)\n",
    "train_y = train['SalePrice']\n",
    "\n",
    "# テストデータは特徴量のみなので、そのままでよい\n",
    "test_x = test.copy()\n"
   ]
  },
  {
   "cell_type": "markdown",
   "metadata": {},
   "source": [
    " #### 特徴量作成"
   ]
  },
  {
   "cell_type": "code",
   "execution_count": 3,
   "metadata": {},
   "outputs": [],
   "source": [
    "from sklearn.preprocessing import LabelEncoder\n",
    "\n",
    "# 解析対象とする列を設定\n",
    "targets = ['MSSubClass','OverallQual', 'YearBuilt','GarageCars']\n",
    "\n",
    "# 解析対象列のみを抽出\n",
    "train_x = train_x.loc[:,targets]\n",
    "test_x = test_x.loc[:,targets]\n"
   ]
  },
  {
   "cell_type": "markdown",
   "metadata": {},
   "source": [
    "#### モデル作成"
   ]
  },
  {
   "cell_type": "code",
   "execution_count": 4,
   "metadata": {},
   "outputs": [
    {
     "name": "stdout",
     "output_type": "stream",
     "text": [
      "処理終了: 2020-01-08 20:17:46.651858\n",
      "\n"
     ]
    }
   ],
   "source": [
    "from xgboost import XGBClassifier\n",
    "\n",
    "# モデルの作成および学習データを与えての学習\n",
    "model = XGBClassifier(n_estimators=20, random_state=71)\n",
    "model.fit(train_x, train_y)\n",
    "\n",
    "# テストデータの予測値を出力する\n",
    "pred = model.predict(test_x)\n",
    "\n",
    "# 提出用ファイルの作成\n",
    "submission = pd.DataFrame({'Id': test['Id'], 'SalePrice': pred})\n",
    "submission.to_csv('/kaggle/output/submission_first.csv', index=False)\n",
    "\n",
    "printTime('処理終了')"
   ]
  },
  {
   "cell_type": "code",
   "execution_count": null,
   "metadata": {},
   "outputs": [],
   "source": []
  }
 ],
 "metadata": {
  "kernelspec": {
   "display_name": "Python 3",
   "language": "python",
   "name": "python3"
  },
  "language_info": {
   "codemirror_mode": {
    "name": "ipython",
    "version": 3
   },
   "file_extension": ".py",
   "mimetype": "text/x-python",
   "name": "python",
   "nbconvert_exporter": "python",
   "pygments_lexer": "ipython3",
   "version": "3.7.3"
  }
 },
 "nbformat": 4,
 "nbformat_minor": 2
}
