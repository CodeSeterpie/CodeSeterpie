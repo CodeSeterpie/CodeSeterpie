{
 "cells": [
  {
   "cell_type": "code",
   "execution_count": 145,
   "metadata": {
    "scrolled": true
   },
   "outputs": [
    {
     "name": "stdout",
     "output_type": "stream",
     "text": [
      "Inputファイルを表示: 2020-01-27 05:54:36.414422\n",
      "/kaggle/input/test.csv\n",
      "/kaggle/input/data_description.txt\n",
      "/kaggle/input/train.csv\n",
      "/kaggle/input/.ipynb_checkpoints/train-checkpoint.csv\n",
      "/kaggle/input/.ipynb_checkpoints/test-checkpoint.csv\n",
      "/kaggle/input/.ipynb_checkpoints/data_description-checkpoint.txt\n"
     ]
    }
   ],
   "source": [
    "import numpy as np\n",
    "import pandas as pd\n",
    "import matplotlib.pyplot as plt\n",
    "import seaborn as sns\n",
    "from xgboost import XGBClassifier\n",
    "from sklearn.metrics import mean_squared_error, accuracy_score\n",
    "from sklearn.model_selection import KFold\n",
    "from sklearn.preprocessing import LabelEncoder\n",
    "\n",
    "import os\n",
    "import datetime\n",
    "import itertools\n",
    "\n",
    "# ログ出力用の関数\n",
    "def printTime(tag):\n",
    "    print(tag + ':', datetime.datetime.now())\n",
    "\n",
    "printTime('Inputファイルを表示')\n",
    "for dirname, _, filenames in os.walk('/kaggle/input'):\n",
    "    for filename in filenames:\n",
    "        print(os.path.join(dirname, filename))\n"
   ]
  },
  {
   "cell_type": "markdown",
   "metadata": {},
   "source": [
    "#### 学習データの読み込み"
   ]
  },
  {
   "cell_type": "code",
   "execution_count": 146,
   "metadata": {},
   "outputs": [],
   "source": [
    "train = pd.read_csv('/kaggle/input/train.csv')\n",
    "test = pd.read_csv('/kaggle/input/test.csv')\n",
    "\n",
    "# 学習データを特徴量と目的変数に分ける\n",
    "train_x = train.drop(['SalePrice'], axis=1)\n",
    "train_y = train['SalePrice']\n",
    "\n",
    "# テストデータは特徴量のみなので、そのままでよい\n",
    "test_x = test.copy()"
   ]
  },
  {
   "cell_type": "markdown",
   "metadata": {},
   "source": [
    "#### 学習データの分析"
   ]
  },
  {
   "cell_type": "code",
   "execution_count": 147,
   "metadata": {
    "scrolled": true
   },
   "outputs": [
    {
     "data": {
      "text/plain": [
       "count      1460.000000\n",
       "mean     180921.195890\n",
       "std       79442.502883\n",
       "min       34900.000000\n",
       "25%      129975.000000\n",
       "50%      163000.000000\n",
       "75%      214000.000000\n",
       "max      755000.000000\n",
       "Name: SalePrice, dtype: float64"
      ]
     },
     "execution_count": 147,
     "metadata": {},
     "output_type": "execute_result"
    }
   ],
   "source": [
    "# SalePriceの平均や標準偏差、最大値、最小値、最頻値などの要約統計量を表示\n",
    "train['SalePrice'].describe()"
   ]
  },
  {
   "cell_type": "code",
   "execution_count": 148,
   "metadata": {},
   "outputs": [
    {
     "data": {
      "text/plain": [
       "<matplotlib.axes._subplots.AxesSubplot at 0x7fd1f47bd828>"
      ]
     },
     "execution_count": 148,
     "metadata": {},
     "output_type": "execute_result"
    },
    {
     "data": {
      "image/png": "[encoded data removed]",
      "text/plain": [
       "<Figure size 432x288 with 1 Axes>"
      ]
     },
     "metadata": {
      "needs_background": "light"
     },
     "output_type": "display_data"
    }
   ],
   "source": [
    "# SalePriceのヒストグラムを表示\n",
    "sns.distplot(train['SalePrice'])"
   ]
  },
  {
   "cell_type": "markdown",
   "metadata": {},
   "source": [
    " #### 特徴量作成\n",
    " ##### 課題\n",
    " * カテゴリ列の中で、テストデータにしかない値があるとエラーしてしまう。\n",
    " * どのカテゴリ列をモデルに与えたらいいのか判断がつかない。"
   ]
  },
  {
   "cell_type": "code",
   "execution_count": 149,
   "metadata": {},
   "outputs": [
    {
     "name": "stdout",
     "output_type": "stream",
     "text": [
      "<class 'pandas.core.frame.DataFrame'>\n",
      "RangeIndex: 1460 entries, 0 to 1459\n",
      "Data columns (total 49 columns):\n",
      "1stFlrSF              1460 non-null int64\n",
      "BsmtFinSF1            1460 non-null int64\n",
      "Fireplaces            1460 non-null int64\n",
      "FullBath              1460 non-null int64\n",
      "GarageArea            1460 non-null int64\n",
      "GarageCars            1460 non-null int64\n",
      "GarageYrBlt           1379 non-null float64\n",
      "GrLivArea             1460 non-null int64\n",
      "MasVnrArea            1452 non-null float64\n",
      "OverallQual           1460 non-null int64\n",
      "TotalBsmtSF           1460 non-null int64\n",
      "TotRmsAbvGrd          1460 non-null int64\n",
      "YearBuilt             1460 non-null int64\n",
      "YearRemodAdd          1460 non-null int64\n",
      "Street                1460 non-null object\n",
      "Alley                 1460 non-null object\n",
      "LotShape              1460 non-null object\n",
      "LandContour           1460 non-null object\n",
      "LotConfigLandSlope    1460 non-null object\n",
      "Neighborhood          1460 non-null object\n",
      "Condition1            1460 non-null object\n",
      "Condition2            1460 non-null object\n",
      "BldgType              1460 non-null object\n",
      "HouseStyle            1460 non-null object\n",
      "RoofStyle             1460 non-null object\n",
      "RoofMatl              1460 non-null object\n",
      "MasVnrType            1460 non-null object\n",
      "ExterQual             1460 non-null object\n",
      "ExterCond             1460 non-null object\n",
      "Foundation            1460 non-null object\n",
      "BsmtQual              1460 non-null object\n",
      "BsmtCond              1460 non-null object\n",
      "BsmtExposure          1460 non-null object\n",
      "BsmtFinType1          1460 non-null object\n",
      "BsmtFinType2          1460 non-null object\n",
      "Heating               1460 non-null object\n",
      "HeatingQC             1460 non-null object\n",
      "CentralAir            1460 non-null object\n",
      "Electrical            1460 non-null object\n",
      "FireplaceQu           1460 non-null object\n",
      "GarageType            1460 non-null object\n",
      "GarageFinish          1460 non-null object\n",
      "GarageQual            1460 non-null object\n",
      "GarageCond            1460 non-null object\n",
      "PavedDrive            1460 non-null object\n",
      "PoolQC                1460 non-null object\n",
      "Fence                 1460 non-null object\n",
      "MiscFeature           1460 non-null object\n",
      "SaleCondition         1460 non-null object\n",
      "dtypes: float64(2), int64(12), object(35)\n",
      "memory usage: 559.0+ KB\n",
      "Street\n",
      "Alley\n",
      "LotShape\n",
      "LandContour\n",
      "LotConfigLandSlope\n",
      "Neighborhood\n",
      "Condition1\n",
      "Condition2\n",
      "BldgType\n",
      "HouseStyle\n",
      "RoofStyle\n",
      "RoofMatl\n",
      "MasVnrType\n",
      "ExterQual\n",
      "ExterCond\n",
      "Foundation\n",
      "BsmtQual\n",
      "BsmtCond\n",
      "BsmtExposure\n",
      "BsmtFinType1\n",
      "BsmtFinType2\n",
      "Heating\n",
      "HeatingQC\n",
      "CentralAir\n",
      "Electrical\n",
      "FireplaceQu\n",
      "GarageType\n",
      "GarageFinish\n",
      "GarageQual\n",
      "GarageCond\n",
      "PavedDrive\n",
      "PoolQC\n",
      "Fence\n",
      "MiscFeature\n",
      "SaleCondition\n"
     ]
    }
   ],
   "source": [
    "# 解析対象とする数値列を設定\n",
    "targets_num = ['1stFlrSF', \n",
    "               'BsmtFinSF1', \n",
    "               'Fireplaces', \n",
    "               'FullBath', \n",
    "               'GarageArea', \n",
    "               'GarageCars', \n",
    "               'GarageYrBlt', \n",
    "               'GrLivArea', \n",
    "               'MasVnrArea', \n",
    "               'OverallQual', \n",
    "               'TotalBsmtSF', \n",
    "               'TotRmsAbvGrd', \n",
    "               'YearBuilt', \n",
    "               'YearRemodAdd']\n",
    "\n",
    "# 解析対象とするカテゴリ列を設定\n",
    "targets_category = [\n",
    "                    #'MSSubClass',\n",
    "                    #'MSZoning',\n",
    "                    'Street',\n",
    "                    'Alley',\n",
    "                    'LotShape',\n",
    "                    'LandContour',\n",
    "                    #'Utilities',\n",
    "                    'LotConfig'\n",
    "                    'LandSlope',\n",
    "                    'Neighborhood',\n",
    "                    'Condition1',\n",
    "                    'Condition2',\n",
    "                    'BldgType',\n",
    "                    'HouseStyle',\n",
    "                    'RoofStyle',\n",
    "                    'RoofMatl',\n",
    "                    #'Exterior1st',\n",
    "                    #'Exterior2nd',\n",
    "                    'MasVnrType',\n",
    "                    'ExterQual',\n",
    "                    'ExterCond',\n",
    "                    'Foundation',\n",
    "                    'BsmtQual',\n",
    "                    'BsmtCond',\n",
    "                    'BsmtExposure',\n",
    "                    'BsmtFinType1',\n",
    "                    'BsmtFinType2',\n",
    "                    'Heating',\n",
    "                    'HeatingQC',\n",
    "                    'CentralAir',\n",
    "                    'Electrical',\n",
    "                    #'KitchenQual',\n",
    "                    #'Functional',\n",
    "                    'FireplaceQu',\n",
    "                    'GarageType',\n",
    "                    'GarageFinish',\n",
    "                    'GarageQual',\n",
    "                    'GarageCond',\n",
    "                    'PavedDrive',\n",
    "                    'PoolQC',\n",
    "                    'Fence',\n",
    "                    'MiscFeature',\n",
    "                    #'SaleType',\n",
    "                    'SaleCondition']\n",
    "\n",
    "targets = targets_num\n",
    "targets.extend(targets_category)\n",
    "\n",
    "# 解析対象列のみを抽出\n",
    "train_x = train_x.loc[:,targets]\n",
    "test_x = test_x.loc[:,targets]\n",
    "\n",
    "# Dataframeの列の型がobjectのままだとLabelEncoderでエラーするため、strに変換\n",
    "# ※変換処理後にinfo()で型を確認しても、objectと表示されるが内部的にはstrに変換されている。\n",
    "train_x[targets_category] = train_x[targets_category].astype(str)\n",
    "test_x[targets_category] = test_x[targets_category].astype(str)\n",
    "\n",
    "train_x.info()\n",
    "    \n",
    "# カテゴリ変数をlabel encodingする\n",
    "for c in targets_category:\n",
    "    # 学習データとテストデータに基づいてラベルを設定\n",
    "    print(c)\n",
    "    le = LabelEncoder()\n",
    "    le.fit(train_x[c])\n",
    "    train_x[c] = le.transform(train_x[c])\n",
    "    test_x[c] = le.transform(test_x[c])\n"
   ]
  },
  {
   "cell_type": "markdown",
   "metadata": {},
   "source": [
    "#### モデル作成"
   ]
  },
  {
   "cell_type": "code",
   "execution_count": 150,
   "metadata": {},
   "outputs": [
    {
     "name": "stdout",
     "output_type": "stream",
     "text": [
      "モデルの作成開始: 2020-01-27 05:54:37.066234\n",
      "モデルの作成終了: 2020-01-27 05:55:07.988718\n"
     ]
    }
   ],
   "source": [
    "printTime('モデルの作成開始')\n",
    "\n",
    "# モデルの作成および学習データを与えての学習\n",
    "model = XGBClassifier(n_estimators=20, random_state=71, \n",
    "                      max_depth=5, min_child_weight=1.0)\n",
    "model.fit(train_x, train_y)\n",
    "\n",
    "# テストデータの予測値を出力する\n",
    "pred = model.predict(test_x)\n",
    "\n",
    "# 提出用ファイルの作成\n",
    "submission = pd.DataFrame({'Id': test['Id'], 'SalePrice': pred})\n",
    "submission.to_csv('/kaggle/output/submission_first.csv', index=False)\n",
    "\n",
    "printTime('モデルの作成終了')"
   ]
  },
  {
   "cell_type": "markdown",
   "metadata": {},
   "source": [
    "#### バリデーション"
   ]
  },
  {
   "cell_type": "code",
   "execution_count": 151,
   "metadata": {},
   "outputs": [
    {
     "name": "stdout",
     "output_type": "stream",
     "text": [
      "バリデーション開始: 2020-01-27 05:55:07.999063\n",
      "RMSE: 0.23921\n",
      "バリデーション終了: 2020-01-27 05:56:07.320104\n"
     ]
    }
   ],
   "source": [
    "printTime('バリデーション開始')\n",
    "\n",
    "# 各foldのスコアを保存するリスト\n",
    "scores_rmse = []\n",
    "\n",
    "# クロスバリデーションを行う\n",
    "# 学習データを4つに分割し、うち1つをバリデーションデータとすることを、バリデーションデータを変えて繰り返す\n",
    "kf = KFold(n_splits=4, shuffle=True, random_state=71)\n",
    "for tr_idx, va_idx in kf.split(train_x):\n",
    "    \n",
    "    # 学習データを学習データとバリデーションデータに分ける\n",
    "    tr_x, va_x = train_x.iloc[tr_idx], train_x.iloc[va_idx]\n",
    "    tr_y, va_y = train_y.iloc[tr_idx], train_y.iloc[va_idx]\n",
    "\n",
    "    # モデルの学習を行う\n",
    "    model = XGBClassifier(n_estimators=20, random_state=71)\n",
    "    model.fit(tr_x, tr_y)\n",
    "\n",
    "    # バリデーションデータの予測値を出力する\n",
    "    va_pred = model.predict(va_x)\n",
    "\n",
    "    # バリデーションデータでのスコア(真の値の対数と予測値の対数の二乗平均平方根誤差 (RMSE))を計算する\n",
    "    rmse = np.sqrt(mean_squared_error(np.log(va_y), np.log(va_pred)))\n",
    "\n",
    "    # そのfoldのスコアを保存する\n",
    "    scores_rmse.append(rmse)\n",
    "\n",
    "# 各foldのスコアの平均を出力する\n",
    "rmse = np.mean(scores_rmse)\n",
    "print(f'RMSE: {rmse:.5f}')\n",
    "\n",
    "printTime('バリデーション終了')"
   ]
  },
  {
   "cell_type": "markdown",
   "metadata": {},
   "source": [
    "#### モデルチューニング"
   ]
  },
  {
   "cell_type": "code",
   "execution_count": 152,
   "metadata": {},
   "outputs": [
    {
     "name": "stdout",
     "output_type": "stream",
     "text": [
      "モデルチューニング開始: 2020-01-27 05:56:07.336478\n",
      "1: 2020-01-27 05:56:07.338124\n",
      "2: 2020-01-27 05:57:07.011300\n",
      "3: 2020-01-27 05:57:54.305955\n",
      "4: 2020-01-27 05:58:37.188194\n",
      "5: 2020-01-27 05:59:38.801490\n",
      "6: 2020-01-27 06:00:28.797519\n",
      "7: 2020-01-27 06:01:12.017568\n",
      "8: 2020-01-27 06:02:14.025520\n",
      "9: 2020-01-27 06:03:01.616344\n",
      "max_depth: 5, min_child_weight: 1.0\n",
      "モデルチューニング終了: 2020-01-27 06:03:45.069248\n"
     ]
    }
   ],
   "source": [
    "printTime('モデルチューニング開始')\n",
    "\n",
    "# チューニング候補とするパラメータを準備する\n",
    "param_space = {\n",
    "    'max_depth': [3, 5, 7],\n",
    "    'min_child_weight': [1.0, 2.0, 4.0]\n",
    "}\n",
    "\n",
    "# 探索するハイパーパラメータの組み合わせ\n",
    "param_combinations = itertools.product(param_space['max_depth'], param_space['min_child_weight'])\n",
    "\n",
    "# 各パラメータの組み合わせ、それに対するスコアを保存するリスト\n",
    "params = []\n",
    "scores = []\n",
    "\n",
    "# ループカウント変数\n",
    "loopcount = 0\n",
    "\n",
    "# 各パラメータの組み合わせごとに、クロスバリデーションで評価を行う\n",
    "for max_depth, min_child_weight in param_combinations:\n",
    "\n",
    "    loopcount += 1\n",
    "    printTime(str(loopcount))\n",
    "    \n",
    "    score_folds = []\n",
    "    # クロスバリデーションを行う\n",
    "    # 学習データを4つに分割し、うち1つをバリデーションデータとすることを、バリデーションデータを変えて繰り返す\n",
    "    kf = KFold(n_splits=4, shuffle=True, random_state=123456)\n",
    "    for tr_idx, va_idx in kf.split(train_x):\n",
    "        # 学習データを学習データとバリデーションデータに分ける\n",
    "        tr_x, va_x = train_x.iloc[tr_idx], train_x.iloc[va_idx]\n",
    "        tr_y, va_y = train_y.iloc[tr_idx], train_y.iloc[va_idx]\n",
    "\n",
    "        # モデルの学習を行う\n",
    "        model = XGBClassifier(n_estimators=20, random_state=71,\n",
    "                              max_depth=max_depth, min_child_weight=min_child_weight)\n",
    "        model.fit(tr_x, tr_y)\n",
    "\n",
    "        # バリデーションデータでのスコアを計算し、保存する\n",
    "        va_pred = model.predict(va_x)\n",
    "        rmse = np.sqrt(mean_squared_error(np.log(va_y), np.log(va_pred)))\n",
    "        score_folds.append(rmse)\n",
    "\n",
    "    # 各foldのスコアを平均する\n",
    "    score_mean = np.mean(score_folds)\n",
    "\n",
    "    # パラメータの組み合わせ、それに対するスコアを保存する\n",
    "    params.append((max_depth, min_child_weight))\n",
    "    scores.append(score_mean)\n",
    "\n",
    "# 最もスコアが良いものをベストなパラメータとする\n",
    "best_idx = np.argsort(scores)[0]\n",
    "best_param = params[best_idx]\n",
    "print(f'max_depth: {best_param[0]}, min_child_weight: {best_param[1]}')\n",
    "\n",
    "printTime('モデルチューニング終了')"
   ]
  },
  {
   "cell_type": "code",
   "execution_count": null,
   "metadata": {},
   "outputs": [],
   "source": []
  }
 ],
 "metadata": {
  "kernelspec": {
   "display_name": "Python 3",
   "language": "python",
   "name": "python3"
  },
  "language_info": {
   "codemirror_mode": {
    "name": "ipython",
    "version": 3
   },
   "file_extension": ".py",
   "mimetype": "text/x-python",
   "name": "python",
   "nbconvert_exporter": "python",
   "pygments_lexer": "ipython3",
   "version": "3.7.3"
  }
 },
 "nbformat": 4,
 "nbformat_minor": 4
}
