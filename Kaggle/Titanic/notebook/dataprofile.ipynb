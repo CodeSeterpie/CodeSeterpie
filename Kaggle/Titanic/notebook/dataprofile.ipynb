{
 "cells": [
  {
   "cell_type": "code",
   "execution_count": 1,
   "metadata": {},
   "outputs": [
    {
     "name": "stdout",
     "output_type": "stream",
     "text": [
      "Inputファイルを表示: 2020-02-21 10:14:28.519449\n",
      "/kaggle/input/test.csv\n",
      "/kaggle/input/train.csv\n",
      "/kaggle/input/.ipynb_checkpoints/train-checkpoint.csv\n",
      "/kaggle/input/.ipynb_checkpoints/test-checkpoint.csv\n"
     ]
    }
   ],
   "source": [
    "import numpy as np\n",
    "import pandas as pd\n",
    "import pandas_profiling as pdp\n",
    "import os\n",
    "import datetime\n",
    "\n",
    "# 処理日時表示用の関数\n",
    "\n",
    "\n",
    "def printTime(tag):\n",
    "    print(tag + ':', datetime.datetime.now())\n",
    "\n",
    "\n",
    "printTime('Inputファイルを表示')\n",
    "for dirname, _, filenames in os.walk('/kaggle/input'):\n",
    "    for filename in filenames:\n",
    "        print(os.path.join(dirname, filename))"
   ]
  },
  {
   "cell_type": "markdown",
   "metadata": {},
   "source": [
    "#### データプロファイル"
   ]
  },
  {
   "cell_type": "code",
   "execution_count": 2,
   "metadata": {
    "scrolled": true
   },
   "outputs": [
    {
     "name": "stdout",
     "output_type": "stream",
     "text": [
      "学習データのプロファイル開始: 2020-02-21 10:15:08.875666\n",
      "学習データのプロファイル終了: 2020-02-21 10:15:30.387310\n",
      "テストデータのプロファイル開始: 2020-02-21 10:15:30.391458\n",
      "テストデータのプロファイル終了: 2020-02-21 10:15:47.588076\n"
     ]
    }
   ],
   "source": [
    "train = pd.read_csv('/kaggle/input/train.csv')\n",
    "test = pd.read_csv('/kaggle/input/test.csv')\n",
    "\n",
    "# 学習データとテストデータのプロファイルを行い、結果をoutputフォルダにhtmlで出力する。\n",
    "printTime('学習データのプロファイル開始')\n",
    "profile = pdp.ProfileReport(train)\n",
    "profile.to_file(output_file=\"/kaggle/output/profile_train.html\")\n",
    "printTime('学習データのプロファイル終了')\n",
    "\n",
    "printTime('テストデータのプロファイル開始')\n",
    "profile = pdp.ProfileReport(test)\n",
    "profile.to_file(output_file=\"/kaggle/output/profile_test.html\")\n",
    "printTime('テストデータのプロファイル終了')"
   ]
  },
  {
   "cell_type": "code",
   "execution_count": null,
   "metadata": {},
   "outputs": [],
   "source": []
  }
 ],
 "metadata": {
  "kernelspec": {
   "display_name": "Python 3",
   "language": "python",
   "name": "python3"
  },
  "language_info": {
   "codemirror_mode": {
    "name": "ipython",
    "version": 3
   },
   "file_extension": ".py",
   "mimetype": "text/x-python",
   "name": "python",
   "nbconvert_exporter": "python",
   "pygments_lexer": "ipython3",
   "version": "3.7.4"
  }
 },
 "nbformat": 4,
 "nbformat_minor": 4
}
