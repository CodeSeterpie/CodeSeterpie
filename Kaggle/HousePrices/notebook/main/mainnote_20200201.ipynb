{
 "cells": [
  {
   "cell_type": "code",
   "execution_count": 119,
   "metadata": {
    "scrolled": true
   },
   "outputs": [
    {
     "name": "stdout",
     "output_type": "stream",
     "text": [
      "Inputファイルを表示: 2020-02-01 21:09:42.594745\n",
      "/kaggle/input/test.csv\n",
      "/kaggle/input/data_description.txt\n",
      "/kaggle/input/train.csv\n",
      "/kaggle/input/.ipynb_checkpoints/train-checkpoint.csv\n",
      "/kaggle/input/.ipynb_checkpoints/test-checkpoint.csv\n",
      "/kaggle/input/.ipynb_checkpoints/data_description-checkpoint.txt\n"
     ]
    }
   ],
   "source": [
    "import numpy as np\n",
    "import pandas as pd\n",
    "import matplotlib.pyplot as plt\n",
    "import seaborn as sns\n",
    "from xgboost import XGBClassifier\n",
    "from sklearn.metrics import mean_squared_error, accuracy_score\n",
    "from sklearn.model_selection import KFold\n",
    "from sklearn.preprocessing import LabelEncoder\n",
    "\n",
    "import os\n",
    "import datetime\n",
    "import itertools\n",
    "\n",
    "# ログ出力用の関数\n",
    "def printTime(tag):\n",
    "    print(tag + ':', datetime.datetime.now())\n",
    "\n",
    "printTime('Inputファイルを表示')\n",
    "for dirname, _, filenames in os.walk('/kaggle/input'):\n",
    "    for filename in filenames:\n",
    "        print(os.path.join(dirname, filename))\n"
   ]
  },
  {
   "cell_type": "markdown",
   "metadata": {},
   "source": [
    "#### 学習データの読み込み"
   ]
  },
  {
   "cell_type": "code",
   "execution_count": 120,
   "metadata": {},
   "outputs": [],
   "source": [
    "train = pd.read_csv('/kaggle/input/train.csv')\n",
    "test = pd.read_csv('/kaggle/input/test.csv')\n",
    "\n",
    "# 学習データを特徴量と目的変数に分ける\n",
    "train_x = train.drop(['SalePrice'], axis=1)\n",
    "train_y = train['SalePrice']\n",
    "\n",
    "# テストデータは特徴量のみなので、そのままでよい\n",
    "test_x = test.copy()"
   ]
  },
  {
   "cell_type": "markdown",
   "metadata": {},
   "source": [
    " #### 特徴量作成"
   ]
  },
  {
   "cell_type": "code",
   "execution_count": 121,
   "metadata": {},
   "outputs": [],
   "source": [
    "# 解析対象とする数値列を設定\n",
    "targets_num = ['1stFlrSF', \n",
    "               '2ndFlrSF'\n",
    "               'BsmtFinSF1', \n",
    "               'Fireplaces', \n",
    "               'FullBath', \n",
    "               'GarageArea', \n",
    "               'GarageCars', \n",
    "               'GarageYrBlt', \n",
    "               'GrLivArea', \n",
    "               'MasVnrArea', \n",
    "               'OverallQual', \n",
    "               'OverallCond',\n",
    "               'TotalBsmtSF', \n",
    "               'TotRmsAbvGrd', \n",
    "               'YearBuilt', \n",
    "               'YearRemodAdd']\n",
    "\n",
    "# 解析対象とするカテゴリ列を設定\n",
    "\n",
    "targets_category = [\n",
    "                    'MSSubClass',\n",
    "                    'MSZoning',\n",
    "                    #'Street',\n",
    "                    #'Alley',\n",
    "                    'LotShape',\n",
    "                    'LandContour',\n",
    "                    #'Utilities',\n",
    "                    'LotConfig'\n",
    "                    #'LandSlope',\n",
    "                    'Neighborhood',\n",
    "                    'Condition1',\n",
    "                    #'Condition2',\n",
    "                    'BldgType',\n",
    "                    'HouseStyle',\n",
    "                    'RoofStyle',\n",
    "                    'RoofMatl',\n",
    "                    'Exterior1st',\n",
    "                    'Exterior2nd',\n",
    "                    'MasVnrType',\n",
    "                    'ExterQual',\n",
    "                    'ExterCond',\n",
    "                    'Foundation',\n",
    "                    'BsmtQual',\n",
    "                    'BsmtCond',\n",
    "                    'BsmtExposure',\n",
    "                    'BsmtFinType1',\n",
    "                    'BsmtFinType2',\n",
    "                    #'Heating',\n",
    "                    'HeatingQC',\n",
    "                    #'CentralAir',\n",
    "                    'Electrical',\n",
    "                    'KitchenQual',\n",
    "                    'Functional',\n",
    "                    'FireplaceQu',\n",
    "                    'GarageType',\n",
    "                    'GarageFinish',\n",
    "                    'GarageQual',\n",
    "                    'GarageCond',\n",
    "                    #'PavedDrive',\n",
    "                    'PoolQC',\n",
    "                    'Fence',\n",
    "                    'MiscFeature',\n",
    "                    'SaleType',\n",
    "                    'SaleCondition']\n",
    "\n",
    "# 解析対象とする数値列とカテゴリ列の列名を連結\n",
    "targets = targets_num\n",
    "targets.extend(targets_category)\n",
    "\n",
    "# 解析対象列のみを抽出\n",
    "train_x = train_x.reindex(columns=targets)\n",
    "test_x = test_x.reindex(columns=targets)\n",
    "\n",
    "# Dataframeの列の型がobjectのままだとLabelEncoderでエラーするため、strに変換\n",
    "# ※変換処理後にinfo()で型を確認しても、objectと表示されるが内部的にはstrに変換されている。\n",
    "train_x[targets_category] = train_x[targets_category].astype(str)\n",
    "test_x[targets_category] = test_x[targets_category].astype(str)\n",
    "\n",
    "# ラベルエンコーディング用に学習データとテストデータをunion\n",
    "lavel_x = train_x.append(test_x, ignore_index=True)\n",
    "\n",
    "# カテゴリ変数をlabel encodingする\n",
    "for c in targets_category:\n",
    "    # 学習データとテストデータに基づいてラベルを設定\n",
    "    le = LabelEncoder()\n",
    "    le.fit(lavel_x[c])\n",
    "    train_x[c] = le.transform(train_x[c])\n",
    "    test_x[c] = le.transform(test_x[c])\n"
   ]
  },
  {
   "cell_type": "markdown",
   "metadata": {},
   "source": [
    "#### モデル作成"
   ]
  },
  {
   "cell_type": "code",
   "execution_count": 131,
   "metadata": {},
   "outputs": [
    {
     "name": "stdout",
     "output_type": "stream",
     "text": [
      "モデルの作成開始: 2020-02-01 22:23:00.849068\n",
      "モデルの作成終了: 2020-02-01 22:23:39.830302\n"
     ]
    }
   ],
   "source": [
    "printTime('モデルの作成開始')\n",
    "\n",
    "# ハイパーパラメータの設定\n",
    "prm_n_estimators=20\n",
    "prm_random_state=71\n",
    "prm_max_depth=5\n",
    "prm_min_child_weight=0.4\n",
    "\n",
    "# モデルの作成および学習データを与えての学習\n",
    "model = XGBClassifier(n_estimators=prm_n_estimators, \n",
    "                      random_state=prm_random_state, \n",
    "                      max_depth=prm_max_depth, \n",
    "                      min_child_weight=prm_min_child_weight)\n",
    "\n",
    "model.fit(train_x, train_y)\n",
    "\n",
    "# テストデータの予測値を出力する\n",
    "pred = model.predict(test_x)\n",
    "\n",
    "# 提出用ファイルの作成\n",
    "submission = pd.DataFrame({'Id': test['Id'], 'SalePrice': pred})\n",
    "submission.to_csv('/kaggle/output/submission_first.csv', index=False)\n",
    "\n",
    "printTime('モデルの作成終了')"
   ]
  },
  {
   "cell_type": "markdown",
   "metadata": {},
   "source": [
    "#### バリデーション"
   ]
  },
  {
   "cell_type": "code",
   "execution_count": 132,
   "metadata": {},
   "outputs": [
    {
     "name": "stdout",
     "output_type": "stream",
     "text": [
      "バリデーション開始: 2020-02-01 22:23:45.717642\n",
      "RMSE: 0.23061\n",
      "バリデーション終了: 2020-02-01 22:24:57.195893\n"
     ]
    }
   ],
   "source": [
    "printTime('バリデーション開始')\n",
    "\n",
    "# 各foldのスコアを保存するリスト\n",
    "scores_rmse = []\n",
    "\n",
    "# クロスバリデーションを行う\n",
    "# 学習データを4つに分割し、うち1つをバリデーションデータとすることを、バリデーションデータを変えて繰り返す\n",
    "kf = KFold(n_splits=4, shuffle=True, random_state=71)\n",
    "for tr_idx, va_idx in kf.split(train_x):\n",
    "    \n",
    "    # 学習データを学習データとバリデーションデータに分ける\n",
    "    tr_x, va_x = train_x.iloc[tr_idx], train_x.iloc[va_idx]\n",
    "    tr_y, va_y = train_y.iloc[tr_idx], train_y.iloc[va_idx]\n",
    "\n",
    "    # モデルの学習を行う\n",
    "    model = XGBClassifier(n_estimators=prm_n_estimators, \n",
    "                          random_state=prm_random_state, \n",
    "                          max_depth=prm_max_depth, \n",
    "                          min_child_weight=prm_min_child_weight)\n",
    "    \n",
    "    model.fit(tr_x, tr_y)\n",
    "\n",
    "    # バリデーションデータの予測値を出力する\n",
    "    va_pred = model.predict(va_x)\n",
    "\n",
    "    # バリデーションデータでのスコア(真の値の対数と予測値の対数の二乗平均平方根誤差 (RMSE))を計算する\n",
    "    rmse = np.sqrt(mean_squared_error(np.log(va_y), np.log(va_pred)))\n",
    "\n",
    "    # そのfoldのスコアを保存する\n",
    "    scores_rmse.append(rmse)\n",
    "\n",
    "# 各foldのスコアの平均を出力する\n",
    "rmse = np.mean(scores_rmse)\n",
    "print(f'RMSE: {rmse:.5f}')\n",
    "\n",
    "printTime('バリデーション終了')"
   ]
  },
  {
   "cell_type": "markdown",
   "metadata": {},
   "source": [
    "#### モデルチューニング"
   ]
  },
  {
   "cell_type": "code",
   "execution_count": 130,
   "metadata": {},
   "outputs": [
    {
     "name": "stdout",
     "output_type": "stream",
     "text": [
      "モデルチューニング開始: 2020-02-01 22:12:07.972415\n",
      "max_depth: 4, min_child_weight: 0.3, score: 0.24143: 2020-02-01 22:13:19.784720\n",
      "max_depth: 4, min_child_weight: 0.4, score: 0.23398: 2020-02-01 22:14:29.766758\n",
      "max_depth: 4, min_child_weight: 0.5, score: 0.23479: 2020-02-01 22:15:38.912292\n",
      "max_depth: 5, min_child_weight: 0.3, score: 0.23888: 2020-02-01 22:16:50.670331\n",
      "max_depth: 5, min_child_weight: 0.4, score: 0.22959: 2020-02-01 22:18:01.805262\n",
      "max_depth: 5, min_child_weight: 0.5, score: 0.23286: 2020-02-01 22:19:11.508185\n",
      "max_depth: 6, min_child_weight: 0.3, score: 0.24351: 2020-02-01 22:20:23.518411\n",
      "max_depth: 6, min_child_weight: 0.4, score: 0.23014: 2020-02-01 22:21:34.432612\n",
      "max_depth: 6, min_child_weight: 0.5, score: 0.23176: 2020-02-01 22:22:44.381376\n",
      "max_depth: 5, min_child_weight: 0.4\n",
      "モデルチューニング終了: 2020-02-01 22:22:44.381968\n"
     ]
    }
   ],
   "source": [
    "printTime('モデルチューニング開始')\n",
    "\n",
    "# チューニング候補とするパラメータを準備する\n",
    "param_space = {\n",
    "    'max_depth': [4, 5, 6],\n",
    "    'min_child_weight': [0.3, 0.4, 0.5]\n",
    "}\n",
    "\n",
    "# 探索するハイパーパラメータの組み合わせ\n",
    "param_combinations = itertools.product(param_space['max_depth'], param_space['min_child_weight'])\n",
    "\n",
    "# 各パラメータの組み合わせ、それに対するスコアを保存するリスト\n",
    "params = []\n",
    "scores = []\n",
    "\n",
    "# ループカウント変数\n",
    "loopcount = 0\n",
    "\n",
    "# 各パラメータの組み合わせごとに、クロスバリデーションで評価を行う\n",
    "for max_depth, min_child_weight in param_combinations:\n",
    "\n",
    "    loopcount += 1\n",
    "    \n",
    "    score_folds = []\n",
    "    # クロスバリデーションを行う\n",
    "    # 学習データを4つに分割し、うち1つをバリデーションデータとすることを、バリデーションデータを変えて繰り返す\n",
    "    kf = KFold(n_splits=4, shuffle=True, random_state=123456)\n",
    "    for tr_idx, va_idx in kf.split(train_x):\n",
    "        # 学習データを学習データとバリデーションデータに分ける\n",
    "        tr_x, va_x = train_x.iloc[tr_idx], train_x.iloc[va_idx]\n",
    "        tr_y, va_y = train_y.iloc[tr_idx], train_y.iloc[va_idx]\n",
    "\n",
    "        # モデルの学習を行う\n",
    "        model = XGBClassifier(n_estimators=20, random_state=71,\n",
    "                              max_depth=max_depth, min_child_weight=min_child_weight)\n",
    "        model.fit(tr_x, tr_y)\n",
    "\n",
    "        # バリデーションデータでのスコアを計算し、保存する\n",
    "        va_pred = model.predict(va_x)\n",
    "        rmse = np.sqrt(mean_squared_error(np.log(va_y), np.log(va_pred)))\n",
    "        score_folds.append(rmse)\n",
    "\n",
    "    # 各foldのスコアを平均する\n",
    "    score_mean = np.mean(score_folds)\n",
    "\n",
    "    # パラメータの組み合わせ、それに対するスコアを保存する\n",
    "    params.append((max_depth, min_child_weight))\n",
    "    scores.append(score_mean)\n",
    "\n",
    "    printTime(f'max_depth: {max_depth}, '\\\n",
    "              f'min_child_weight: {min_child_weight}, '\\\n",
    "              f'score: {score_mean:.5f}')\n",
    "    \n",
    "# 最もスコアが良いものをベストなパラメータとする\n",
    "best_idx = np.argsort(scores)[0]\n",
    "best_param = params[best_idx]\n",
    "print(f'max_depth: {best_param[0]}, min_child_weight: {best_param[1]}')\n",
    "\n",
    "printTime('モデルチューニング終了')"
   ]
  },
  {
   "cell_type": "code",
   "execution_count": null,
   "metadata": {},
   "outputs": [],
   "source": []
  }
 ],
 "metadata": {
  "kernelspec": {
   "display_name": "Python 3",
   "language": "python",
   "name": "python3"
  },
  "language_info": {
   "codemirror_mode": {
    "name": "ipython",
    "version": 3
   },
   "file_extension": ".py",
   "mimetype": "text/x-python",
   "name": "python",
   "nbconvert_exporter": "python",
   "pygments_lexer": "ipython3",
   "version": "3.7.4"
  }
 },
 "nbformat": 4,
 "nbformat_minor": 4
}
