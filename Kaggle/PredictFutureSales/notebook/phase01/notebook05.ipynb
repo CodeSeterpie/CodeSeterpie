{
  "nbformat": 4,
  "nbformat_minor": 0,
  "metadata": {
    "colab": {
      "name": "notebook05.ipynb",
      "provenance": [],
      "collapsed_sections": []
    },
    "kernelspec": {
      "name": "python3",
      "display_name": "Python 3"
    }
  },
  "cells": [
    {
      "cell_type": "code",
      "metadata": {
        "id": "h8h9u9nrjDmW",
        "colab_type": "code",
        "colab": {
          "base_uri": "https://localhost:8080/",
          "height": 54
        },
        "outputId": "58cb04be-b377-4637-ec3b-81289aa9d5e5"
      },
      "source": [
        "from google.colab import drive\n",
        "drive.mount('/content/drive')"
      ],
      "execution_count": 29,
      "outputs": [
        {
          "output_type": "stream",
          "text": [
            "Drive already mounted at /content/drive; to attempt to forcibly remount, call drive.mount(\"/content/drive\", force_remount=True).\n"
          ],
          "name": "stdout"
        }
      ]
    },
    {
      "cell_type": "code",
      "metadata": {
        "id": "rKezVwBNetfx",
        "colab_type": "code",
        "colab": {
          "base_uri": "https://localhost:8080/",
          "height": 139
        },
        "outputId": "680c49f2-7062-40c7-de54-cde7e54cf016"
      },
      "source": [
        "import os\n",
        "import pandas as pd\n",
        "import numpy as np\n",
        "import seaborn as sns\n",
        "import matplotlib.pyplot as plt\n",
        "from keras import metrics\n",
        "from keras.models import Sequential\n",
        "from keras.layers import Dense,  LSTM\n",
        "from sklearn.preprocessing import MinMaxScaler\n",
        "from datetime import date, timedelta\n",
        "\n",
        "# inputフォルダに格納されているファイルの一覧を出力\n",
        "BASE_PATH = '/content/drive/My Drive/CodeSeterpie/PredictFutureSales/input'\n",
        "\n",
        "for dirname, _, filenames in os.walk(BASE_PATH):\n",
        "    for filename in filenames:\n",
        "        print(os.path.join(dirname, filename))\n",
        "\n",
        "# データファイルの読み込み\n",
        "item_categories = pd.read_csv(BASE_PATH + '/item_categories.csv')\n",
        "items = pd.read_csv(BASE_PATH + '/items.csv')\n",
        "sales_train = pd.read_csv(BASE_PATH + '/sales_train.csv')\n",
        "sample_submission = pd.read_csv(BASE_PATH + '/sample_submission.csv')\n",
        "shops = pd.read_csv(BASE_PATH + '/shops.csv')\n",
        "test = pd.read_csv(BASE_PATH + '/test.csv')"
      ],
      "execution_count": 30,
      "outputs": [
        {
          "output_type": "stream",
          "text": [
            "/content/drive/My Drive/CodeSeterpie/PredictFutureSales/input/item_categories.csv\n",
            "/content/drive/My Drive/CodeSeterpie/PredictFutureSales/input/items.csv\n",
            "/content/drive/My Drive/CodeSeterpie/PredictFutureSales/input/sales_train.csv\n",
            "/content/drive/My Drive/CodeSeterpie/PredictFutureSales/input/sample_submission.csv\n",
            "/content/drive/My Drive/CodeSeterpie/PredictFutureSales/input/shops.csv\n",
            "/content/drive/My Drive/CodeSeterpie/PredictFutureSales/input/test.csv\n"
          ],
          "name": "stdout"
        }
      ]
    },
    {
      "cell_type": "code",
      "metadata": {
        "id": "2QCdwJyShmSp",
        "colab_type": "code",
        "colab": {
          "base_uri": "https://localhost:8080/",
          "height": 204
        },
        "outputId": "77f252fc-efb5-4707-b6fa-71814d7da0a7"
      },
      "source": [
        "test.head()"
      ],
      "execution_count": 31,
      "outputs": [
        {
          "output_type": "execute_result",
          "data": {
            "text/html": [
              "<div>\n",
              "<style scoped>\n",
              "    .dataframe tbody tr th:only-of-type {\n",
              "        vertical-align: middle;\n",
              "    }\n",
              "\n",
              "    .dataframe tbody tr th {\n",
              "        vertical-align: top;\n",
              "    }\n",
              "\n",
              "    .dataframe thead th {\n",
              "        text-align: right;\n",
              "    }\n",
              "</style>\n",
              "<table border=\"1\" class=\"dataframe\">\n",
              "  <thead>\n",
              "    <tr style=\"text-align: right;\">\n",
              "      <th></th>\n",
              "      <th>ID</th>\n",
              "      <th>shop_id</th>\n",
              "      <th>item_id</th>\n",
              "    </tr>\n",
              "  </thead>\n",
              "  <tbody>\n",
              "    <tr>\n",
              "      <th>0</th>\n",
              "      <td>0</td>\n",
              "      <td>5</td>\n",
              "      <td>5037</td>\n",
              "    </tr>\n",
              "    <tr>\n",
              "      <th>1</th>\n",
              "      <td>1</td>\n",
              "      <td>5</td>\n",
              "      <td>5320</td>\n",
              "    </tr>\n",
              "    <tr>\n",
              "      <th>2</th>\n",
              "      <td>2</td>\n",
              "      <td>5</td>\n",
              "      <td>5233</td>\n",
              "    </tr>\n",
              "    <tr>\n",
              "      <th>3</th>\n",
              "      <td>3</td>\n",
              "      <td>5</td>\n",
              "      <td>5232</td>\n",
              "    </tr>\n",
              "    <tr>\n",
              "      <th>4</th>\n",
              "      <td>4</td>\n",
              "      <td>5</td>\n",
              "      <td>5268</td>\n",
              "    </tr>\n",
              "  </tbody>\n",
              "</table>\n",
              "</div>"
            ],
            "text/plain": [
              "   ID  shop_id  item_id\n",
              "0   0        5     5037\n",
              "1   1        5     5320\n",
              "2   2        5     5233\n",
              "3   3        5     5232\n",
              "4   4        5     5268"
            ]
          },
          "metadata": {
            "tags": []
          },
          "execution_count": 31
        }
      ]
    },
    {
      "cell_type": "code",
      "metadata": {
        "id": "JtNlsFNgiMcV",
        "colab_type": "code",
        "colab": {
          "base_uri": "https://localhost:8080/",
          "height": 204
        },
        "outputId": "443e7677-6fdb-498b-90e6-7a7bd6acf3d4"
      },
      "source": [
        "# 予測対象のファイル(test)をベースに、\n",
        "# 2013年1月(date_block_num=0)〜2015年11月(date_block_num=35)まで増幅する\n",
        "test_201301to201511 = test.copy()\n",
        "\n",
        "test_201301to201511['crossjoin_key'] = 1\n",
        "\n",
        "data_fill = pd.DataFrame({'crossjoin_key' : 1,\n",
        "                          'date_block_num' : range(0, 35)})\n",
        "\n",
        "test_201301to201511 = pd.merge(test_201301to201511, \n",
        "                               data_fill, \n",
        "                               how='outer', \n",
        "                               on='crossjoin_key')\n",
        "\n",
        "test_201301to201511 = test_201301to201511.drop(['crossjoin_key'], axis=1)\n",
        "\n",
        "test_201301to201511.head()"
      ],
      "execution_count": 32,
      "outputs": [
        {
          "output_type": "execute_result",
          "data": {
            "text/html": [
              "<div>\n",
              "<style scoped>\n",
              "    .dataframe tbody tr th:only-of-type {\n",
              "        vertical-align: middle;\n",
              "    }\n",
              "\n",
              "    .dataframe tbody tr th {\n",
              "        vertical-align: top;\n",
              "    }\n",
              "\n",
              "    .dataframe thead th {\n",
              "        text-align: right;\n",
              "    }\n",
              "</style>\n",
              "<table border=\"1\" class=\"dataframe\">\n",
              "  <thead>\n",
              "    <tr style=\"text-align: right;\">\n",
              "      <th></th>\n",
              "      <th>ID</th>\n",
              "      <th>shop_id</th>\n",
              "      <th>item_id</th>\n",
              "      <th>date_block_num</th>\n",
              "    </tr>\n",
              "  </thead>\n",
              "  <tbody>\n",
              "    <tr>\n",
              "      <th>0</th>\n",
              "      <td>0</td>\n",
              "      <td>5</td>\n",
              "      <td>5037</td>\n",
              "      <td>0</td>\n",
              "    </tr>\n",
              "    <tr>\n",
              "      <th>1</th>\n",
              "      <td>0</td>\n",
              "      <td>5</td>\n",
              "      <td>5037</td>\n",
              "      <td>1</td>\n",
              "    </tr>\n",
              "    <tr>\n",
              "      <th>2</th>\n",
              "      <td>0</td>\n",
              "      <td>5</td>\n",
              "      <td>5037</td>\n",
              "      <td>2</td>\n",
              "    </tr>\n",
              "    <tr>\n",
              "      <th>3</th>\n",
              "      <td>0</td>\n",
              "      <td>5</td>\n",
              "      <td>5037</td>\n",
              "      <td>3</td>\n",
              "    </tr>\n",
              "    <tr>\n",
              "      <th>4</th>\n",
              "      <td>0</td>\n",
              "      <td>5</td>\n",
              "      <td>5037</td>\n",
              "      <td>4</td>\n",
              "    </tr>\n",
              "  </tbody>\n",
              "</table>\n",
              "</div>"
            ],
            "text/plain": [
              "   ID  shop_id  item_id  date_block_num\n",
              "0   0        5     5037               0\n",
              "1   0        5     5037               1\n",
              "2   0        5     5037               2\n",
              "3   0        5     5037               3\n",
              "4   0        5     5037               4"
            ]
          },
          "metadata": {
            "tags": []
          },
          "execution_count": 32
        }
      ]
    },
    {
      "cell_type": "code",
      "metadata": {
        "id": "8vrfAPiNo1xD",
        "colab_type": "code",
        "colab": {
          "base_uri": "https://localhost:8080/",
          "height": 204
        },
        "outputId": "253eab1b-3572-4b18-9cf3-fafea7922392"
      },
      "source": [
        "# salse_trainからshop_id、item_id別に月ごとの売上数を算出する\n",
        "# Todo:追加の特徴量として、item_priceの月ごとの平均値等を算出してもいいかもしれない。\n",
        "sales_train_groupby = sales_train.drop(['date', 'item_price'], axis=1)\n",
        "sales_train_groupby = sales_train_groupby.groupby(['date_block_num', \n",
        "                                                   'shop_id', \n",
        "                                                   'item_id']).sum().reset_index()\n",
        "\n",
        "sales_train_groupby.head()"
      ],
      "execution_count": 33,
      "outputs": [
        {
          "output_type": "execute_result",
          "data": {
            "text/html": [
              "<div>\n",
              "<style scoped>\n",
              "    .dataframe tbody tr th:only-of-type {\n",
              "        vertical-align: middle;\n",
              "    }\n",
              "\n",
              "    .dataframe tbody tr th {\n",
              "        vertical-align: top;\n",
              "    }\n",
              "\n",
              "    .dataframe thead th {\n",
              "        text-align: right;\n",
              "    }\n",
              "</style>\n",
              "<table border=\"1\" class=\"dataframe\">\n",
              "  <thead>\n",
              "    <tr style=\"text-align: right;\">\n",
              "      <th></th>\n",
              "      <th>date_block_num</th>\n",
              "      <th>shop_id</th>\n",
              "      <th>item_id</th>\n",
              "      <th>item_cnt_day</th>\n",
              "    </tr>\n",
              "  </thead>\n",
              "  <tbody>\n",
              "    <tr>\n",
              "      <th>0</th>\n",
              "      <td>0</td>\n",
              "      <td>0</td>\n",
              "      <td>32</td>\n",
              "      <td>6.0</td>\n",
              "    </tr>\n",
              "    <tr>\n",
              "      <th>1</th>\n",
              "      <td>0</td>\n",
              "      <td>0</td>\n",
              "      <td>33</td>\n",
              "      <td>3.0</td>\n",
              "    </tr>\n",
              "    <tr>\n",
              "      <th>2</th>\n",
              "      <td>0</td>\n",
              "      <td>0</td>\n",
              "      <td>35</td>\n",
              "      <td>1.0</td>\n",
              "    </tr>\n",
              "    <tr>\n",
              "      <th>3</th>\n",
              "      <td>0</td>\n",
              "      <td>0</td>\n",
              "      <td>43</td>\n",
              "      <td>1.0</td>\n",
              "    </tr>\n",
              "    <tr>\n",
              "      <th>4</th>\n",
              "      <td>0</td>\n",
              "      <td>0</td>\n",
              "      <td>51</td>\n",
              "      <td>2.0</td>\n",
              "    </tr>\n",
              "  </tbody>\n",
              "</table>\n",
              "</div>"
            ],
            "text/plain": [
              "   date_block_num  shop_id  item_id  item_cnt_day\n",
              "0               0        0       32           6.0\n",
              "1               0        0       33           3.0\n",
              "2               0        0       35           1.0\n",
              "3               0        0       43           1.0\n",
              "4               0        0       51           2.0"
            ]
          },
          "metadata": {
            "tags": []
          },
          "execution_count": 33
        }
      ]
    },
    {
      "cell_type": "code",
      "metadata": {
        "id": "b37np-VFiiRb",
        "colab_type": "code",
        "colab": {
          "base_uri": "https://localhost:8080/",
          "height": 204
        },
        "outputId": "5096377d-377e-4ea8-8f8b-d51583b30302"
      },
      "source": [
        "# test_201301to201511に各月の売上数を結合。\n",
        "test_201301to201511 = pd.merge(test_201301to201511, \n",
        "                               sales_train_groupby, \n",
        "                               how='left', \n",
        "                               left_on=['shop_id', 'item_id', 'date_block_num'], \n",
        "                               right_on=['shop_id', 'item_id', 'date_block_num'])\n",
        " \n",
        "# 全ての月に売上数のデータがあるわけではないので、データがない箇所は0.0で埋める\n",
        "test_201301to201511 = test_201301to201511.fillna({'item_cnt_day' : 0.0})\n",
        "\n",
        "# データをソートし直す\n",
        "test_201301to201511 = test_201301to201511.sort_values(['date_block_num', 'ID'])\n",
        "test_201301to201511 = test_201301to201511.reset_index(drop=True)\n",
        "test_201301to201511.head()"
      ],
      "execution_count": 34,
      "outputs": [
        {
          "output_type": "execute_result",
          "data": {
            "text/html": [
              "<div>\n",
              "<style scoped>\n",
              "    .dataframe tbody tr th:only-of-type {\n",
              "        vertical-align: middle;\n",
              "    }\n",
              "\n",
              "    .dataframe tbody tr th {\n",
              "        vertical-align: top;\n",
              "    }\n",
              "\n",
              "    .dataframe thead th {\n",
              "        text-align: right;\n",
              "    }\n",
              "</style>\n",
              "<table border=\"1\" class=\"dataframe\">\n",
              "  <thead>\n",
              "    <tr style=\"text-align: right;\">\n",
              "      <th></th>\n",
              "      <th>ID</th>\n",
              "      <th>shop_id</th>\n",
              "      <th>item_id</th>\n",
              "      <th>date_block_num</th>\n",
              "      <th>item_cnt_day</th>\n",
              "    </tr>\n",
              "  </thead>\n",
              "  <tbody>\n",
              "    <tr>\n",
              "      <th>0</th>\n",
              "      <td>0</td>\n",
              "      <td>5</td>\n",
              "      <td>5037</td>\n",
              "      <td>0</td>\n",
              "      <td>0.0</td>\n",
              "    </tr>\n",
              "    <tr>\n",
              "      <th>1</th>\n",
              "      <td>1</td>\n",
              "      <td>5</td>\n",
              "      <td>5320</td>\n",
              "      <td>0</td>\n",
              "      <td>0.0</td>\n",
              "    </tr>\n",
              "    <tr>\n",
              "      <th>2</th>\n",
              "      <td>2</td>\n",
              "      <td>5</td>\n",
              "      <td>5233</td>\n",
              "      <td>0</td>\n",
              "      <td>0.0</td>\n",
              "    </tr>\n",
              "    <tr>\n",
              "      <th>3</th>\n",
              "      <td>3</td>\n",
              "      <td>5</td>\n",
              "      <td>5232</td>\n",
              "      <td>0</td>\n",
              "      <td>0.0</td>\n",
              "    </tr>\n",
              "    <tr>\n",
              "      <th>4</th>\n",
              "      <td>4</td>\n",
              "      <td>5</td>\n",
              "      <td>5268</td>\n",
              "      <td>0</td>\n",
              "      <td>0.0</td>\n",
              "    </tr>\n",
              "  </tbody>\n",
              "</table>\n",
              "</div>"
            ],
            "text/plain": [
              "   ID  shop_id  item_id  date_block_num  item_cnt_day\n",
              "0   0        5     5037               0           0.0\n",
              "1   1        5     5320               0           0.0\n",
              "2   2        5     5233               0           0.0\n",
              "3   3        5     5232               0           0.0\n",
              "4   4        5     5268               0           0.0"
            ]
          },
          "metadata": {
            "tags": []
          },
          "execution_count": 34
        }
      ]
    },
    {
      "cell_type": "code",
      "metadata": {
        "id": "kFQDB1yPhdv8",
        "colab_type": "code",
        "colab": {
          "base_uri": "https://localhost:8080/",
          "height": 51
        },
        "outputId": "5a8853ac-6e85-4101-c247-3a3ee629cbe9"
      },
      "source": [
        "len_test = len(test)\n",
        "len_test_201301to201511 = len(test_201301to201511)\n",
        "\n",
        "print(f'len_test: {len_test :.0f}')\n",
        "print(f'len_test_201301to201511: {len_test_201301to201511 :.0f}')"
      ],
      "execution_count": 35,
      "outputs": [
        {
          "output_type": "stream",
          "text": [
            "len_test: 214200\n",
            "len_test_201301to201511: 7497000\n"
          ],
          "name": "stdout"
        }
      ]
    },
    {
      "cell_type": "code",
      "metadata": {
        "id": "10mU2KFw7S2g",
        "colab_type": "code",
        "colab": {
          "base_uri": "https://localhost:8080/",
          "height": 136
        },
        "outputId": "1125aa6d-6493-4e26-dc9e-50ac9828f840"
      },
      "source": [
        "item_cnt_day = test_201301to201511.iloc[:, 4]   # item_cnt_day列のみ抽出する。\n",
        "item_cnt_day = np.array(item_cnt_day)           # numpy配列に変換する。\n",
        "item_cnt_day = item_cnt_day.reshape(-1, 1)      # 行列に変換する。（配列の要素数行×1列）\n",
        "\n",
        "date_block_num = test_201301to201511.iloc[:, 3] # date_block_num列のみ抽出する。\n",
        "date_block_num = np.array(date_block_num)       # numpy配列に変換する。\n",
        "date_block_num = date_block_num.reshape(-1, 1)  # 行列に変換する。（配列の要素数行×1列）\n",
        "\n",
        "X1 = item_cnt_day[0*len_test:len_test_201301to201511-5*len_test, :]     # 予測対象の5ヶ月前のデータ\n",
        "X2 = item_cnt_day[1*len_test:len_test_201301to201511-4*len_test, :]     # 予測対象の4ヶ月前のデータ\n",
        "X3 = item_cnt_day[2*len_test:len_test_201301to201511-3*len_test, :]     # 予測対象の3ヶ月前のデータ\n",
        "X4 = item_cnt_day[3*len_test:len_test_201301to201511-2*len_test, :]     # 予測対象の2ヶ月前のデータ\n",
        "X5 = item_cnt_day[4*len_test:len_test_201301to201511-1*len_test, :]     # 予測対象の前月データ\n",
        "item_cnt_day = item_cnt_day[5*len_test:len_test_201301to201511, :]      # 予測対象月のデータ\n",
        "date_block_num = date_block_num[5*len_test:len_test_201301to201511, :]  # 予測対象月のデータ\n",
        "\n",
        "# numpy配列を結合する。\n",
        "X = np.concatenate([date_block_num, X1, X2, X3, X4, X5], axis=1)  \n",
        "\n",
        "print(X)"
      ],
      "execution_count": 36,
      "outputs": [
        {
          "output_type": "stream",
          "text": [
            "[[ 5.  0.  0.  0.  0.  0.]\n",
            " [ 5.  0.  0.  0.  0.  0.]\n",
            " [ 5.  0.  0.  0.  0.  0.]\n",
            " ...\n",
            " [34.  0.  0.  0.  0.  0.]\n",
            " [34.  0.  0.  0.  0.  0.]\n",
            " [34.  0.  0.  0.  0.  0.]]\n"
          ],
          "name": "stdout"
        }
      ]
    },
    {
      "cell_type": "code",
      "metadata": {
        "id": "puW0WZmjD5_W",
        "colab_type": "code",
        "colab": {
          "base_uri": "https://localhost:8080/",
          "height": 357
        },
        "outputId": "09493aca-5a2a-458a-fb8f-3db8961cbe1f"
      },
      "source": [
        "scaler_X = MinMaxScaler()  # データを0～1の範囲にスケールするための関数。\n",
        "scaler_X.fit(X)  # スケーリングに使用する最小／最大値を計算する。\n",
        "X = scaler_X.transform(X)  # Xをを0～1の範囲にスケーリングする。\n",
        "X = np.reshape(X, (X.shape[0], 1, X.shape[1]))  # 3次元配列に変換する。\n",
        "\n",
        "scaler_item_cnt_day = MinMaxScaler()  # データを0～1の範囲にスケールするための関数。\n",
        "scaler_item_cnt_day.fit(item_cnt_day)  # スケーリングに使用する最小／最大値を計算する。\n",
        "item_cnt_day = scaler_item_cnt_day.transform(item_cnt_day)  # Yをを0～1の範囲にスケーリングする。\n",
        "\n",
        "print(X)\n",
        "print(item_cnt_day)"
      ],
      "execution_count": 37,
      "outputs": [
        {
          "output_type": "stream",
          "text": [
            "[[[0.         0.00305577 0.00305577 0.00305577 0.00305577 0.00177226]]\n",
            "\n",
            " [[0.         0.00305577 0.00305577 0.00305577 0.00305577 0.00177226]]\n",
            "\n",
            " [[0.         0.00305577 0.00305577 0.00305577 0.00305577 0.00177226]]\n",
            "\n",
            " ...\n",
            "\n",
            " [[1.         0.00305577 0.00305577 0.00305577 0.00305577 0.00177226]]\n",
            "\n",
            " [[1.         0.00305577 0.00305577 0.00305577 0.00305577 0.00177226]]\n",
            "\n",
            " [[1.         0.00305577 0.00305577 0.00305577 0.00305577 0.00177226]]]\n",
            "[[0.00177226]\n",
            " [0.00177226]\n",
            " [0.00177226]\n",
            " ...\n",
            " [0.00177226]\n",
            " [0.00177226]\n",
            " [0.00177226]]\n"
          ],
          "name": "stdout"
        }
      ]
    },
    {
      "cell_type": "code",
      "metadata": {
        "id": "mYwY2i9-z3-f",
        "colab_type": "code",
        "colab": {
          "base_uri": "https://localhost:8080/",
          "height": 68
        },
        "outputId": "bea02625-acd3-45d9-fcf9-989755ea19eb"
      },
      "source": [
        "print(X.shape)\n",
        "print(X.shape[0])\n",
        "print(X.shape[1])\n"
      ],
      "execution_count": 38,
      "outputs": [
        {
          "output_type": "stream",
          "text": [
            "(6426000, 1, 6)\n",
            "6426000\n",
            "1\n"
          ],
          "name": "stdout"
        }
      ]
    },
    {
      "cell_type": "code",
      "metadata": {
        "id": "0RyzdzFE1TmY",
        "colab_type": "code",
        "colab": {
          "base_uri": "https://localhost:8080/",
          "height": 51
        },
        "outputId": "e99a9124-9069-41fd-b9b0-1934c4878cb8"
      },
      "source": [
        "# train, testデータを定義\n",
        "X_train = X[:5997600, :, :]\n",
        "X_vari = X[5997600:6211800, :, :]\n",
        "X_test = X[6211800:, :, :]\n",
        "Y_train = item_cnt_day[:5997600, :]\n",
        "Y_vari = item_cnt_day[5997600:6211800, :]\n",
        "Y_test = item_cnt_day[6211800:, :]\n",
        "\n",
        "\n",
        "\n",
        "print(len(X_train))\n",
        "print(len(X_test))"
      ],
      "execution_count": 39,
      "outputs": [
        {
          "output_type": "stream",
          "text": [
            "5997600\n",
            "214200\n"
          ],
          "name": "stdout"
        }
      ]
    },
    {
      "cell_type": "code",
      "metadata": {
        "id": "U0fIyIjOmQwF",
        "colab_type": "code",
        "colab": {
          "base_uri": "https://localhost:8080/",
          "height": 34
        },
        "outputId": "251c766d-8040-4616-f540-d26d813d7215"
      },
      "source": [
        "model = Sequential()\n",
        "model.add(LSTM(10, \n",
        "               activation = 'tanh', \n",
        "               input_shape = (1,6), \n",
        "               recurrent_activation= 'hard_sigmoid'))\n",
        "model.add(Dense(1))\n",
        "\n",
        "model.compile(loss= 'mean_squared_error', \n",
        "              optimizer = 'rmsprop', \n",
        "              metrics=[metrics.mae])\n",
        "model.fit(X_train, Y_train, epochs=1, verbose=2)\n",
        "Predict = model.predict(X_test)\n"
      ],
      "execution_count": 40,
      "outputs": [
        {
          "output_type": "stream",
          "text": [
            "187425/187425 - 241s - loss: 1.6005e-06 - mean_absolute_error: 5.9471e-04\n"
          ],
          "name": "stdout"
        }
      ]
    },
    {
      "cell_type": "code",
      "metadata": {
        "id": "foex5m1yJo_s",
        "colab_type": "code",
        "colab": {}
      },
      "source": [
        "Vari = model.predict(X_vari)"
      ],
      "execution_count": 41,
      "outputs": []
    },
    {
      "cell_type": "code",
      "metadata": {
        "id": "7Tk3q2Esx3vK",
        "colab_type": "code",
        "colab": {
          "base_uri": "https://localhost:8080/",
          "height": 255
        },
        "outputId": "6e90e1ce-35c3-4804-adee-cb8d77a2701a"
      },
      "source": [
        "print(Y_test)\n",
        "print(Predict)"
      ],
      "execution_count": 42,
      "outputs": [
        {
          "output_type": "stream",
          "text": [
            "[[0.00177226]\n",
            " [0.00177226]\n",
            " [0.00177226]\n",
            " ...\n",
            " [0.00177226]\n",
            " [0.00177226]\n",
            " [0.00177226]]\n",
            "[[0.00259401]\n",
            " [0.00235972]\n",
            " [0.0027041 ]\n",
            " ...\n",
            " [0.00235972]\n",
            " [0.00235972]\n",
            " [0.00235972]]\n"
          ],
          "name": "stdout"
        }
      ]
    },
    {
      "cell_type": "code",
      "metadata": {
        "id": "Ghns25i9EJ9r",
        "colab_type": "code",
        "colab": {
          "base_uri": "https://localhost:8080/",
          "height": 374
        },
        "outputId": "9cea5d7a-a309-4208-97af-3b2b2430aacf"
      },
      "source": [
        "# オリジナルのスケールに戻す、タイムインデックスを付ける。\n",
        "Y_train = scaler_item_cnt_day.inverse_transform(Y_train)\n",
        "Y_train = pd.DataFrame(Y_train)\n",
        "\n",
        "Y_vari = scaler_item_cnt_day.inverse_transform(Y_vari)\n",
        "Y_vari = pd.DataFrame(Y_vari)\n",
        "\n",
        "Predict = scaler_item_cnt_day.inverse_transform(Predict)\n",
        "Predict = pd.DataFrame(Predict)\n",
        "\n",
        "Vari = scaler_item_cnt_day.inverse_transform(Vari)\n",
        "Vari = pd.DataFrame(Vari)\n",
        "print(Y_test)\n",
        "print(Predict)"
      ],
      "execution_count": 43,
      "outputs": [
        {
          "output_type": "stream",
          "text": [
            "[[0.00177226]\n",
            " [0.00177226]\n",
            " [0.00177226]\n",
            " ...\n",
            " [0.00177226]\n",
            " [0.00177226]\n",
            " [0.00177226]]\n",
            "               0\n",
            "0       1.854678\n",
            "1       1.325889\n",
            "2       2.103149\n",
            "3       1.415954\n",
            "4       1.325889\n",
            "...          ...\n",
            "214195  1.499086\n",
            "214196  1.325889\n",
            "214197  1.325889\n",
            "214198  1.325889\n",
            "214199  1.325889\n",
            "\n",
            "[214200 rows x 1 columns]\n"
          ],
          "name": "stdout"
        }
      ]
    },
    {
      "cell_type": "code",
      "metadata": {
        "id": "rZKnengbEMmz",
        "colab_type": "code",
        "colab": {
          "base_uri": "https://localhost:8080/",
          "height": 426
        },
        "outputId": "c999ed7f-c338-4d49-eb96-47d7d0bf4d38"
      },
      "source": [
        "plt.figure(figsize=(15,10), facecolor='white')\n",
        "plt.plot(Y_vari, label = 'Test')\n",
        "plt.plot(Vari, label = 'Vari')\n",
        "plt.legend(loc='best')\n",
        "plt.show()"
      ],
      "execution_count": 44,
      "outputs": [
        {
          "output_type": "display_data",
          "data": {
            "image/png": "[encoded data removed]",
            "text/plain": [
              "<Figure size 1080x720 with 1 Axes>"
            ]
          },
          "metadata": {
            "tags": []
          }
        }
      ]
    },
    {
      "cell_type": "code",
      "metadata": {
        "id": "tbynSCZ-_dbe",
        "colab_type": "code",
        "colab": {
          "base_uri": "https://localhost:8080/",
          "height": 255
        },
        "outputId": "a5d9267e-dc85-485a-88c9-3e69928edbaf"
      },
      "source": [
        "sub = Predict.copy()\n",
        "sub.columns = ['item_cnt_month']\n",
        "sub['ID'] = sub.index\n",
        "sub = sub.loc[:, ['ID', 'item_cnt_month']]\n",
        "\n",
        "print(sub)\n",
        "\n",
        "sub.to_csv('submisson.csv', index=False)"
      ],
      "execution_count": 47,
      "outputs": [
        {
          "output_type": "stream",
          "text": [
            "            ID  item_cnt_month\n",
            "0            0        1.854678\n",
            "1            1        1.325889\n",
            "2            2        2.103149\n",
            "3            3        1.415954\n",
            "4            4        1.325889\n",
            "...        ...             ...\n",
            "214195  214195        1.499086\n",
            "214196  214196        1.325889\n",
            "214197  214197        1.325889\n",
            "214198  214198        1.325889\n",
            "214199  214199        1.325889\n",
            "\n",
            "[214200 rows x 2 columns]\n"
          ],
          "name": "stdout"
        }
      ]
    }
  ]
}