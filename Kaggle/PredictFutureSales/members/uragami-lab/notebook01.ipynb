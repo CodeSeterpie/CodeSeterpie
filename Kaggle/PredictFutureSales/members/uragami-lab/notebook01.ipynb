{
  "nbformat": 4,
  "nbformat_minor": 0,
  "metadata": {
    "colab": {
      "name": "notebook01.ipynb",
      "provenance": [],
      "collapsed_sections": []
    },
    "kernelspec": {
      "name": "python3",
      "display_name": "Python 3"
    }
  },
  "cells": [
    {
      "cell_type": "code",
      "metadata": {
        "id": "h8h9u9nrjDmW",
        "colab_type": "code",
        "colab": {
          "base_uri": "https://localhost:8080/",
          "height": 54
        },
        "outputId": "d078ffd4-109c-4a4e-c132-3b0790d834b1"
      },
      "source": [
        "from google.colab import drive\n",
        "drive.mount('/content/drive')"
      ],
      "execution_count": 138,
      "outputs": [
        {
          "output_type": "stream",
          "text": [
            "Drive already mounted at /content/drive; to attempt to forcibly remount, call drive.mount(\"/content/drive\", force_remount=True).\n"
          ],
          "name": "stdout"
        }
      ]
    },
    {
      "cell_type": "code",
      "metadata": {
        "id": "rKezVwBNetfx",
        "colab_type": "code",
        "colab": {
          "base_uri": "https://localhost:8080/",
          "height": 119
        },
        "outputId": "47b02f98-0f81-4469-db69-5d2ee087d35a"
      },
      "source": [
        "import os\n",
        "import pandas as pd\n",
        "import numpy as np\n",
        "import seaborn as sns\n",
        "import matplotlib.pyplot as plt\n",
        "from keras.models import Sequential\n",
        "from keras.layers import Dense,  LSTM\n",
        "from keras import metrics\n",
        "from sklearn.preprocessing import MinMaxScaler\n",
        "from datetime import date, timedelta\n",
        "# inputフォルダに格納されているファイルの一覧を出力\n",
        "for dirname, _, filenames in os.walk('/content/drive/My Drive/CodeSeterpie/PredictFutureSales/input'):\n",
        "    for filename in filenames:\n",
        "        \n",
        "        print(os.path.join(dirname, filename))\n",
        "\n",
        "# データを読み込み\n",
        "item_categories = pd.read_csv('/content/drive/My Drive/CodeSeterpie/PredictFutureSales/input/item_categories.csv')\n",
        "items = pd.read_csv('/content/drive/My Drive/CodeSeterpie/PredictFutureSales/input/items.csv')\n",
        "sales_train = pd.read_csv('/content/drive/My Drive/CodeSeterpie/PredictFutureSales/input/sales_train.csv')\n",
        "sample_submission = pd.read_csv('/content/drive/My Drive/CodeSeterpie/PredictFutureSales/input/sample_submission.csv')\n",
        "shops = pd.read_csv('/content/drive/My Drive/CodeSeterpie/PredictFutureSales/input/shops.csv')\n",
        "test = pd.read_csv('/content/drive/My Drive/CodeSeterpie/PredictFutureSales/input/test.csv')\n"
      ],
      "execution_count": 139,
      "outputs": [
        {
          "output_type": "stream",
          "text": [
            "/content/drive/My Drive/CodeSeterpie/PredictFutureSales/input/item_categories.csv\n",
            "/content/drive/My Drive/CodeSeterpie/PredictFutureSales/input/items.csv\n",
            "/content/drive/My Drive/CodeSeterpie/PredictFutureSales/input/sales_train.csv\n",
            "/content/drive/My Drive/CodeSeterpie/PredictFutureSales/input/sample_submission.csv\n",
            "/content/drive/My Drive/CodeSeterpie/PredictFutureSales/input/shops.csv\n",
            "/content/drive/My Drive/CodeSeterpie/PredictFutureSales/input/test.csv\n"
          ],
          "name": "stdout"
        }
      ]
    },
    {
      "cell_type": "code",
      "metadata": {
        "id": "9LLWyyEgWND8",
        "colab_type": "code",
        "colab": {
          "base_uri": "https://localhost:8080/",
          "height": 235
        },
        "outputId": "ce333090-d541-4a0d-9bd0-464af2b729d7"
      },
      "source": [
        "sales_train_groupby = sales_train.groupby(['shop_id', 'item_id']).count()\n",
        "sales_train_groupby = sales_train_groupby.sort_values('date', ascending=False)\n",
        "\n",
        "sales_train_groupby.head()"
      ],
      "execution_count": 140,
      "outputs": [
        {
          "output_type": "execute_result",
          "data": {
            "text/html": [
              "<div>\n",
              "<style scoped>\n",
              "    .dataframe tbody tr th:only-of-type {\n",
              "        vertical-align: middle;\n",
              "    }\n",
              "\n",
              "    .dataframe tbody tr th {\n",
              "        vertical-align: top;\n",
              "    }\n",
              "\n",
              "    .dataframe thead th {\n",
              "        text-align: right;\n",
              "    }\n",
              "</style>\n",
              "<table border=\"1\" class=\"dataframe\">\n",
              "  <thead>\n",
              "    <tr style=\"text-align: right;\">\n",
              "      <th></th>\n",
              "      <th></th>\n",
              "      <th>date</th>\n",
              "      <th>date_block_num</th>\n",
              "      <th>item_price</th>\n",
              "      <th>item_cnt_day</th>\n",
              "    </tr>\n",
              "    <tr>\n",
              "      <th>shop_id</th>\n",
              "      <th>item_id</th>\n",
              "      <th></th>\n",
              "      <th></th>\n",
              "      <th></th>\n",
              "      <th></th>\n",
              "    </tr>\n",
              "  </thead>\n",
              "  <tbody>\n",
              "    <tr>\n",
              "      <th>28</th>\n",
              "      <th>20949</th>\n",
              "      <td>867</td>\n",
              "      <td>867</td>\n",
              "      <td>867</td>\n",
              "      <td>867</td>\n",
              "    </tr>\n",
              "    <tr>\n",
              "      <th>53</th>\n",
              "      <th>20949</th>\n",
              "      <td>863</td>\n",
              "      <td>863</td>\n",
              "      <td>863</td>\n",
              "      <td>863</td>\n",
              "    </tr>\n",
              "    <tr>\n",
              "      <th>31</th>\n",
              "      <th>20949</th>\n",
              "      <td>863</td>\n",
              "      <td>863</td>\n",
              "      <td>863</td>\n",
              "      <td>863</td>\n",
              "    </tr>\n",
              "    <tr>\n",
              "      <th>22</th>\n",
              "      <th>20949</th>\n",
              "      <td>848</td>\n",
              "      <td>848</td>\n",
              "      <td>848</td>\n",
              "      <td>848</td>\n",
              "    </tr>\n",
              "    <tr>\n",
              "      <th>42</th>\n",
              "      <th>20949</th>\n",
              "      <td>834</td>\n",
              "      <td>834</td>\n",
              "      <td>834</td>\n",
              "      <td>834</td>\n",
              "    </tr>\n",
              "  </tbody>\n",
              "</table>\n",
              "</div>"
            ],
            "text/plain": [
              "                 date  date_block_num  item_price  item_cnt_day\n",
              "shop_id item_id                                                \n",
              "28      20949     867             867         867           867\n",
              "53      20949     863             863         863           863\n",
              "31      20949     863             863         863           863\n",
              "22      20949     848             848         848           848\n",
              "42      20949     834             834         834           834"
            ]
          },
          "metadata": {
            "tags": []
          },
          "execution_count": 140
        }
      ]
    },
    {
      "cell_type": "code",
      "metadata": {
        "id": "JtNlsFNgiMcV",
        "colab_type": "code",
        "colab": {}
      },
      "source": [
        "df = sales_train[sales_train.item_id == 20949]\n",
        "df = df[df.shop_id == 28]\n",
        "\n",
        "df['date'] = pd.to_datetime(df['date'])\n",
        "df = df.drop('date_block_num', axis=1)\n",
        "\n"
      ],
      "execution_count": 141,
      "outputs": []
    },
    {
      "cell_type": "code",
      "metadata": {
        "id": "Kn5p51muDO9c",
        "colab_type": "code",
        "colab": {
          "base_uri": "https://localhost:8080/",
          "height": 204
        },
        "outputId": "8f64e120-8b17-4812-d918-289a0441b479"
      },
      "source": [
        "df.head()"
      ],
      "execution_count": 142,
      "outputs": [
        {
          "output_type": "execute_result",
          "data": {
            "text/html": [
              "<div>\n",
              "<style scoped>\n",
              "    .dataframe tbody tr th:only-of-type {\n",
              "        vertical-align: middle;\n",
              "    }\n",
              "\n",
              "    .dataframe tbody tr th {\n",
              "        vertical-align: top;\n",
              "    }\n",
              "\n",
              "    .dataframe thead th {\n",
              "        text-align: right;\n",
              "    }\n",
              "</style>\n",
              "<table border=\"1\" class=\"dataframe\">\n",
              "  <thead>\n",
              "    <tr style=\"text-align: right;\">\n",
              "      <th></th>\n",
              "      <th>date</th>\n",
              "      <th>shop_id</th>\n",
              "      <th>item_id</th>\n",
              "      <th>item_price</th>\n",
              "      <th>item_cnt_day</th>\n",
              "    </tr>\n",
              "  </thead>\n",
              "  <tbody>\n",
              "    <tr>\n",
              "      <th>359513</th>\n",
              "      <td>2013-04-29</td>\n",
              "      <td>28</td>\n",
              "      <td>20949</td>\n",
              "      <td>5.0</td>\n",
              "      <td>2.0</td>\n",
              "    </tr>\n",
              "    <tr>\n",
              "      <th>359534</th>\n",
              "      <td>2013-04-30</td>\n",
              "      <td>28</td>\n",
              "      <td>20949</td>\n",
              "      <td>5.0</td>\n",
              "      <td>5.0</td>\n",
              "    </tr>\n",
              "    <tr>\n",
              "      <th>449927</th>\n",
              "      <td>2013-05-31</td>\n",
              "      <td>28</td>\n",
              "      <td>20949</td>\n",
              "      <td>5.0</td>\n",
              "      <td>18.0</td>\n",
              "    </tr>\n",
              "    <tr>\n",
              "      <th>449973</th>\n",
              "      <td>2013-05-30</td>\n",
              "      <td>28</td>\n",
              "      <td>20949</td>\n",
              "      <td>5.0</td>\n",
              "      <td>9.0</td>\n",
              "    </tr>\n",
              "    <tr>\n",
              "      <th>449974</th>\n",
              "      <td>2013-05-28</td>\n",
              "      <td>28</td>\n",
              "      <td>20949</td>\n",
              "      <td>5.0</td>\n",
              "      <td>15.0</td>\n",
              "    </tr>\n",
              "  </tbody>\n",
              "</table>\n",
              "</div>"
            ],
            "text/plain": [
              "             date  shop_id  item_id  item_price  item_cnt_day\n",
              "359513 2013-04-29       28    20949         5.0           2.0\n",
              "359534 2013-04-30       28    20949         5.0           5.0\n",
              "449927 2013-05-31       28    20949         5.0          18.0\n",
              "449973 2013-05-30       28    20949         5.0           9.0\n",
              "449974 2013-05-28       28    20949         5.0          15.0"
            ]
          },
          "metadata": {
            "tags": []
          },
          "execution_count": 142
        }
      ]
    },
    {
      "cell_type": "code",
      "metadata": {
        "id": "20e5Ai-Kkuqe",
        "colab_type": "code",
        "colab": {
          "base_uri": "https://localhost:8080/",
          "height": 297
        },
        "outputId": "3bc8d502-71ba-4c8e-b07a-4ef128960037"
      },
      "source": [
        "df.describe()"
      ],
      "execution_count": 143,
      "outputs": [
        {
          "output_type": "execute_result",
          "data": {
            "text/html": [
              "<div>\n",
              "<style scoped>\n",
              "    .dataframe tbody tr th:only-of-type {\n",
              "        vertical-align: middle;\n",
              "    }\n",
              "\n",
              "    .dataframe tbody tr th {\n",
              "        vertical-align: top;\n",
              "    }\n",
              "\n",
              "    .dataframe thead th {\n",
              "        text-align: right;\n",
              "    }\n",
              "</style>\n",
              "<table border=\"1\" class=\"dataframe\">\n",
              "  <thead>\n",
              "    <tr style=\"text-align: right;\">\n",
              "      <th></th>\n",
              "      <th>shop_id</th>\n",
              "      <th>item_id</th>\n",
              "      <th>item_price</th>\n",
              "      <th>item_cnt_day</th>\n",
              "    </tr>\n",
              "  </thead>\n",
              "  <tbody>\n",
              "    <tr>\n",
              "      <th>count</th>\n",
              "      <td>867.0</td>\n",
              "      <td>867.0</td>\n",
              "      <td>867.000000</td>\n",
              "      <td>867.000000</td>\n",
              "    </tr>\n",
              "    <tr>\n",
              "      <th>mean</th>\n",
              "      <td>28.0</td>\n",
              "      <td>20949.0</td>\n",
              "      <td>4.999320</td>\n",
              "      <td>15.522491</td>\n",
              "    </tr>\n",
              "    <tr>\n",
              "      <th>std</th>\n",
              "      <td>0.0</td>\n",
              "      <td>0.0</td>\n",
              "      <td>0.018161</td>\n",
              "      <td>11.131189</td>\n",
              "    </tr>\n",
              "    <tr>\n",
              "      <th>min</th>\n",
              "      <td>28.0</td>\n",
              "      <td>20949.0</td>\n",
              "      <td>4.466667</td>\n",
              "      <td>1.000000</td>\n",
              "    </tr>\n",
              "    <tr>\n",
              "      <th>25%</th>\n",
              "      <td>28.0</td>\n",
              "      <td>20949.0</td>\n",
              "      <td>5.000000</td>\n",
              "      <td>8.000000</td>\n",
              "    </tr>\n",
              "    <tr>\n",
              "      <th>50%</th>\n",
              "      <td>28.0</td>\n",
              "      <td>20949.0</td>\n",
              "      <td>5.000000</td>\n",
              "      <td>12.000000</td>\n",
              "    </tr>\n",
              "    <tr>\n",
              "      <th>75%</th>\n",
              "      <td>28.0</td>\n",
              "      <td>20949.0</td>\n",
              "      <td>5.000000</td>\n",
              "      <td>20.000000</td>\n",
              "    </tr>\n",
              "    <tr>\n",
              "      <th>max</th>\n",
              "      <td>28.0</td>\n",
              "      <td>20949.0</td>\n",
              "      <td>5.000000</td>\n",
              "      <td>71.000000</td>\n",
              "    </tr>\n",
              "  </tbody>\n",
              "</table>\n",
              "</div>"
            ],
            "text/plain": [
              "       shop_id  item_id  item_price  item_cnt_day\n",
              "count    867.0    867.0  867.000000    867.000000\n",
              "mean      28.0  20949.0    4.999320     15.522491\n",
              "std        0.0      0.0    0.018161     11.131189\n",
              "min       28.0  20949.0    4.466667      1.000000\n",
              "25%       28.0  20949.0    5.000000      8.000000\n",
              "50%       28.0  20949.0    5.000000     12.000000\n",
              "75%       28.0  20949.0    5.000000     20.000000\n",
              "max       28.0  20949.0    5.000000     71.000000"
            ]
          },
          "metadata": {
            "tags": []
          },
          "execution_count": 143
        }
      ]
    },
    {
      "cell_type": "code",
      "metadata": {
        "id": "bias-imLfeRk",
        "colab_type": "code",
        "colab": {
          "base_uri": "https://localhost:8080/",
          "height": 669
        },
        "outputId": "ddb9367a-bb01-4691-b0ce-3afb81d1762f"
      },
      "source": [
        "from datetime import date, timedelta\n",
        "d1 = date(2013,1,1)\n",
        "d2 = date(2015,10,31)\n",
        "for i in range((d2 - d1).days + 1):\n",
        "    date = d1 + timedelta(i)\n",
        "    if len(df[df.date == date]) == 0:\n",
        "        df = df.append({'date': date, 'shop_id': 28, 'item_id': 20949, 'item_price': 5.0, 'item_cnt_day': 0.0}, ignore_index=True)\n",
        "\n",
        "df = df.sort_values('date')\n",
        "df = df.reset_index(drop=True)\n",
        "\n",
        "L = len(df)\n",
        "Y = df.iloc[:, 4]  # 終値の列のみ抽出する。\n",
        "Y = np.array(Y)  # numpy配列に変換する。\n",
        "Y = Y.reshape(-1, 1)  # 行列に変換する。（配列の要素数行×1列）\n",
        "\n",
        "X1 = Y[0:L-5, :]  # 予測対象日の3日前のデータ\n",
        "X2 = Y[1:L-4, :]  # 予測対象日の2日前のデータ\n",
        "X3 = Y[2:L-3, :]  # 予測対象日の前日データ\n",
        "X4 = Y[3:L-2, :]  # 予測対象日の前日データ\n",
        "X5 = Y[4:L-1, :]  # 予測対象日の前日データ\n",
        "Y = Y[5:L, :]  # 予測対象日のデータ\n",
        "X = np.concatenate([X1, X2, X3, X4, X5], axis=1)  # numpy配列を結合する。\n",
        "\n",
        "df.head(20)"
      ],
      "execution_count": 144,
      "outputs": [
        {
          "output_type": "execute_result",
          "data": {
            "text/html": [
              "<div>\n",
              "<style scoped>\n",
              "    .dataframe tbody tr th:only-of-type {\n",
              "        vertical-align: middle;\n",
              "    }\n",
              "\n",
              "    .dataframe tbody tr th {\n",
              "        vertical-align: top;\n",
              "    }\n",
              "\n",
              "    .dataframe thead th {\n",
              "        text-align: right;\n",
              "    }\n",
              "</style>\n",
              "<table border=\"1\" class=\"dataframe\">\n",
              "  <thead>\n",
              "    <tr style=\"text-align: right;\">\n",
              "      <th></th>\n",
              "      <th>date</th>\n",
              "      <th>shop_id</th>\n",
              "      <th>item_id</th>\n",
              "      <th>item_price</th>\n",
              "      <th>item_cnt_day</th>\n",
              "    </tr>\n",
              "  </thead>\n",
              "  <tbody>\n",
              "    <tr>\n",
              "      <th>0</th>\n",
              "      <td>2013-01-01</td>\n",
              "      <td>28</td>\n",
              "      <td>20949</td>\n",
              "      <td>5.000000</td>\n",
              "      <td>0.0</td>\n",
              "    </tr>\n",
              "    <tr>\n",
              "      <th>1</th>\n",
              "      <td>2013-01-02</td>\n",
              "      <td>28</td>\n",
              "      <td>20949</td>\n",
              "      <td>5.000000</td>\n",
              "      <td>0.0</td>\n",
              "    </tr>\n",
              "    <tr>\n",
              "      <th>2</th>\n",
              "      <td>2013-01-03</td>\n",
              "      <td>28</td>\n",
              "      <td>20949</td>\n",
              "      <td>5.000000</td>\n",
              "      <td>0.0</td>\n",
              "    </tr>\n",
              "    <tr>\n",
              "      <th>3</th>\n",
              "      <td>2013-01-04</td>\n",
              "      <td>28</td>\n",
              "      <td>20949</td>\n",
              "      <td>5.000000</td>\n",
              "      <td>0.0</td>\n",
              "    </tr>\n",
              "    <tr>\n",
              "      <th>4</th>\n",
              "      <td>2013-01-05 00:00:00</td>\n",
              "      <td>28</td>\n",
              "      <td>20949</td>\n",
              "      <td>4.974359</td>\n",
              "      <td>39.0</td>\n",
              "    </tr>\n",
              "    <tr>\n",
              "      <th>5</th>\n",
              "      <td>2013-01-06 00:00:00</td>\n",
              "      <td>28</td>\n",
              "      <td>20949</td>\n",
              "      <td>5.000000</td>\n",
              "      <td>41.0</td>\n",
              "    </tr>\n",
              "    <tr>\n",
              "      <th>6</th>\n",
              "      <td>2013-01-07 00:00:00</td>\n",
              "      <td>28</td>\n",
              "      <td>20949</td>\n",
              "      <td>5.000000</td>\n",
              "      <td>19.0</td>\n",
              "    </tr>\n",
              "    <tr>\n",
              "      <th>7</th>\n",
              "      <td>2013-01-08 00:00:00</td>\n",
              "      <td>28</td>\n",
              "      <td>20949</td>\n",
              "      <td>5.000000</td>\n",
              "      <td>16.0</td>\n",
              "    </tr>\n",
              "    <tr>\n",
              "      <th>8</th>\n",
              "      <td>2013-01-09 00:00:00</td>\n",
              "      <td>28</td>\n",
              "      <td>20949</td>\n",
              "      <td>5.000000</td>\n",
              "      <td>29.0</td>\n",
              "    </tr>\n",
              "    <tr>\n",
              "      <th>9</th>\n",
              "      <td>2013-01-10 00:00:00</td>\n",
              "      <td>28</td>\n",
              "      <td>20949</td>\n",
              "      <td>5.000000</td>\n",
              "      <td>4.0</td>\n",
              "    </tr>\n",
              "    <tr>\n",
              "      <th>10</th>\n",
              "      <td>2013-01-11 00:00:00</td>\n",
              "      <td>28</td>\n",
              "      <td>20949</td>\n",
              "      <td>5.000000</td>\n",
              "      <td>13.0</td>\n",
              "    </tr>\n",
              "    <tr>\n",
              "      <th>11</th>\n",
              "      <td>2013-01-12 00:00:00</td>\n",
              "      <td>28</td>\n",
              "      <td>20949</td>\n",
              "      <td>5.000000</td>\n",
              "      <td>19.0</td>\n",
              "    </tr>\n",
              "    <tr>\n",
              "      <th>12</th>\n",
              "      <td>2013-01-13</td>\n",
              "      <td>28</td>\n",
              "      <td>20949</td>\n",
              "      <td>5.000000</td>\n",
              "      <td>0.0</td>\n",
              "    </tr>\n",
              "    <tr>\n",
              "      <th>13</th>\n",
              "      <td>2013-01-14</td>\n",
              "      <td>28</td>\n",
              "      <td>20949</td>\n",
              "      <td>5.000000</td>\n",
              "      <td>0.0</td>\n",
              "    </tr>\n",
              "    <tr>\n",
              "      <th>14</th>\n",
              "      <td>2013-01-15</td>\n",
              "      <td>28</td>\n",
              "      <td>20949</td>\n",
              "      <td>5.000000</td>\n",
              "      <td>0.0</td>\n",
              "    </tr>\n",
              "    <tr>\n",
              "      <th>15</th>\n",
              "      <td>2013-01-16</td>\n",
              "      <td>28</td>\n",
              "      <td>20949</td>\n",
              "      <td>5.000000</td>\n",
              "      <td>0.0</td>\n",
              "    </tr>\n",
              "    <tr>\n",
              "      <th>16</th>\n",
              "      <td>2013-01-17</td>\n",
              "      <td>28</td>\n",
              "      <td>20949</td>\n",
              "      <td>5.000000</td>\n",
              "      <td>0.0</td>\n",
              "    </tr>\n",
              "    <tr>\n",
              "      <th>17</th>\n",
              "      <td>2013-01-18</td>\n",
              "      <td>28</td>\n",
              "      <td>20949</td>\n",
              "      <td>5.000000</td>\n",
              "      <td>0.0</td>\n",
              "    </tr>\n",
              "    <tr>\n",
              "      <th>18</th>\n",
              "      <td>2013-01-19</td>\n",
              "      <td>28</td>\n",
              "      <td>20949</td>\n",
              "      <td>5.000000</td>\n",
              "      <td>0.0</td>\n",
              "    </tr>\n",
              "    <tr>\n",
              "      <th>19</th>\n",
              "      <td>2013-01-20</td>\n",
              "      <td>28</td>\n",
              "      <td>20949</td>\n",
              "      <td>5.000000</td>\n",
              "      <td>0.0</td>\n",
              "    </tr>\n",
              "  </tbody>\n",
              "</table>\n",
              "</div>"
            ],
            "text/plain": [
              "                   date  shop_id  item_id  item_price  item_cnt_day\n",
              "0            2013-01-01       28    20949    5.000000           0.0\n",
              "1            2013-01-02       28    20949    5.000000           0.0\n",
              "2            2013-01-03       28    20949    5.000000           0.0\n",
              "3            2013-01-04       28    20949    5.000000           0.0\n",
              "4   2013-01-05 00:00:00       28    20949    4.974359          39.0\n",
              "5   2013-01-06 00:00:00       28    20949    5.000000          41.0\n",
              "6   2013-01-07 00:00:00       28    20949    5.000000          19.0\n",
              "7   2013-01-08 00:00:00       28    20949    5.000000          16.0\n",
              "8   2013-01-09 00:00:00       28    20949    5.000000          29.0\n",
              "9   2013-01-10 00:00:00       28    20949    5.000000           4.0\n",
              "10  2013-01-11 00:00:00       28    20949    5.000000          13.0\n",
              "11  2013-01-12 00:00:00       28    20949    5.000000          19.0\n",
              "12           2013-01-13       28    20949    5.000000           0.0\n",
              "13           2013-01-14       28    20949    5.000000           0.0\n",
              "14           2013-01-15       28    20949    5.000000           0.0\n",
              "15           2013-01-16       28    20949    5.000000           0.0\n",
              "16           2013-01-17       28    20949    5.000000           0.0\n",
              "17           2013-01-18       28    20949    5.000000           0.0\n",
              "18           2013-01-19       28    20949    5.000000           0.0\n",
              "19           2013-01-20       28    20949    5.000000           0.0"
            ]
          },
          "metadata": {
            "tags": []
          },
          "execution_count": 144
        }
      ]
    },
    {
      "cell_type": "code",
      "metadata": {
        "id": "puW0WZmjD5_W",
        "colab_type": "code",
        "colab": {
          "base_uri": "https://localhost:8080/",
          "height": 238
        },
        "outputId": "fdcce06d-5664-4419-e3b4-3cb997bfc037"
      },
      "source": [
        "scaler = MinMaxScaler()  # データを0～1の範囲にスケールするための関数。\n",
        "scaler.fit(X)  # スケーリングに使用する最小／最大値を計算する。\n",
        "X = scaler.transform(X)  # Xをを0～1の範囲にスケーリングする。\n",
        "\n",
        "scaler1 = MinMaxScaler()  # データを0～1の範囲にスケールするための関数。\n",
        "scaler1.fit(Y)  # スケーリングに使用する最小／最大値を計算する。\n",
        "Y = scaler1.transform(Y)  # Yをを0～1の範囲にスケーリングする。\n",
        "\n",
        "X = np.reshape(X, (X.shape[0], 1, X.shape[1]))  # 3次元配列に変換する。\n",
        "\n",
        "print(X)"
      ],
      "execution_count": 145,
      "outputs": [
        {
          "output_type": "stream",
          "text": [
            "[[[0.         0.         0.         0.         0.54929577]]\n",
            "\n",
            " [[0.         0.         0.         0.54929577 0.57746479]]\n",
            "\n",
            " [[0.         0.         0.54929577 0.57746479 0.26760563]]\n",
            "\n",
            " ...\n",
            "\n",
            " [[0.11267606 0.1971831  0.05633803 0.23943662 0.21126761]]\n",
            "\n",
            " [[0.1971831  0.05633803 0.23943662 0.21126761 0.05633803]]\n",
            "\n",
            " [[0.05633803 0.23943662 0.21126761 0.05633803 0.18309859]]]\n"
          ],
          "name": "stdout"
        }
      ]
    },
    {
      "cell_type": "code",
      "metadata": {
        "id": "0RyzdzFE1TmY",
        "colab_type": "code",
        "colab": {
          "base_uri": "https://localhost:8080/",
          "height": 51
        },
        "outputId": "70e0065b-85d5-4d78-c9cc-b49f9db15c30"
      },
      "source": [
        "# train, testデータを定義\n",
        "X_train = X[:700, :, :]\n",
        "X_test = X[700:, :, :]\n",
        "Y_train = Y[:700, :]\n",
        "Y_test = Y[700:, :]\n",
        "\n",
        "print(len(X_train))\n",
        "print(len(X_test))"
      ],
      "execution_count": 146,
      "outputs": [
        {
          "output_type": "stream",
          "text": [
            "700\n",
            "345\n"
          ],
          "name": "stdout"
        }
      ]
    },
    {
      "cell_type": "code",
      "metadata": {
        "id": "U0fIyIjOmQwF",
        "colab_type": "code",
        "colab": {}
      },
      "source": [
        "model = Sequential()\n",
        "model.add(LSTM(10, \n",
        "               activation = 'tanh', \n",
        "               input_shape = (1,5), \n",
        "               recurrent_activation= 'hard_sigmoid'))\n",
        "model.add(Dense(1))\n",
        "\n",
        "model.compile(loss= 'mean_squared_error', \n",
        "              optimizer = 'rmsprop', \n",
        "              metrics=[metrics.mae])\n",
        "model.fit(X_train, Y_train, epochs=100, verbose=0)\n",
        "Predict = model.predict(X_test)\n"
      ],
      "execution_count": 147,
      "outputs": []
    },
    {
      "cell_type": "code",
      "metadata": {
        "id": "Ghns25i9EJ9r",
        "colab_type": "code",
        "colab": {
          "base_uri": "https://localhost:8080/",
          "height": 221
        },
        "outputId": "e1cff120-8ba3-4a8d-8329-5b128d940a26"
      },
      "source": [
        "# オリジナルのスケールに戻す、タイムインデックスを付ける。\n",
        "Y_train = scaler1.inverse_transform(Y_train)\n",
        "Y_train = pd.DataFrame(Y_train)\n",
        "Y_train.index = pd.to_datetime(df.iloc[5:705,0])\n",
        "\n",
        "print(df.iloc[5:705,0])\n",
        "\n",
        "Y_test = scaler1.inverse_transform(Y_test)\n",
        "Y_test = pd.DataFrame(Y_test)\n",
        "Y_test.index = pd.to_datetime(df.iloc[705:,0])\n",
        "\n",
        "Predict = scaler1.inverse_transform(Predict)\n",
        "Predict = pd.DataFrame(Predict)\n",
        "Predict.index=pd.to_datetime(df.iloc[705:,0])\n"
      ],
      "execution_count": 148,
      "outputs": [
        {
          "output_type": "stream",
          "text": [
            "5      2013-01-06 00:00:00\n",
            "6      2013-01-07 00:00:00\n",
            "7      2013-01-08 00:00:00\n",
            "8      2013-01-09 00:00:00\n",
            "9      2013-01-10 00:00:00\n",
            "              ...         \n",
            "700    2014-12-02 00:00:00\n",
            "701    2014-12-03 00:00:00\n",
            "702    2014-12-04 00:00:00\n",
            "703    2014-12-05 00:00:00\n",
            "704    2014-12-06 00:00:00\n",
            "Name: date, Length: 700, dtype: object\n"
          ],
          "name": "stdout"
        }
      ]
    },
    {
      "cell_type": "code",
      "metadata": {
        "id": "rZKnengbEMmz",
        "colab_type": "code",
        "colab": {
          "base_uri": "https://localhost:8080/",
          "height": 532
        },
        "outputId": "0d35f2a1-dcb8-4aab-db1b-a1fd81443295"
      },
      "source": [
        "plt.figure(figsize=(15,10), facecolor='white')\n",
        "plt.plot(Y_test, label = 'Test')\n",
        "plt.plot(Predict, label = 'Prediction')\n",
        "plt.legend(loc='best')\n",
        "plt.show()"
      ],
      "execution_count": 149,
      "outputs": [
        {
          "output_type": "display_data",
          "data": {
            "image/png": "[encoded data removed]",
            "text/plain": [
              "<Figure size 1080x720 with 1 Axes>"
            ]
          },
          "metadata": {
            "tags": []
          }
        }
      ]
    }
  ]
}