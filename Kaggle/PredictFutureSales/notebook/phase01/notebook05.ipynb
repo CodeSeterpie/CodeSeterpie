{
  "nbformat": 4,
  "nbformat_minor": 0,
  "metadata": {
    "colab": {
      "name": "notebook05.ipynb",
      "provenance": [],
      "collapsed_sections": [],
      "toc_visible": true
    },
    "kernelspec": {
      "name": "python3",
      "display_name": "Python 3"
    }
  },
  "cells": [
    {
      "cell_type": "code",
      "metadata": {
        "id": "h8h9u9nrjDmW",
        "colab_type": "code",
        "colab": {
          "base_uri": "https://localhost:8080/",
          "height": 54
        },
        "outputId": "054ed1b7-b8fb-496f-d19b-6d256c1f96b8"
      },
      "source": [
        "from google.colab import drive\n",
        "drive.mount('/content/drive')"
      ],
      "execution_count": 1,
      "outputs": [
        {
          "output_type": "stream",
          "text": [
            "Drive already mounted at /content/drive; to attempt to forcibly remount, call drive.mount(\"/content/drive\", force_remount=True).\n"
          ],
          "name": "stdout"
        }
      ]
    },
    {
      "cell_type": "code",
      "metadata": {
        "id": "rKezVwBNetfx",
        "colab_type": "code",
        "colab": {
          "base_uri": "https://localhost:8080/",
          "height": 173
        },
        "outputId": "10465f78-9e5f-45e9-aabc-a8412fb97143"
      },
      "source": [
        "import os\n",
        "import pandas as pd\n",
        "import numpy as np\n",
        "import seaborn as sns\n",
        "import matplotlib.pyplot as plt\n",
        "from keras import metrics\n",
        "from keras.models import Sequential\n",
        "from keras.layers import Dense,  LSTM\n",
        "from sklearn.preprocessing import MinMaxScaler\n",
        "from datetime import date, timedelta\n",
        "\n",
        "# inputフォルダに格納されているファイルの一覧を出力\n",
        "BASE_PATH = '/content/drive/My Drive/CodeSeterpie/PredictFutureSales/input'\n",
        "\n",
        "for dirname, _, filenames in os.walk(BASE_PATH):\n",
        "    for filename in filenames:\n",
        "        print(os.path.join(dirname, filename))\n",
        "\n",
        "# データファイルの読み込み\n",
        "item_categories = pd.read_csv(BASE_PATH + '/item_categories.csv')\n",
        "items = pd.read_csv(BASE_PATH + '/items.csv')\n",
        "sales_train = pd.read_csv(BASE_PATH + '/sales_train.csv')\n",
        "sample_submission = pd.read_csv(BASE_PATH + '/sample_submission.csv')\n",
        "shops = pd.read_csv(BASE_PATH + '/shops.csv')\n",
        "test = pd.read_csv(BASE_PATH + '/test.csv')"
      ],
      "execution_count": 2,
      "outputs": [
        {
          "output_type": "stream",
          "text": [
            "/usr/local/lib/python3.6/dist-packages/statsmodels/tools/_testing.py:19: FutureWarning: pandas.util.testing is deprecated. Use the functions in the public API at pandas.testing instead.\n",
            "  import pandas.util.testing as tm\n"
          ],
          "name": "stderr"
        },
        {
          "output_type": "stream",
          "text": [
            "/content/drive/My Drive/CodeSeterpie/PredictFutureSales/input/item_categories.csv\n",
            "/content/drive/My Drive/CodeSeterpie/PredictFutureSales/input/items.csv\n",
            "/content/drive/My Drive/CodeSeterpie/PredictFutureSales/input/sales_train.csv\n",
            "/content/drive/My Drive/CodeSeterpie/PredictFutureSales/input/sample_submission.csv\n",
            "/content/drive/My Drive/CodeSeterpie/PredictFutureSales/input/shops.csv\n",
            "/content/drive/My Drive/CodeSeterpie/PredictFutureSales/input/test.csv\n"
          ],
          "name": "stdout"
        }
      ]
    },
    {
      "cell_type": "code",
      "metadata": {
        "id": "2QCdwJyShmSp",
        "colab_type": "code",
        "colab": {
          "base_uri": "https://localhost:8080/",
          "height": 204
        },
        "outputId": "553335e6-ed70-4a95-8402-bb2eaebc361f"
      },
      "source": [
        "test.head()"
      ],
      "execution_count": 3,
      "outputs": [
        {
          "output_type": "execute_result",
          "data": {
            "text/html": [
              "<div>\n",
              "<style scoped>\n",
              "    .dataframe tbody tr th:only-of-type {\n",
              "        vertical-align: middle;\n",
              "    }\n",
              "\n",
              "    .dataframe tbody tr th {\n",
              "        vertical-align: top;\n",
              "    }\n",
              "\n",
              "    .dataframe thead th {\n",
              "        text-align: right;\n",
              "    }\n",
              "</style>\n",
              "<table border=\"1\" class=\"dataframe\">\n",
              "  <thead>\n",
              "    <tr style=\"text-align: right;\">\n",
              "      <th></th>\n",
              "      <th>ID</th>\n",
              "      <th>shop_id</th>\n",
              "      <th>item_id</th>\n",
              "    </tr>\n",
              "  </thead>\n",
              "  <tbody>\n",
              "    <tr>\n",
              "      <th>0</th>\n",
              "      <td>0</td>\n",
              "      <td>5</td>\n",
              "      <td>5037</td>\n",
              "    </tr>\n",
              "    <tr>\n",
              "      <th>1</th>\n",
              "      <td>1</td>\n",
              "      <td>5</td>\n",
              "      <td>5320</td>\n",
              "    </tr>\n",
              "    <tr>\n",
              "      <th>2</th>\n",
              "      <td>2</td>\n",
              "      <td>5</td>\n",
              "      <td>5233</td>\n",
              "    </tr>\n",
              "    <tr>\n",
              "      <th>3</th>\n",
              "      <td>3</td>\n",
              "      <td>5</td>\n",
              "      <td>5232</td>\n",
              "    </tr>\n",
              "    <tr>\n",
              "      <th>4</th>\n",
              "      <td>4</td>\n",
              "      <td>5</td>\n",
              "      <td>5268</td>\n",
              "    </tr>\n",
              "  </tbody>\n",
              "</table>\n",
              "</div>"
            ],
            "text/plain": [
              "   ID  shop_id  item_id\n",
              "0   0        5     5037\n",
              "1   1        5     5320\n",
              "2   2        5     5233\n",
              "3   3        5     5232\n",
              "4   4        5     5268"
            ]
          },
          "metadata": {
            "tags": []
          },
          "execution_count": 3
        }
      ]
    },
    {
      "cell_type": "code",
      "metadata": {
        "id": "JtNlsFNgiMcV",
        "colab_type": "code",
        "colab": {
          "base_uri": "https://localhost:8080/",
          "height": 204
        },
        "outputId": "6db3bdae-9b6d-4045-83d8-f48bf2edff85"
      },
      "source": [
        "# 予測対象のファイル(test)をベースに、\n",
        "# 2013年1月(date_block_num=0)〜2015年11月(date_block_num=35)まで増幅する\n",
        "test_201301to201511 = test.copy()\n",
        "\n",
        "test_201301to201511['crossjoin_key'] = 1\n",
        "\n",
        "data_fill = pd.DataFrame({'crossjoin_key' : 1,\n",
        "                          'date_block_num' : range(0, 35)})\n",
        "\n",
        "test_201301to201511 = pd.merge(test_201301to201511, \n",
        "                               data_fill, \n",
        "                               how='outer', \n",
        "                               on='crossjoin_key')\n",
        "\n",
        "test_201301to201511 = test_201301to201511.drop(['crossjoin_key'], axis=1)\n",
        "\n",
        "test_201301to201511.head()"
      ],
      "execution_count": 4,
      "outputs": [
        {
          "output_type": "execute_result",
          "data": {
            "text/html": [
              "<div>\n",
              "<style scoped>\n",
              "    .dataframe tbody tr th:only-of-type {\n",
              "        vertical-align: middle;\n",
              "    }\n",
              "\n",
              "    .dataframe tbody tr th {\n",
              "        vertical-align: top;\n",
              "    }\n",
              "\n",
              "    .dataframe thead th {\n",
              "        text-align: right;\n",
              "    }\n",
              "</style>\n",
              "<table border=\"1\" class=\"dataframe\">\n",
              "  <thead>\n",
              "    <tr style=\"text-align: right;\">\n",
              "      <th></th>\n",
              "      <th>ID</th>\n",
              "      <th>shop_id</th>\n",
              "      <th>item_id</th>\n",
              "      <th>date_block_num</th>\n",
              "    </tr>\n",
              "  </thead>\n",
              "  <tbody>\n",
              "    <tr>\n",
              "      <th>0</th>\n",
              "      <td>0</td>\n",
              "      <td>5</td>\n",
              "      <td>5037</td>\n",
              "      <td>0</td>\n",
              "    </tr>\n",
              "    <tr>\n",
              "      <th>1</th>\n",
              "      <td>0</td>\n",
              "      <td>5</td>\n",
              "      <td>5037</td>\n",
              "      <td>1</td>\n",
              "    </tr>\n",
              "    <tr>\n",
              "      <th>2</th>\n",
              "      <td>0</td>\n",
              "      <td>5</td>\n",
              "      <td>5037</td>\n",
              "      <td>2</td>\n",
              "    </tr>\n",
              "    <tr>\n",
              "      <th>3</th>\n",
              "      <td>0</td>\n",
              "      <td>5</td>\n",
              "      <td>5037</td>\n",
              "      <td>3</td>\n",
              "    </tr>\n",
              "    <tr>\n",
              "      <th>4</th>\n",
              "      <td>0</td>\n",
              "      <td>5</td>\n",
              "      <td>5037</td>\n",
              "      <td>4</td>\n",
              "    </tr>\n",
              "  </tbody>\n",
              "</table>\n",
              "</div>"
            ],
            "text/plain": [
              "   ID  shop_id  item_id  date_block_num\n",
              "0   0        5     5037               0\n",
              "1   0        5     5037               1\n",
              "2   0        5     5037               2\n",
              "3   0        5     5037               3\n",
              "4   0        5     5037               4"
            ]
          },
          "metadata": {
            "tags": []
          },
          "execution_count": 4
        }
      ]
    },
    {
      "cell_type": "code",
      "metadata": {
        "id": "8vrfAPiNo1xD",
        "colab_type": "code",
        "colab": {
          "base_uri": "https://localhost:8080/",
          "height": 204
        },
        "outputId": "f3688f59-5f54-45c1-fdea-867dce42fb73"
      },
      "source": [
        "# salse_trainからshop_id、item_id別に月ごとの売上数を算出する\n",
        "# Todo:追加の特徴量として、item_priceの月ごとの平均値等を算出してもいいかもしれない。\n",
        "sales_train_groupby = sales_train.drop(['date', 'item_price'], axis=1)\n",
        "sales_train_groupby = sales_train_groupby.groupby(['date_block_num', \n",
        "                                                   'shop_id', \n",
        "                                                   'item_id']).sum().reset_index()\n",
        "\n",
        "sales_train_groupby.head()"
      ],
      "execution_count": 5,
      "outputs": [
        {
          "output_type": "execute_result",
          "data": {
            "text/html": [
              "<div>\n",
              "<style scoped>\n",
              "    .dataframe tbody tr th:only-of-type {\n",
              "        vertical-align: middle;\n",
              "    }\n",
              "\n",
              "    .dataframe tbody tr th {\n",
              "        vertical-align: top;\n",
              "    }\n",
              "\n",
              "    .dataframe thead th {\n",
              "        text-align: right;\n",
              "    }\n",
              "</style>\n",
              "<table border=\"1\" class=\"dataframe\">\n",
              "  <thead>\n",
              "    <tr style=\"text-align: right;\">\n",
              "      <th></th>\n",
              "      <th>date_block_num</th>\n",
              "      <th>shop_id</th>\n",
              "      <th>item_id</th>\n",
              "      <th>item_cnt_day</th>\n",
              "    </tr>\n",
              "  </thead>\n",
              "  <tbody>\n",
              "    <tr>\n",
              "      <th>0</th>\n",
              "      <td>0</td>\n",
              "      <td>0</td>\n",
              "      <td>32</td>\n",
              "      <td>6.0</td>\n",
              "    </tr>\n",
              "    <tr>\n",
              "      <th>1</th>\n",
              "      <td>0</td>\n",
              "      <td>0</td>\n",
              "      <td>33</td>\n",
              "      <td>3.0</td>\n",
              "    </tr>\n",
              "    <tr>\n",
              "      <th>2</th>\n",
              "      <td>0</td>\n",
              "      <td>0</td>\n",
              "      <td>35</td>\n",
              "      <td>1.0</td>\n",
              "    </tr>\n",
              "    <tr>\n",
              "      <th>3</th>\n",
              "      <td>0</td>\n",
              "      <td>0</td>\n",
              "      <td>43</td>\n",
              "      <td>1.0</td>\n",
              "    </tr>\n",
              "    <tr>\n",
              "      <th>4</th>\n",
              "      <td>0</td>\n",
              "      <td>0</td>\n",
              "      <td>51</td>\n",
              "      <td>2.0</td>\n",
              "    </tr>\n",
              "  </tbody>\n",
              "</table>\n",
              "</div>"
            ],
            "text/plain": [
              "   date_block_num  shop_id  item_id  item_cnt_day\n",
              "0               0        0       32           6.0\n",
              "1               0        0       33           3.0\n",
              "2               0        0       35           1.0\n",
              "3               0        0       43           1.0\n",
              "4               0        0       51           2.0"
            ]
          },
          "metadata": {
            "tags": []
          },
          "execution_count": 5
        }
      ]
    },
    {
      "cell_type": "code",
      "metadata": {
        "id": "b37np-VFiiRb",
        "colab_type": "code",
        "colab": {
          "base_uri": "https://localhost:8080/",
          "height": 204
        },
        "outputId": "5c49be2d-bfc4-4649-9d8c-6cabb26d10ff"
      },
      "source": [
        "# test_201301to201511に各月の売上数を結合。\n",
        "test_201301to201511 = pd.merge(test_201301to201511, \n",
        "                               sales_train_groupby, \n",
        "                               how='left', \n",
        "                               left_on=['shop_id', 'item_id', 'date_block_num'], \n",
        "                               right_on=['shop_id', 'item_id', 'date_block_num'])\n",
        " \n",
        "# 全ての月に売上数のデータがあるわけではないので、データがない箇所は0.0で埋める\n",
        "test_201301to201511 = test_201301to201511.fillna({'item_cnt_day' : 0.0})\n",
        "\n",
        "# データをソートし直す\n",
        "test_201301to201511 = test_201301to201511.sort_values(['date_block_num', 'ID'])\n",
        "test_201301to201511 = test_201301to201511.reset_index(drop=True)\n",
        "\n",
        "test_201301to201511.head()"
      ],
      "execution_count": 6,
      "outputs": [
        {
          "output_type": "execute_result",
          "data": {
            "text/html": [
              "<div>\n",
              "<style scoped>\n",
              "    .dataframe tbody tr th:only-of-type {\n",
              "        vertical-align: middle;\n",
              "    }\n",
              "\n",
              "    .dataframe tbody tr th {\n",
              "        vertical-align: top;\n",
              "    }\n",
              "\n",
              "    .dataframe thead th {\n",
              "        text-align: right;\n",
              "    }\n",
              "</style>\n",
              "<table border=\"1\" class=\"dataframe\">\n",
              "  <thead>\n",
              "    <tr style=\"text-align: right;\">\n",
              "      <th></th>\n",
              "      <th>ID</th>\n",
              "      <th>shop_id</th>\n",
              "      <th>item_id</th>\n",
              "      <th>date_block_num</th>\n",
              "      <th>item_cnt_day</th>\n",
              "    </tr>\n",
              "  </thead>\n",
              "  <tbody>\n",
              "    <tr>\n",
              "      <th>0</th>\n",
              "      <td>0</td>\n",
              "      <td>5</td>\n",
              "      <td>5037</td>\n",
              "      <td>0</td>\n",
              "      <td>0.0</td>\n",
              "    </tr>\n",
              "    <tr>\n",
              "      <th>1</th>\n",
              "      <td>1</td>\n",
              "      <td>5</td>\n",
              "      <td>5320</td>\n",
              "      <td>0</td>\n",
              "      <td>0.0</td>\n",
              "    </tr>\n",
              "    <tr>\n",
              "      <th>2</th>\n",
              "      <td>2</td>\n",
              "      <td>5</td>\n",
              "      <td>5233</td>\n",
              "      <td>0</td>\n",
              "      <td>0.0</td>\n",
              "    </tr>\n",
              "    <tr>\n",
              "      <th>3</th>\n",
              "      <td>3</td>\n",
              "      <td>5</td>\n",
              "      <td>5232</td>\n",
              "      <td>0</td>\n",
              "      <td>0.0</td>\n",
              "    </tr>\n",
              "    <tr>\n",
              "      <th>4</th>\n",
              "      <td>4</td>\n",
              "      <td>5</td>\n",
              "      <td>5268</td>\n",
              "      <td>0</td>\n",
              "      <td>0.0</td>\n",
              "    </tr>\n",
              "  </tbody>\n",
              "</table>\n",
              "</div>"
            ],
            "text/plain": [
              "   ID  shop_id  item_id  date_block_num  item_cnt_day\n",
              "0   0        5     5037               0           0.0\n",
              "1   1        5     5320               0           0.0\n",
              "2   2        5     5233               0           0.0\n",
              "3   3        5     5232               0           0.0\n",
              "4   4        5     5268               0           0.0"
            ]
          },
          "metadata": {
            "tags": []
          },
          "execution_count": 6
        }
      ]
    },
    {
      "cell_type": "code",
      "metadata": {
        "id": "kFQDB1yPhdv8",
        "colab_type": "code",
        "colab": {
          "base_uri": "https://localhost:8080/",
          "height": 51
        },
        "outputId": "3e502fc2-20e8-41b9-bf21-cc21d162c522"
      },
      "source": [
        "len_one_month = len(test)\n",
        "len_201301to201511 = len(test_201301to201511)\n",
        "\n",
        "print(f'len_one_month: {len_one_month :.0f}')\n",
        "print(f'len_201301to201511: {len_201301to201511 :.0f}')"
      ],
      "execution_count": 7,
      "outputs": [
        {
          "output_type": "stream",
          "text": [
            "len_one_month: 214200\n",
            "len_201301to201511: 7497000\n"
          ],
          "name": "stdout"
        }
      ]
    },
    {
      "cell_type": "code",
      "metadata": {
        "id": "10mU2KFw7S2g",
        "colab_type": "code",
        "colab": {
          "base_uri": "https://localhost:8080/",
          "height": 255
        },
        "outputId": "af07c095-f46e-4b9c-dbb8-713586f06468"
      },
      "source": [
        "item_cnt_day = test_201301to201511.iloc[:, 4]  # item_cnt_day列のみ抽出する。\n",
        "item_cnt_day = np.array(item_cnt_day)                     # numpy配列に変換する。\n",
        "item_cnt_day = item_cnt_day.reshape(-1, 1)                # 行列に変換する。（配列の要素数行×1列）\n",
        "\n",
        "date_block_num = test_201301to201511.iloc[:, 3] # date_block_num列のみ抽出する。\n",
        "date_block_num = np.array(date_block_num)       # numpy配列に変換する。\n",
        "date_block_num = date_block_num.reshape(-1, 1)  # 行列に変換する。（配列の要素数行×1列）\n",
        "\n",
        "X1 = item_cnt_day[0*len_one_month:len_201301to201511-5*len_one_month, :]     # 予測対象の5ヶ月前のデータ\n",
        "X2 = item_cnt_day[1*len_one_month:len_201301to201511-4*len_one_month, :]     # 予測対象の4ヶ月前のデータ\n",
        "X3 = item_cnt_day[2*len_one_month:len_201301to201511-3*len_one_month, :]     # 予測対象の3ヶ月前のデータ\n",
        "X4 = item_cnt_day[3*len_one_month:len_201301to201511-2*len_one_month, :]     # 予測対象の2ヶ月前のデータ\n",
        "X5 = item_cnt_day[4*len_one_month:len_201301to201511-1*len_one_month, :]     # 予測対象の前月データ\n",
        "Y  = item_cnt_day[5*len_one_month:len_201301to201511, :]                 # 予測対象月のデータ\n",
        "date_block_num = date_block_num[5*len_one_month:len_201301to201511, :]  # 予測対象月のデータ\n",
        "\n",
        "# numpy配列を結合する。\n",
        "X = np.concatenate([date_block_num, X1, X2, X3, X4, X5], axis=1)  \n",
        "\n",
        "print(Y)\n",
        "print(X)"
      ],
      "execution_count": 8,
      "outputs": [
        {
          "output_type": "stream",
          "text": [
            "[[0.]\n",
            " [0.]\n",
            " [0.]\n",
            " ...\n",
            " [0.]\n",
            " [0.]\n",
            " [0.]]\n",
            "[[ 5.  0.  0.  0.  0.  0.]\n",
            " [ 5.  0.  0.  0.  0.  0.]\n",
            " [ 5.  0.  0.  0.  0.  0.]\n",
            " ...\n",
            " [34.  0.  0.  0.  0.  0.]\n",
            " [34.  0.  0.  0.  0.  0.]\n",
            " [34.  0.  0.  0.  0.  0.]]\n"
          ],
          "name": "stdout"
        }
      ]
    },
    {
      "cell_type": "code",
      "metadata": {
        "id": "puW0WZmjD5_W",
        "colab_type": "code",
        "colab": {
          "base_uri": "https://localhost:8080/",
          "height": 357
        },
        "outputId": "61ae8da0-4eda-4356-86e0-18f8dde05183"
      },
      "source": [
        "scaler_X = MinMaxScaler()  # データを0～1の範囲にスケールするための関数。\n",
        "scaler_X.fit(X)  # スケーリングに使用する最小／最大値を計算する。\n",
        "X = scaler_X.transform(X)  # Xをを0～1の範囲にスケーリングする。\n",
        "X = np.reshape(X, (X.shape[0], 1, X.shape[1]))  # 3次元配列に変換する。\n",
        "\n",
        "scaler_Y = MinMaxScaler()  # データを0～1の範囲にスケールするための関数。\n",
        "scaler_Y.fit(Y)  # スケーリングに使用する最小／最大値を計算する。\n",
        "Y = scaler_Y.transform(Y)  # Yをを0～1の範囲にスケーリングする。\n",
        "\n",
        "print(X)\n",
        "print(Y)"
      ],
      "execution_count": 9,
      "outputs": [
        {
          "output_type": "stream",
          "text": [
            "[[[0.         0.00305577 0.00305577 0.00305577 0.00305577 0.00177226]]\n",
            "\n",
            " [[0.         0.00305577 0.00305577 0.00305577 0.00305577 0.00177226]]\n",
            "\n",
            " [[0.         0.00305577 0.00305577 0.00305577 0.00305577 0.00177226]]\n",
            "\n",
            " ...\n",
            "\n",
            " [[1.         0.00305577 0.00305577 0.00305577 0.00305577 0.00177226]]\n",
            "\n",
            " [[1.         0.00305577 0.00305577 0.00305577 0.00305577 0.00177226]]\n",
            "\n",
            " [[1.         0.00305577 0.00305577 0.00305577 0.00305577 0.00177226]]]\n",
            "[[0.00177226]\n",
            " [0.00177226]\n",
            " [0.00177226]\n",
            " ...\n",
            " [0.00177226]\n",
            " [0.00177226]\n",
            " [0.00177226]]\n"
          ],
          "name": "stdout"
        }
      ]
    },
    {
      "cell_type": "code",
      "metadata": {
        "id": "mYwY2i9-z3-f",
        "colab_type": "code",
        "colab": {
          "base_uri": "https://localhost:8080/",
          "height": 68
        },
        "outputId": "3dab8d7b-e778-4a27-c96b-d1eef9cc0d03"
      },
      "source": [
        "len_X = len(X)\n",
        "\n",
        "print(f'len_X: {len_X:.0f}')\n",
        "print(f'len_one_month: {len_one_month:.0f}')\n",
        "print(f'len_201301to201511: {len_201301to201511:.0f}')"
      ],
      "execution_count": 10,
      "outputs": [
        {
          "output_type": "stream",
          "text": [
            "len_X: 6426000\n",
            "len_one_month: 214200\n",
            "len_201301to201511: 7497000\n"
          ],
          "name": "stdout"
        }
      ]
    },
    {
      "cell_type": "code",
      "metadata": {
        "id": "0RyzdzFE1TmY",
        "colab_type": "code",
        "colab": {
          "base_uri": "https://localhost:8080/",
          "height": 68
        },
        "outputId": "e093464b-12dd-414e-a1ec-bdbde7df98f3"
      },
      "source": [
        "# train, validation, testデータを定義\n",
        "tr_X = X[                     :len_X-len_one_month*2, :, :]\n",
        "va_X = X[len_X-len_one_month*2:len_X-len_one_month*1, :, :]\n",
        "te_X = X[len_X-len_one_month*1:                     , :, :]\n",
        "\n",
        "tr_Y = Y[                     :len_X-len_one_month*2, :]\n",
        "va_Y = Y[len_X-len_one_month*2:len_X-len_one_month*1, :]\n",
        "te_Y = Y[len_X-len_one_month*1:                     , :]\n",
        "\n",
        "print(len(tr_X))\n",
        "print(len(va_X))\n",
        "print(len(te_X))"
      ],
      "execution_count": 11,
      "outputs": [
        {
          "output_type": "stream",
          "text": [
            "5997600\n",
            "214200\n",
            "214200\n"
          ],
          "name": "stdout"
        }
      ]
    },
    {
      "cell_type": "code",
      "metadata": {
        "id": "U0fIyIjOmQwF",
        "colab_type": "code",
        "colab": {
          "base_uri": "https://localhost:8080/",
          "height": 34
        },
        "outputId": "43d4e016-9708-4724-8072-3e37bca3891e"
      },
      "source": [
        "# データ予測用のモデルを作成\n",
        "model = Sequential()\n",
        "model.add(LSTM(10, \n",
        "               activation = 'tanh', \n",
        "               input_shape = (1,6), \n",
        "               recurrent_activation= 'hard_sigmoid'))\n",
        "model.add(Dense(1))\n",
        "\n",
        "model.compile(loss= 'mean_squared_error', \n",
        "              optimizer = 'rmsprop', \n",
        "              metrics=[metrics.mae])\n",
        "\n",
        "model.fit(tr_X, \n",
        "          tr_Y, \n",
        "          epochs=1, \n",
        "          verbose=2)\n",
        "\n",
        "te_pred = model.predict(te_X)\n",
        "va_pred = model.predict(va_X)\n"
      ],
      "execution_count": 12,
      "outputs": [
        {
          "output_type": "stream",
          "text": [
            "187425/187425 - 225s - loss: 1.7433e-06 - mean_absolute_error: 6.4908e-04\n"
          ],
          "name": "stdout"
        }
      ]
    },
    {
      "cell_type": "code",
      "metadata": {
        "id": "foex5m1yJo_s",
        "colab_type": "code",
        "colab": {
          "base_uri": "https://localhost:8080/",
          "height": 255
        },
        "outputId": "acdbf0fd-4d6c-4f61-a102-9edbe617e733"
      },
      "source": [
        "print(va_Y)\n",
        "print(va_pred)"
      ],
      "execution_count": 13,
      "outputs": [
        {
          "output_type": "stream",
          "text": [
            "[[0.00177226]\n",
            " [0.00177226]\n",
            " [0.00221533]\n",
            " ...\n",
            " [0.00177226]\n",
            " [0.00177226]\n",
            " [0.00177226]]\n",
            "[[0.00273457]\n",
            " [0.00241291]\n",
            " [0.0028216 ]\n",
            " ...\n",
            " [0.00241291]\n",
            " [0.00241291]\n",
            " [0.00241291]]\n"
          ],
          "name": "stdout"
        }
      ]
    },
    {
      "cell_type": "code",
      "metadata": {
        "id": "Ghns25i9EJ9r",
        "colab_type": "code",
        "colab": {
          "base_uri": "https://localhost:8080/",
          "height": 493
        },
        "outputId": "e0973aaf-d531-4a91-8e4e-a90710a2a1dd"
      },
      "source": [
        "# オリジナルのスケールに戻す。\n",
        "inv_tr_Y = scaler_Y.inverse_transform(tr_Y)\n",
        "inv_tr_Y = pd.DataFrame(inv_tr_Y)\n",
        "\n",
        "inv_va_Y = scaler_Y.inverse_transform(va_Y)\n",
        "inv_va_Y = pd.DataFrame(inv_va_Y)\n",
        "\n",
        "inv_te_pred = scaler_Y.inverse_transform(te_pred)\n",
        "inv_te_pred = pd.DataFrame(inv_te_pred)\n",
        "\n",
        "inv_va_pred = scaler_Y.inverse_transform(va_pred)\n",
        "inv_va_pred = pd.DataFrame(inv_va_pred)\n",
        "\n",
        "print(inv_va_Y)\n",
        "print(inv_va_pred)"
      ],
      "execution_count": 15,
      "outputs": [
        {
          "output_type": "stream",
          "text": [
            "          0\n",
            "0       0.0\n",
            "1       0.0\n",
            "2       1.0\n",
            "3       0.0\n",
            "4       0.0\n",
            "...     ...\n",
            "214195  1.0\n",
            "214196  0.0\n",
            "214197  0.0\n",
            "214198  0.0\n",
            "214199  0.0\n",
            "\n",
            "[214200 rows x 1 columns]\n",
            "               0\n",
            "0       2.171925\n",
            "1       1.445935\n",
            "2       2.368361\n",
            "3       1.564607\n",
            "4       1.445935\n",
            "...          ...\n",
            "214195  1.445935\n",
            "214196  1.445935\n",
            "214197  1.445935\n",
            "214198  1.445935\n",
            "214199  1.445935\n",
            "\n",
            "[214200 rows x 1 columns]\n"
          ],
          "name": "stdout"
        }
      ]
    },
    {
      "cell_type": "code",
      "metadata": {
        "id": "rZKnengbEMmz",
        "colab_type": "code",
        "colab": {
          "base_uri": "https://localhost:8080/",
          "height": 476
        },
        "outputId": "7fece0f7-bc8d-4bf9-c4e5-d1762c2af4e7"
      },
      "source": [
        "# 予測値と真の値をプロット\n",
        "plt.figure(figsize=(15,10), facecolor='white')\n",
        "plt.plot(inv_va_Y, label = 'true value')\n",
        "plt.plot(inv_va_pred, label = 'prediction')\n",
        "plt.legend(loc='best')\n",
        "plt.show()"
      ],
      "execution_count": 16,
      "outputs": [
        {
          "output_type": "display_data",
          "data": {
            "image/png": "[encoded data removed]",
            "text/plain": [
              "<Figure size 1080x720 with 1 Axes>"
            ]
          },
          "metadata": {
            "tags": []
          }
        }
      ]
    },
    {
      "cell_type": "code",
      "metadata": {
        "id": "tbynSCZ-_dbe",
        "colab_type": "code",
        "colab": {
          "base_uri": "https://localhost:8080/",
          "height": 255
        },
        "outputId": "8852050a-8d64-4852-91a7-61057b3808b2"
      },
      "source": [
        "# Kaggle提出用のcsvファイルを出力する\n",
        "sub = inv_te_pred.copy()\n",
        "sub.columns = ['item_cnt_month']\n",
        "sub['ID'] = sub.index\n",
        "sub = sub.loc[:, ['ID', 'item_cnt_month']]\n",
        "\n",
        "print(sub)\n",
        "\n",
        "sub.to_csv('submisson.csv', index=False)"
      ],
      "execution_count": 17,
      "outputs": [
        {
          "output_type": "stream",
          "text": [
            "            ID  item_cnt_month\n",
            "0            0        1.918066\n",
            "1            1        1.438685\n",
            "2            2        2.161558\n",
            "3            3        1.519241\n",
            "4            4        1.438685\n",
            "...        ...             ...\n",
            "214195  214195        1.600206\n",
            "214196  214196        1.438685\n",
            "214197  214197        1.438685\n",
            "214198  214198        1.438685\n",
            "214199  214199        1.438685\n",
            "\n",
            "[214200 rows x 2 columns]\n"
          ],
          "name": "stdout"
        }
      ]
    }
  ]
}